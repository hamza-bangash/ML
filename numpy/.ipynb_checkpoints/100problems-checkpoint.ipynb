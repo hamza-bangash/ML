{
 "cells": [
  {
   "cell_type": "markdown",
   "id": "c3445508-fbdf-4089-80c9-56c2c1d092e6",
   "metadata": {},
   "source": [
    "1. Import the numpy package under the name np"
   ]
  },
  {
   "cell_type": "code",
   "execution_count": 2,
   "id": "6cdf95e6-18a3-4f9c-b71b-3015bb4486b4",
   "metadata": {},
   "outputs": [],
   "source": [
    "import numpy as np"
   ]
  },
  {
   "cell_type": "markdown",
   "id": "13b92a70-1b56-4589-be67-5e226550343e",
   "metadata": {},
   "source": [
    "2. Print the numpy version and the configuration"
   ]
  },
  {
   "cell_type": "code",
   "execution_count": 3,
   "id": "0be3e96d-c616-491d-b483-86bfddf4c752",
   "metadata": {},
   "outputs": [
    {
     "data": {
      "text/plain": [
       "'1.26.4'"
      ]
     },
     "execution_count": 3,
     "metadata": {},
     "output_type": "execute_result"
    }
   ],
   "source": [
    "np.__version__"
   ]
  },
  {
   "cell_type": "code",
   "execution_count": 4,
   "id": "e33b7abc-3399-471f-9de0-ea1003bf6979",
   "metadata": {},
   "outputs": [
    {
     "name": "stdout",
     "output_type": "stream",
     "text": [
      "Build Dependencies:\n",
      "  blas:\n",
      "    detection method: pkgconfig\n",
      "    found: true\n",
      "    include directory: /home/hamza/anaconda3/include\n",
      "    lib directory: /home/hamza/anaconda3/lib\n",
      "    name: mkl-sdl\n",
      "    openblas configuration: unknown\n",
      "    pc file directory: /home/hamza/anaconda3/lib/pkgconfig\n",
      "    version: '2023.1'\n",
      "  lapack:\n",
      "    detection method: internal\n",
      "    found: true\n",
      "    include directory: unknown\n",
      "    lib directory: unknown\n",
      "    name: dep140137493227056\n",
      "    openblas configuration: unknown\n",
      "    pc file directory: unknown\n",
      "    version: 1.26.4\n",
      "Compilers:\n",
      "  c:\n",
      "    args: -march=nocona, -mtune=haswell, -ftree-vectorize, -fPIC, -fstack-protector-strong,\n",
      "      -fno-plt, -O2, -ffunction-sections, -pipe, -isystem, /home/hamza/anaconda3/include,\n",
      "      -fdebug-prefix-map=/croot/numpy_and_numpy_base_1708638617955/work=/usr/local/src/conda/numpy-base-1.26.4,\n",
      "      -fdebug-prefix-map=/home/hamza/anaconda3=/usr/local/src/conda-prefix, -DNDEBUG,\n",
      "      -D_FORTIFY_SOURCE=2, -O2, -isystem, /home/hamza/anaconda3/include\n",
      "    commands: /croot/numpy_and_numpy_base_1708638617955/_build_env/bin/x86_64-conda-linux-gnu-cc\n",
      "    linker: ld.bfd\n",
      "    linker args: -Wl,-O2, -Wl,--sort-common, -Wl,--as-needed, -Wl,-z,relro, -Wl,-z,now,\n",
      "      -Wl,--disable-new-dtags, -Wl,--gc-sections, -Wl,-rpath,/home/hamza/anaconda3/lib,\n",
      "      -Wl,-rpath-link,/home/hamza/anaconda3/lib, -L/home/hamza/anaconda3/lib, -march=nocona,\n",
      "      -mtune=haswell, -ftree-vectorize, -fPIC, -fstack-protector-strong, -fno-plt,\n",
      "      -O2, -ffunction-sections, -pipe, -isystem, /home/hamza/anaconda3/include, -fdebug-prefix-map=/croot/numpy_and_numpy_base_1708638617955/work=/usr/local/src/conda/numpy-base-1.26.4,\n",
      "      -fdebug-prefix-map=/home/hamza/anaconda3=/usr/local/src/conda-prefix, -DNDEBUG,\n",
      "      -D_FORTIFY_SOURCE=2, -O2, -isystem, /home/hamza/anaconda3/include\n",
      "    name: gcc\n",
      "    version: 11.2.0\n",
      "  c++:\n",
      "    args: -fvisibility-inlines-hidden, -std=c++17, -fmessage-length=0, -march=nocona,\n",
      "      -mtune=haswell, -ftree-vectorize, -fPIC, -fstack-protector-strong, -fno-plt,\n",
      "      -O2, -ffunction-sections, -pipe, -isystem, /home/hamza/anaconda3/include, -fdebug-prefix-map=/croot/numpy_and_numpy_base_1708638617955/work=/usr/local/src/conda/numpy-base-1.26.4,\n",
      "      -fdebug-prefix-map=/home/hamza/anaconda3=/usr/local/src/conda-prefix, -DNDEBUG,\n",
      "      -D_FORTIFY_SOURCE=2, -O2, -isystem, /home/hamza/anaconda3/include\n",
      "    commands: /croot/numpy_and_numpy_base_1708638617955/_build_env/bin/x86_64-conda-linux-gnu-c++\n",
      "    linker: ld.bfd\n",
      "    linker args: -Wl,-O2, -Wl,--sort-common, -Wl,--as-needed, -Wl,-z,relro, -Wl,-z,now,\n",
      "      -Wl,--disable-new-dtags, -Wl,--gc-sections, -Wl,-rpath,/home/hamza/anaconda3/lib,\n",
      "      -Wl,-rpath-link,/home/hamza/anaconda3/lib, -L/home/hamza/anaconda3/lib, -fvisibility-inlines-hidden,\n",
      "      -std=c++17, -fmessage-length=0, -march=nocona, -mtune=haswell, -ftree-vectorize,\n",
      "      -fPIC, -fstack-protector-strong, -fno-plt, -O2, -ffunction-sections, -pipe,\n",
      "      -isystem, /home/hamza/anaconda3/include, -fdebug-prefix-map=/croot/numpy_and_numpy_base_1708638617955/work=/usr/local/src/conda/numpy-base-1.26.4,\n",
      "      -fdebug-prefix-map=/home/hamza/anaconda3=/usr/local/src/conda-prefix, -DNDEBUG,\n",
      "      -D_FORTIFY_SOURCE=2, -O2, -isystem, /home/hamza/anaconda3/include\n",
      "    name: gcc\n",
      "    version: 11.2.0\n",
      "  cython:\n",
      "    commands: cython\n",
      "    linker: cython\n",
      "    name: cython\n",
      "    version: 3.0.8\n",
      "Machine Information:\n",
      "  build:\n",
      "    cpu: x86_64\n",
      "    endian: little\n",
      "    family: x86_64\n",
      "    system: linux\n",
      "  host:\n",
      "    cpu: x86_64\n",
      "    endian: little\n",
      "    family: x86_64\n",
      "    system: linux\n",
      "Python Information:\n",
      "  path: /home/hamza/anaconda3/bin/python\n",
      "  version: '3.12'\n",
      "SIMD Extensions:\n",
      "  baseline:\n",
      "  - SSE\n",
      "  - SSE2\n",
      "  - SSE3\n",
      "  found:\n",
      "  - SSSE3\n",
      "  - SSE41\n",
      "  - POPCNT\n",
      "  - SSE42\n",
      "  - AVX\n",
      "  - F16C\n",
      "  - FMA3\n",
      "  - AVX2\n",
      "  - AVX512F\n",
      "  - AVX512CD\n",
      "  - AVX512_SKX\n",
      "  - AVX512_CLX\n",
      "  - AVX512_CNL\n",
      "  - AVX512_ICL\n",
      "  not found:\n",
      "  - AVX512_KNL\n",
      "  - AVX512_KNM\n",
      "\n"
     ]
    }
   ],
   "source": [
    "np.show_config()"
   ]
  },
  {
   "cell_type": "markdown",
   "id": "42ac36ba-f4b5-40c1-9072-84fbb84e9b7b",
   "metadata": {},
   "source": [
    "3. Create a null vector of size 10"
   ]
  },
  {
   "cell_type": "code",
   "execution_count": 6,
   "id": "91a0ddc9-042f-4a57-ad78-f6dd267bbd19",
   "metadata": {},
   "outputs": [
    {
     "data": {
      "text/plain": [
       "array([0., 0., 0., 0., 0., 0., 0., 0., 0., 0.])"
      ]
     },
     "execution_count": 6,
     "metadata": {},
     "output_type": "execute_result"
    }
   ],
   "source": [
    "nullVector = np.zeros(10)\n",
    "nullVector"
   ]
  },
  {
   "cell_type": "markdown",
   "id": "58ad5d6c-efc9-43c8-97b8-f55ee06a6139",
   "metadata": {},
   "source": [
    "4. How to find the memory size of any array"
   ]
  },
  {
   "cell_type": "code",
   "execution_count": 9,
   "id": "2c38e671-f9de-4c40-8fa8-01e8c6afe4e4",
   "metadata": {},
   "outputs": [
    {
     "data": {
      "text/plain": [
       "80"
      ]
     },
     "execution_count": 9,
     "metadata": {},
     "output_type": "execute_result"
    }
   ],
   "source": [
    "size = nullVector.nbytes\n",
    "size"
   ]
  },
  {
   "cell_type": "markdown",
   "id": "ff4a5f05-fd17-4d2a-bb83-55eeb5b28c4e",
   "metadata": {},
   "source": [
    "5. How to get the documentation of the numpy add function from the command line?"
   ]
  },
  {
   "cell_type": "code",
   "execution_count": 10,
   "id": "d5d159e9-7340-428a-abe8-bbd3828e831a",
   "metadata": {},
   "outputs": [
    {
     "name": "stdout",
     "output_type": "stream",
     "text": [
      "Help on ufunc:\n",
      "\n",
      "add = <ufunc 'add'>\n",
      "    add(x1, x2, /, out=None, *, where=True, casting='same_kind', order='K', dtype=None, subok=True[, signature, extobj])\n",
      "\n",
      "    Add arguments element-wise.\n",
      "\n",
      "    Parameters\n",
      "    ----------\n",
      "    x1, x2 : array_like\n",
      "        The arrays to be added.\n",
      "        If ``x1.shape != x2.shape``, they must be broadcastable to a common\n",
      "        shape (which becomes the shape of the output).\n",
      "    out : ndarray, None, or tuple of ndarray and None, optional\n",
      "        A location into which the result is stored. If provided, it must have\n",
      "        a shape that the inputs broadcast to. If not provided or None,\n",
      "        a freshly-allocated array is returned. A tuple (possible only as a\n",
      "        keyword argument) must have length equal to the number of outputs.\n",
      "    where : array_like, optional\n",
      "        This condition is broadcast over the input. At locations where the\n",
      "        condition is True, the `out` array will be set to the ufunc result.\n",
      "        Elsewhere, the `out` array will retain its original value.\n",
      "        Note that if an uninitialized `out` array is created via the default\n",
      "        ``out=None``, locations within it where the condition is False will\n",
      "        remain uninitialized.\n",
      "    **kwargs\n",
      "        For other keyword-only arguments, see the\n",
      "        :ref:`ufunc docs <ufuncs.kwargs>`.\n",
      "\n",
      "    Returns\n",
      "    -------\n",
      "    add : ndarray or scalar\n",
      "        The sum of `x1` and `x2`, element-wise.\n",
      "        This is a scalar if both `x1` and `x2` are scalars.\n",
      "\n",
      "    Notes\n",
      "    -----\n",
      "    Equivalent to `x1` + `x2` in terms of array broadcasting.\n",
      "\n",
      "    Examples\n",
      "    --------\n",
      "    >>> np.add(1.0, 4.0)\n",
      "    5.0\n",
      "    >>> x1 = np.arange(9.0).reshape((3, 3))\n",
      "    >>> x2 = np.arange(3.0)\n",
      "    >>> np.add(x1, x2)\n",
      "    array([[  0.,   2.,   4.],\n",
      "           [  3.,   5.,   7.],\n",
      "           [  6.,   8.,  10.]])\n",
      "\n",
      "    The ``+`` operator can be used as a shorthand for ``np.add`` on ndarrays.\n",
      "\n",
      "    >>> x1 = np.arange(9.0).reshape((3, 3))\n",
      "    >>> x2 = np.arange(3.0)\n",
      "    >>> x1 + x2\n",
      "    array([[ 0.,  2.,  4.],\n",
      "           [ 3.,  5.,  7.],\n",
      "           [ 6.,  8., 10.]])\n",
      "\n"
     ]
    }
   ],
   "source": [
    "help(np.add)"
   ]
  },
  {
   "cell_type": "markdown",
   "id": "b8e46fcd-2f8c-47e6-a40c-f5e9c7f2fdbb",
   "metadata": {},
   "source": [
    "6. Create a null vector of size 10 but the fifth value which is 1"
   ]
  },
  {
   "cell_type": "code",
   "execution_count": 13,
   "id": "2d6694e2-4762-45f4-927b-cd71f3817de8",
   "metadata": {},
   "outputs": [
    {
     "data": {
      "text/plain": [
       "array([0., 0., 0., 0., 1., 0., 0., 0., 0., 0.])"
      ]
     },
     "execution_count": 13,
     "metadata": {},
     "output_type": "execute_result"
    }
   ],
   "source": [
    "array = np.zeros(10)\n",
    "array[4]=1\n",
    "array"
   ]
  },
  {
   "cell_type": "markdown",
   "id": "21b4883e-7469-4e89-abe2-3b8f12de2f8a",
   "metadata": {},
   "source": [
    "7. Create a vector with values ranging from 10 to 49"
   ]
  },
  {
   "cell_type": "code",
   "execution_count": 15,
   "id": "0418abda-c60b-46c2-8eb3-6882f18618d6",
   "metadata": {},
   "outputs": [
    {
     "data": {
      "text/plain": [
       "array([10, 11, 12, 13, 14, 15, 16, 17, 18, 19, 20, 21, 22, 23, 24, 25, 26,\n",
       "       27, 28, 29, 30, 31, 32, 33, 34, 35, 36, 37, 38, 39, 40, 41, 42, 43,\n",
       "       44, 45, 46, 47, 48, 49])"
      ]
     },
     "execution_count": 15,
     "metadata": {},
     "output_type": "execute_result"
    }
   ],
   "source": [
    "vectorRanging = np.arange(10,50)\n",
    "vectorRanging"
   ]
  },
  {
   "cell_type": "markdown",
   "id": "e9a3a503-2fbb-4cfe-91ce-ca85865ec612",
   "metadata": {},
   "source": [
    "8. Reverse a vector (first element becomes last)"
   ]
  },
  {
   "cell_type": "code",
   "execution_count": 17,
   "id": "d02589c1-c2c8-478b-b585-d45aaeed0e68",
   "metadata": {},
   "outputs": [
    {
     "data": {
      "text/plain": [
       "array([49, 48, 47, 46, 45, 44, 43, 42, 41, 40, 39, 38, 37, 36, 35, 34, 33,\n",
       "       32, 31, 30, 29, 28, 27, 26, 25, 24, 23, 22, 21, 20, 19, 18, 17, 16,\n",
       "       15, 14, 13, 12, 11, 10])"
      ]
     },
     "execution_count": 17,
     "metadata": {},
     "output_type": "execute_result"
    }
   ],
   "source": [
    "reverseVector = vectorRanging[::-1]\n",
    "reverseVector"
   ]
  },
  {
   "cell_type": "markdown",
   "id": "a58e690a-e9c1-46bf-98b7-9d5a4da6df7b",
   "metadata": {},
   "source": [
    "9. Create a 3x3 matrix with values ranging from 0 to 8"
   ]
  },
  {
   "cell_type": "code",
   "execution_count": 20,
   "id": "ce6ef35e-da8e-47da-a7e1-39b45a8ea95b",
   "metadata": {},
   "outputs": [
    {
     "data": {
      "text/plain": [
       "array([[0, 1, 2],\n",
       "       [3, 4, 5],\n",
       "       [6, 7, 8]])"
      ]
     },
     "execution_count": 20,
     "metadata": {},
     "output_type": "execute_result"
    }
   ],
   "source": [
    "matrix = np.arange(0,9).reshape(3,3)\n",
    "matrix"
   ]
  },
  {
   "cell_type": "markdown",
   "id": "6964b9e6-3167-444e-971e-ff4ded8f2dee",
   "metadata": {},
   "source": [
    "10. Find indices of non-zero elements from [1,2,0,0,4,0]"
   ]
  },
  {
   "cell_type": "code",
   "execution_count": 24,
   "id": "9f27ac5f-ba94-4625-8fe0-fa50f47cacee",
   "metadata": {},
   "outputs": [
    {
     "data": {
      "text/plain": [
       "array([4])"
      ]
     },
     "execution_count": 24,
     "metadata": {},
     "output_type": "execute_result"
    }
   ],
   "source": [
    "non_zero = np.nonzero(array)\n",
    "non_zero[0]"
   ]
  },
  {
   "cell_type": "code",
   "execution_count": null,
   "id": "0379171f-0c29-4f34-a369-9265b50938e1",
   "metadata": {},
   "outputs": [],
   "source": []
  }
 ],
 "metadata": {
  "kernelspec": {
   "display_name": "Python 3 (ipykernel)",
   "language": "python",
   "name": "python3"
  },
  "language_info": {
   "codemirror_mode": {
    "name": "ipython",
    "version": 3
   },
   "file_extension": ".py",
   "mimetype": "text/x-python",
   "name": "python",
   "nbconvert_exporter": "python",
   "pygments_lexer": "ipython3",
   "version": "3.12.4"
  }
 },
 "nbformat": 4,
 "nbformat_minor": 5
}
