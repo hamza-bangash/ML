{
 "cells": [
  {
   "cell_type": "markdown",
   "id": "c3445508-fbdf-4089-80c9-56c2c1d092e6",
   "metadata": {},
   "source": [
    "1. Import the numpy package under the name np"
   ]
  },
  {
   "cell_type": "code",
   "execution_count": 1,
   "id": "6cdf95e6-18a3-4f9c-b71b-3015bb4486b4",
   "metadata": {},
   "outputs": [],
   "source": [
    "import numpy as np"
   ]
  },
  {
   "cell_type": "markdown",
   "id": "13b92a70-1b56-4589-be67-5e226550343e",
   "metadata": {},
   "source": [
    "2. Print the numpy version and the configuration"
   ]
  },
  {
   "cell_type": "code",
   "execution_count": 2,
   "id": "0be3e96d-c616-491d-b483-86bfddf4c752",
   "metadata": {},
   "outputs": [
    {
     "data": {
      "text/plain": [
       "'1.26.4'"
      ]
     },
     "execution_count": 2,
     "metadata": {},
     "output_type": "execute_result"
    }
   ],
   "source": [
    "np.__version__"
   ]
  },
  {
   "cell_type": "code",
   "execution_count": 3,
   "id": "e33b7abc-3399-471f-9de0-ea1003bf6979",
   "metadata": {},
   "outputs": [
    {
     "name": "stdout",
     "output_type": "stream",
     "text": [
      "Build Dependencies:\n",
      "  blas:\n",
      "    detection method: pkgconfig\n",
      "    found: true\n",
      "    include directory: /home/hamza/anaconda3/include\n",
      "    lib directory: /home/hamza/anaconda3/lib\n",
      "    name: mkl-sdl\n",
      "    openblas configuration: unknown\n",
      "    pc file directory: /home/hamza/anaconda3/lib/pkgconfig\n",
      "    version: '2023.1'\n",
      "  lapack:\n",
      "    detection method: internal\n",
      "    found: true\n",
      "    include directory: unknown\n",
      "    lib directory: unknown\n",
      "    name: dep140137493227056\n",
      "    openblas configuration: unknown\n",
      "    pc file directory: unknown\n",
      "    version: 1.26.4\n",
      "Compilers:\n",
      "  c:\n",
      "    args: -march=nocona, -mtune=haswell, -ftree-vectorize, -fPIC, -fstack-protector-strong,\n",
      "      -fno-plt, -O2, -ffunction-sections, -pipe, -isystem, /home/hamza/anaconda3/include,\n",
      "      -fdebug-prefix-map=/croot/numpy_and_numpy_base_1708638617955/work=/usr/local/src/conda/numpy-base-1.26.4,\n",
      "      -fdebug-prefix-map=/home/hamza/anaconda3=/usr/local/src/conda-prefix, -DNDEBUG,\n",
      "      -D_FORTIFY_SOURCE=2, -O2, -isystem, /home/hamza/anaconda3/include\n",
      "    commands: /croot/numpy_and_numpy_base_1708638617955/_build_env/bin/x86_64-conda-linux-gnu-cc\n",
      "    linker: ld.bfd\n",
      "    linker args: -Wl,-O2, -Wl,--sort-common, -Wl,--as-needed, -Wl,-z,relro, -Wl,-z,now,\n",
      "      -Wl,--disable-new-dtags, -Wl,--gc-sections, -Wl,-rpath,/home/hamza/anaconda3/lib,\n",
      "      -Wl,-rpath-link,/home/hamza/anaconda3/lib, -L/home/hamza/anaconda3/lib, -march=nocona,\n",
      "      -mtune=haswell, -ftree-vectorize, -fPIC, -fstack-protector-strong, -fno-plt,\n",
      "      -O2, -ffunction-sections, -pipe, -isystem, /home/hamza/anaconda3/include, -fdebug-prefix-map=/croot/numpy_and_numpy_base_1708638617955/work=/usr/local/src/conda/numpy-base-1.26.4,\n",
      "      -fdebug-prefix-map=/home/hamza/anaconda3=/usr/local/src/conda-prefix, -DNDEBUG,\n",
      "      -D_FORTIFY_SOURCE=2, -O2, -isystem, /home/hamza/anaconda3/include\n",
      "    name: gcc\n",
      "    version: 11.2.0\n",
      "  c++:\n",
      "    args: -fvisibility-inlines-hidden, -std=c++17, -fmessage-length=0, -march=nocona,\n",
      "      -mtune=haswell, -ftree-vectorize, -fPIC, -fstack-protector-strong, -fno-plt,\n",
      "      -O2, -ffunction-sections, -pipe, -isystem, /home/hamza/anaconda3/include, -fdebug-prefix-map=/croot/numpy_and_numpy_base_1708638617955/work=/usr/local/src/conda/numpy-base-1.26.4,\n",
      "      -fdebug-prefix-map=/home/hamza/anaconda3=/usr/local/src/conda-prefix, -DNDEBUG,\n",
      "      -D_FORTIFY_SOURCE=2, -O2, -isystem, /home/hamza/anaconda3/include\n",
      "    commands: /croot/numpy_and_numpy_base_1708638617955/_build_env/bin/x86_64-conda-linux-gnu-c++\n",
      "    linker: ld.bfd\n",
      "    linker args: -Wl,-O2, -Wl,--sort-common, -Wl,--as-needed, -Wl,-z,relro, -Wl,-z,now,\n",
      "      -Wl,--disable-new-dtags, -Wl,--gc-sections, -Wl,-rpath,/home/hamza/anaconda3/lib,\n",
      "      -Wl,-rpath-link,/home/hamza/anaconda3/lib, -L/home/hamza/anaconda3/lib, -fvisibility-inlines-hidden,\n",
      "      -std=c++17, -fmessage-length=0, -march=nocona, -mtune=haswell, -ftree-vectorize,\n",
      "      -fPIC, -fstack-protector-strong, -fno-plt, -O2, -ffunction-sections, -pipe,\n",
      "      -isystem, /home/hamza/anaconda3/include, -fdebug-prefix-map=/croot/numpy_and_numpy_base_1708638617955/work=/usr/local/src/conda/numpy-base-1.26.4,\n",
      "      -fdebug-prefix-map=/home/hamza/anaconda3=/usr/local/src/conda-prefix, -DNDEBUG,\n",
      "      -D_FORTIFY_SOURCE=2, -O2, -isystem, /home/hamza/anaconda3/include\n",
      "    name: gcc\n",
      "    version: 11.2.0\n",
      "  cython:\n",
      "    commands: cython\n",
      "    linker: cython\n",
      "    name: cython\n",
      "    version: 3.0.8\n",
      "Machine Information:\n",
      "  build:\n",
      "    cpu: x86_64\n",
      "    endian: little\n",
      "    family: x86_64\n",
      "    system: linux\n",
      "  host:\n",
      "    cpu: x86_64\n",
      "    endian: little\n",
      "    family: x86_64\n",
      "    system: linux\n",
      "Python Information:\n",
      "  path: /home/hamza/anaconda3/bin/python\n",
      "  version: '3.12'\n",
      "SIMD Extensions:\n",
      "  baseline:\n",
      "  - SSE\n",
      "  - SSE2\n",
      "  - SSE3\n",
      "  found:\n",
      "  - SSSE3\n",
      "  - SSE41\n",
      "  - POPCNT\n",
      "  - SSE42\n",
      "  - AVX\n",
      "  - F16C\n",
      "  - FMA3\n",
      "  - AVX2\n",
      "  - AVX512F\n",
      "  - AVX512CD\n",
      "  - AVX512_SKX\n",
      "  - AVX512_CLX\n",
      "  - AVX512_CNL\n",
      "  - AVX512_ICL\n",
      "  not found:\n",
      "  - AVX512_KNL\n",
      "  - AVX512_KNM\n",
      "\n"
     ]
    }
   ],
   "source": [
    "np.show_config()"
   ]
  },
  {
   "cell_type": "markdown",
   "id": "42ac36ba-f4b5-40c1-9072-84fbb84e9b7b",
   "metadata": {},
   "source": [
    "3. Create a null vector of size 10"
   ]
  },
  {
   "cell_type": "code",
   "execution_count": 4,
   "id": "91a0ddc9-042f-4a57-ad78-f6dd267bbd19",
   "metadata": {},
   "outputs": [
    {
     "data": {
      "text/plain": [
       "array([0., 0., 0., 0., 0., 0., 0., 0., 0., 0.])"
      ]
     },
     "execution_count": 4,
     "metadata": {},
     "output_type": "execute_result"
    }
   ],
   "source": [
    "nullVector = np.zeros(10)\n",
    "nullVector"
   ]
  },
  {
   "cell_type": "markdown",
   "id": "58ad5d6c-efc9-43c8-97b8-f55ee06a6139",
   "metadata": {},
   "source": [
    "4. How to find the memory size of any array"
   ]
  },
  {
   "cell_type": "code",
   "execution_count": 5,
   "id": "2c38e671-f9de-4c40-8fa8-01e8c6afe4e4",
   "metadata": {},
   "outputs": [
    {
     "data": {
      "text/plain": [
       "80"
      ]
     },
     "execution_count": 5,
     "metadata": {},
     "output_type": "execute_result"
    }
   ],
   "source": [
    "size = nullVector.nbytes\n",
    "size"
   ]
  },
  {
   "cell_type": "markdown",
   "id": "ff4a5f05-fd17-4d2a-bb83-55eeb5b28c4e",
   "metadata": {},
   "source": [
    "5. How to get the documentation of the numpy add function from the command line?"
   ]
  },
  {
   "cell_type": "code",
   "execution_count": 6,
   "id": "d5d159e9-7340-428a-abe8-bbd3828e831a",
   "metadata": {},
   "outputs": [
    {
     "name": "stdout",
     "output_type": "stream",
     "text": [
      "Help on ufunc:\n",
      "\n",
      "add = <ufunc 'add'>\n",
      "    add(x1, x2, /, out=None, *, where=True, casting='same_kind', order='K', dtype=None, subok=True[, signature, extobj])\n",
      "\n",
      "    Add arguments element-wise.\n",
      "\n",
      "    Parameters\n",
      "    ----------\n",
      "    x1, x2 : array_like\n",
      "        The arrays to be added.\n",
      "        If ``x1.shape != x2.shape``, they must be broadcastable to a common\n",
      "        shape (which becomes the shape of the output).\n",
      "    out : ndarray, None, or tuple of ndarray and None, optional\n",
      "        A location into which the result is stored. If provided, it must have\n",
      "        a shape that the inputs broadcast to. If not provided or None,\n",
      "        a freshly-allocated array is returned. A tuple (possible only as a\n",
      "        keyword argument) must have length equal to the number of outputs.\n",
      "    where : array_like, optional\n",
      "        This condition is broadcast over the input. At locations where the\n",
      "        condition is True, the `out` array will be set to the ufunc result.\n",
      "        Elsewhere, the `out` array will retain its original value.\n",
      "        Note that if an uninitialized `out` array is created via the default\n",
      "        ``out=None``, locations within it where the condition is False will\n",
      "        remain uninitialized.\n",
      "    **kwargs\n",
      "        For other keyword-only arguments, see the\n",
      "        :ref:`ufunc docs <ufuncs.kwargs>`.\n",
      "\n",
      "    Returns\n",
      "    -------\n",
      "    add : ndarray or scalar\n",
      "        The sum of `x1` and `x2`, element-wise.\n",
      "        This is a scalar if both `x1` and `x2` are scalars.\n",
      "\n",
      "    Notes\n",
      "    -----\n",
      "    Equivalent to `x1` + `x2` in terms of array broadcasting.\n",
      "\n",
      "    Examples\n",
      "    --------\n",
      "    >>> np.add(1.0, 4.0)\n",
      "    5.0\n",
      "    >>> x1 = np.arange(9.0).reshape((3, 3))\n",
      "    >>> x2 = np.arange(3.0)\n",
      "    >>> np.add(x1, x2)\n",
      "    array([[  0.,   2.,   4.],\n",
      "           [  3.,   5.,   7.],\n",
      "           [  6.,   8.,  10.]])\n",
      "\n",
      "    The ``+`` operator can be used as a shorthand for ``np.add`` on ndarrays.\n",
      "\n",
      "    >>> x1 = np.arange(9.0).reshape((3, 3))\n",
      "    >>> x2 = np.arange(3.0)\n",
      "    >>> x1 + x2\n",
      "    array([[ 0.,  2.,  4.],\n",
      "           [ 3.,  5.,  7.],\n",
      "           [ 6.,  8., 10.]])\n",
      "\n"
     ]
    }
   ],
   "source": [
    "help(np.add)"
   ]
  },
  {
   "cell_type": "markdown",
   "id": "b8e46fcd-2f8c-47e6-a40c-f5e9c7f2fdbb",
   "metadata": {},
   "source": [
    "6. Create a null vector of size 10 but the fifth value which is 1"
   ]
  },
  {
   "cell_type": "code",
   "execution_count": 7,
   "id": "2d6694e2-4762-45f4-927b-cd71f3817de8",
   "metadata": {},
   "outputs": [
    {
     "data": {
      "text/plain": [
       "array([0., 0., 0., 0., 1., 0., 0., 0., 0., 0.])"
      ]
     },
     "execution_count": 7,
     "metadata": {},
     "output_type": "execute_result"
    }
   ],
   "source": [
    "array = np.zeros(10)\n",
    "array[4]=1\n",
    "array"
   ]
  },
  {
   "cell_type": "markdown",
   "id": "21b4883e-7469-4e89-abe2-3b8f12de2f8a",
   "metadata": {},
   "source": [
    "7. Create a vector with values ranging from 10 to 49"
   ]
  },
  {
   "cell_type": "code",
   "execution_count": 8,
   "id": "0418abda-c60b-46c2-8eb3-6882f18618d6",
   "metadata": {},
   "outputs": [
    {
     "data": {
      "text/plain": [
       "array([10, 11, 12, 13, 14, 15, 16, 17, 18, 19, 20, 21, 22, 23, 24, 25, 26,\n",
       "       27, 28, 29, 30, 31, 32, 33, 34, 35, 36, 37, 38, 39, 40, 41, 42, 43,\n",
       "       44, 45, 46, 47, 48, 49])"
      ]
     },
     "execution_count": 8,
     "metadata": {},
     "output_type": "execute_result"
    }
   ],
   "source": [
    "vectorRanging = np.arange(10,50)\n",
    "vectorRanging"
   ]
  },
  {
   "cell_type": "markdown",
   "id": "e9a3a503-2fbb-4cfe-91ce-ca85865ec612",
   "metadata": {},
   "source": [
    "8. Reverse a vector (first element becomes last)"
   ]
  },
  {
   "cell_type": "code",
   "execution_count": 9,
   "id": "d02589c1-c2c8-478b-b585-d45aaeed0e68",
   "metadata": {},
   "outputs": [
    {
     "data": {
      "text/plain": [
       "array([49, 48, 47, 46, 45, 44, 43, 42, 41, 40, 39, 38, 37, 36, 35, 34, 33,\n",
       "       32, 31, 30, 29, 28, 27, 26, 25, 24, 23, 22, 21, 20, 19, 18, 17, 16,\n",
       "       15, 14, 13, 12, 11, 10])"
      ]
     },
     "execution_count": 9,
     "metadata": {},
     "output_type": "execute_result"
    }
   ],
   "source": [
    "reverseVector = vectorRanging[::-1]\n",
    "reverseVector"
   ]
  },
  {
   "cell_type": "markdown",
   "id": "a58e690a-e9c1-46bf-98b7-9d5a4da6df7b",
   "metadata": {},
   "source": [
    "9. Create a 3x3 matrix with values ranging from 0 to 8"
   ]
  },
  {
   "cell_type": "code",
   "execution_count": 10,
   "id": "ce6ef35e-da8e-47da-a7e1-39b45a8ea95b",
   "metadata": {},
   "outputs": [
    {
     "data": {
      "text/plain": [
       "array([[0, 1, 2],\n",
       "       [3, 4, 5],\n",
       "       [6, 7, 8]])"
      ]
     },
     "execution_count": 10,
     "metadata": {},
     "output_type": "execute_result"
    }
   ],
   "source": [
    "matrix = np.arange(0,9).reshape(3,3)\n",
    "matrix"
   ]
  },
  {
   "cell_type": "markdown",
   "id": "6964b9e6-3167-444e-971e-ff4ded8f2dee",
   "metadata": {},
   "source": [
    "10. Find indices of non-zero elements from [1,2,0,0,4,0]"
   ]
  },
  {
   "cell_type": "code",
   "execution_count": 11,
   "id": "9f27ac5f-ba94-4625-8fe0-fa50f47cacee",
   "metadata": {},
   "outputs": [
    {
     "data": {
      "text/plain": [
       "(array([4]),)"
      ]
     },
     "execution_count": 11,
     "metadata": {},
     "output_type": "execute_result"
    }
   ],
   "source": [
    "non_zero = np.nonzero(array)\n",
    "non_zero"
   ]
  },
  {
   "cell_type": "markdown",
   "id": "78224800-36d5-4195-a0c3-cf172e12a048",
   "metadata": {},
   "source": [
    "11. Create a 3x3 identity matrix"
   ]
  },
  {
   "cell_type": "code",
   "execution_count": 12,
   "id": "3446f517-44aa-4177-8828-26bc7b1b5254",
   "metadata": {},
   "outputs": [
    {
     "data": {
      "text/plain": [
       "array([[1., 0., 0.],\n",
       "       [0., 1., 0.],\n",
       "       [0., 0., 1.]])"
      ]
     },
     "execution_count": 12,
     "metadata": {},
     "output_type": "execute_result"
    }
   ],
   "source": [
    "identityMatrix = np.identity(3)\n",
    "identityMatrix"
   ]
  },
  {
   "cell_type": "markdown",
   "id": "73871ae6-a6a5-45ee-ac8e-cd8ef01c8329",
   "metadata": {},
   "source": [
    "12. Create a 3x3x3 array with random values"
   ]
  },
  {
   "cell_type": "code",
   "execution_count": 13,
   "id": "33488d4b-7c0d-4b8e-aa35-ec5069924248",
   "metadata": {},
   "outputs": [
    {
     "data": {
      "text/plain": [
       "array([[[0.73463476, 0.13509191, 0.71327885],\n",
       "        [0.28123049, 0.32353505, 0.76286994],\n",
       "        [0.5695034 , 0.03934272, 0.46020202]],\n",
       "\n",
       "       [[0.75692487, 0.35694934, 0.48028499],\n",
       "        [0.84072639, 0.10066211, 0.39209721],\n",
       "        [0.06727914, 0.7798411 , 0.11803272]],\n",
       "\n",
       "       [[0.19217938, 0.66014632, 0.90147748],\n",
       "        [0.86993141, 0.33691354, 0.7486746 ],\n",
       "        [0.93578483, 0.69347528, 0.52864504]]])"
      ]
     },
     "execution_count": 13,
     "metadata": {},
     "output_type": "execute_result"
    }
   ],
   "source": [
    "randomValues = np.random.rand(3,3,3)\n",
    "randomValues"
   ]
  },
  {
   "cell_type": "markdown",
   "id": "a6cce505-2146-49e1-ae2b-305366de1eb9",
   "metadata": {},
   "source": [
    "13. Create a 10x10 array with random values and find the minimum and maximum values"
   ]
  },
  {
   "cell_type": "code",
   "execution_count": 14,
   "id": "dc38175b-ade1-43f2-a371-517f03fbf5fd",
   "metadata": {},
   "outputs": [
    {
     "name": "stdout",
     "output_type": "stream",
     "text": [
      "min : 0.031058173548536905     max : 0.9963798510761843\n"
     ]
    }
   ],
   "source": [
    "randomArray = np.random.rand(10,10)\n",
    "minimum = np.min(randomArray)\n",
    "maximum = np.max(randomArray)\n",
    "print(f\"min : {minimum}     max : {maximum}\")"
   ]
  },
  {
   "cell_type": "raw",
   "id": "979aaefd-025e-4bcd-a0c9-b05c44fc3431",
   "metadata": {},
   "source": [
    "14. Create a random vector of size 30 and find the mean value"
   ]
  },
  {
   "cell_type": "code",
   "execution_count": 15,
   "id": "6a59116a-41ed-4173-ac83-d6371358fa1e",
   "metadata": {},
   "outputs": [
    {
     "data": {
      "text/plain": [
       "0.5203056820268586"
      ]
     },
     "execution_count": 15,
     "metadata": {},
     "output_type": "execute_result"
    }
   ],
   "source": [
    "vector = np.random.rand(30)\n",
    "mean = np.mean(vector)\n",
    "mean"
   ]
  },
  {
   "cell_type": "markdown",
   "id": "5753a6bb-e637-420b-a4c1-67491e1f90a7",
   "metadata": {},
   "source": [
    "15. Create a 2d array with 1 on the border and 0 inside"
   ]
  },
  {
   "cell_type": "code",
   "execution_count": 28,
   "id": "381b305e-d4de-40dd-89c3-bddf09bf5650",
   "metadata": {},
   "outputs": [
    {
     "data": {
      "text/plain": [
       "array([[1, 1, 1, 1, 1],\n",
       "       [1, 0, 0, 0, 1],\n",
       "       [1, 0, 0, 0, 1],\n",
       "       [1, 0, 0, 0, 1],\n",
       "       [1, 0, 0, 0, 1],\n",
       "       [1, 0, 0, 0, 1],\n",
       "       [1, 0, 0, 0, 1],\n",
       "       [1, 0, 0, 0, 1],\n",
       "       [1, 0, 0, 0, 1],\n",
       "       [1, 1, 1, 1, 1]])"
      ]
     },
     "execution_count": 28,
     "metadata": {},
     "output_type": "execute_result"
    }
   ],
   "source": [
    "twoDArray = np.zeros((10,5),dtype=\"int\")\n",
    "\n",
    "twoDArray[0,:] = 1\n",
    "twoDArray[-1,:] = 1\n",
    "twoDArray[:,0]=1\n",
    "twoDArray[:,-1] = 1\n",
    "\n",
    "twoDArray"
   ]
  },
  {
   "cell_type": "markdown",
   "id": "eaa098c2-7b23-4a54-bd84-53b02771c21b",
   "metadata": {},
   "source": [
    "16. How to add a border (filled with 0's) around an existing array?"
   ]
  },
  {
   "cell_type": "code",
   "execution_count": 16,
   "id": "06cb8749-2dd7-49e3-b765-7600f34dc72b",
   "metadata": {},
   "outputs": [
    {
     "data": {
      "text/plain": [
       "array([[0, 0, 0, 0, 0],\n",
       "       [0, 1, 2, 3, 0],\n",
       "       [0, 4, 5, 6, 0],\n",
       "       [0, 7, 8, 9, 0],\n",
       "       [0, 0, 0, 0, 0]])"
      ]
     },
     "execution_count": 16,
     "metadata": {},
     "output_type": "execute_result"
    }
   ],
   "source": [
    "borderArray = np.arange(1,10).reshape(3,3)\n",
    "borderArray = np.pad(borderArray, pad_width=1, mode='constant', constant_values=0)\n",
    "borderArray"
   ]
  },
  {
   "cell_type": "markdown",
   "id": "2ab544e3-1000-4651-8752-4b57d0a41b6a",
   "metadata": {},
   "source": [
    "17. What is the result of the following expression? (★☆☆)\n",
    "0 * np.nan\n",
    "np.nan == np.nan\n",
    "np.inf > np.nan\n",
    "np.nan - np.nan\n",
    "np.nan in set([np.nan])\n",
    "0.3 == 3 * 0.1"
   ]
  },
  {
   "cell_type": "markdown",
   "id": "545c7b59-96be-4c5c-afb1-03b60d309d6a",
   "metadata": {},
   "source": [
    "nan\n",
    "False\n",
    "False\n",
    "nan\n",
    "True\n",
    "False"
   ]
  },
  {
   "cell_type": "markdown",
   "id": "38f09d87-4e2a-4577-8a2e-ab49bce8d2f3",
   "metadata": {},
   "source": [
    "18. Create a 5x5 matrix with values 1,2,3,4 just below the diagonal "
   ]
  },
  {
   "cell_type": "code",
   "execution_count": 17,
   "id": "4fa2e16b-78c9-44e7-8b2a-bdc06911e774",
   "metadata": {},
   "outputs": [
    {
     "data": {
      "text/plain": [
       "array([[0, 0, 0, 0, 0, 0],\n",
       "       [1, 0, 0, 0, 0, 0],\n",
       "       [0, 2, 0, 0, 0, 0],\n",
       "       [0, 0, 3, 0, 0, 0],\n",
       "       [0, 0, 0, 4, 0, 0],\n",
       "       [0, 0, 0, 0, 5, 0]])"
      ]
     },
     "execution_count": 17,
     "metadata": {},
     "output_type": "execute_result"
    }
   ],
   "source": [
    "value = np.array([1,2,3,4,5])\n",
    "diagonal = np.diag(value,k=-1)\n",
    "diagonal"
   ]
  },
  {
   "cell_type": "code",
   "execution_count": 16,
   "id": "e35365d0-5bd2-4e04-887a-b5ee40c6b56a",
   "metadata": {},
   "outputs": [
    {
     "data": {
      "text/plain": [
       "array([[0, 1, 0, 0, 0, 0],\n",
       "       [0, 0, 2, 0, 0, 0],\n",
       "       [0, 0, 0, 3, 0, 0],\n",
       "       [0, 0, 0, 0, 4, 0],\n",
       "       [0, 0, 0, 0, 0, 5],\n",
       "       [0, 0, 0, 0, 0, 0]])"
      ]
     },
     "execution_count": 16,
     "metadata": {},
     "output_type": "execute_result"
    }
   ],
   "source": [
    "value = np.array([1,2,3,4,5])\n",
    "diagonal = np.diag(value,k=1)\n",
    "diagonal"
   ]
  },
  {
   "cell_type": "code",
   "execution_count": 17,
   "id": "5a03b2e4-8c9d-4711-800d-e811e8091def",
   "metadata": {},
   "outputs": [
    {
     "data": {
      "text/plain": [
       "array([[1, 0, 0, 0, 0],\n",
       "       [0, 2, 0, 0, 0],\n",
       "       [0, 0, 3, 0, 0],\n",
       "       [0, 0, 0, 4, 0],\n",
       "       [0, 0, 0, 0, 5]])"
      ]
     },
     "execution_count": 17,
     "metadata": {},
     "output_type": "execute_result"
    }
   ],
   "source": [
    "diagonal = np.diag(value,k=0)\n",
    "diagonal"
   ]
  },
  {
   "cell_type": "markdown",
   "id": "dfcea653-9c38-4b21-ba88-db04c7f00e7f",
   "metadata": {},
   "source": [
    "19. Create a 8x8 matrix and fill it with a checkerboard pattern"
   ]
  },
  {
   "cell_type": "code",
   "execution_count": 20,
   "id": "4db2ae2d-d32c-42dc-8965-8f9ddf3cc187",
   "metadata": {},
   "outputs": [
    {
     "data": {
      "text/plain": [
       "array([[0, 1, 0, 1, 0, 1, 0, 1],\n",
       "       [1, 0, 1, 0, 1, 0, 1, 0],\n",
       "       [0, 1, 0, 1, 0, 1, 0, 1],\n",
       "       [1, 0, 1, 0, 1, 0, 1, 0],\n",
       "       [0, 1, 0, 1, 0, 1, 0, 1],\n",
       "       [1, 0, 1, 0, 1, 0, 1, 0],\n",
       "       [0, 1, 0, 1, 0, 1, 0, 1],\n",
       "       [1, 0, 1, 0, 1, 0, 1, 0]])"
      ]
     },
     "execution_count": 20,
     "metadata": {},
     "output_type": "execute_result"
    }
   ],
   "source": [
    "array = np.zeros((8,8),dtype='int')\n",
    "array[1::2,::2] = 1\n",
    "array[::2,1::2] = 1\n",
    "array"
   ]
  },
  {
   "cell_type": "markdown",
   "id": "b6938fc1-c654-45eb-85bc-5b3b13b9c1b4",
   "metadata": {},
   "source": [
    "20. Consider a (6,7,8) shape array, what is the index (x,y,z) of the 100th element? "
   ]
  },
  {
   "cell_type": "code",
   "execution_count": 19,
   "id": "65890bbe-4313-4601-9a1e-18c50e24d1d4",
   "metadata": {},
   "outputs": [
    {
     "data": {
      "text/plain": [
       "array([[[ 0,  0,  0,  0,  0,  0,  0,  0],\n",
       "        [ 0,  0,  0,  0,  0,  0,  0,  0],\n",
       "        [ 0,  0,  0,  0,  0,  0,  0,  0],\n",
       "        [ 0,  0,  0,  0,  0,  0,  0,  0],\n",
       "        [ 0,  0,  0,  0,  0,  0,  0,  0],\n",
       "        [ 0,  0,  0,  0,  0,  0,  0,  0],\n",
       "        [ 0,  0,  0,  0,  0,  0,  0,  0]],\n",
       "\n",
       "       [[ 0,  0,  0,  0,  0,  0,  0,  0],\n",
       "        [ 0,  0,  0,  0,  0,  0,  0,  0],\n",
       "        [ 0,  0,  0,  0,  0,  0,  0,  0],\n",
       "        [ 0,  0,  0,  0,  0,  0,  0,  0],\n",
       "        [ 0,  0,  0,  0,  0,  0,  0,  0],\n",
       "        [ 0,  0,  0, 99,  0,  0,  0,  0],\n",
       "        [ 0,  0,  0,  0,  0,  0,  0,  0]],\n",
       "\n",
       "       [[ 0,  0,  0,  0,  0,  0,  0,  0],\n",
       "        [ 0,  0,  0,  0,  0,  0,  0,  0],\n",
       "        [ 0,  0,  0,  0,  0,  0,  0,  0],\n",
       "        [ 0,  0,  0,  0,  0,  0,  0,  0],\n",
       "        [ 0,  0,  0,  0,  0,  0,  0,  0],\n",
       "        [ 0,  0,  0,  0,  0,  0,  0,  0],\n",
       "        [ 0,  0,  0,  0,  0,  0,  0,  0]],\n",
       "\n",
       "       [[ 0,  0,  0,  0,  0,  0,  0,  0],\n",
       "        [ 0,  0,  0,  0,  0,  0,  0,  0],\n",
       "        [ 0,  0,  0,  0,  0,  0,  0,  0],\n",
       "        [ 0,  0,  0,  0,  0,  0,  0,  0],\n",
       "        [ 0,  0,  0,  0,  0,  0,  0,  0],\n",
       "        [ 0,  0,  0,  0,  0,  0,  0,  0],\n",
       "        [ 0,  0,  0,  0,  0,  0,  0,  0]],\n",
       "\n",
       "       [[ 0,  0,  0,  0,  0,  0,  0,  0],\n",
       "        [ 0,  0,  0,  0,  0,  0,  0,  0],\n",
       "        [ 0,  0,  0,  0,  0,  0,  0,  0],\n",
       "        [ 0,  0,  0,  0,  0,  0,  0,  0],\n",
       "        [ 0,  0,  0,  0,  0,  0,  0,  0],\n",
       "        [ 0,  0,  0,  0,  0,  0,  0,  0],\n",
       "        [ 0,  0,  0,  0,  0,  0,  0,  0]],\n",
       "\n",
       "       [[ 0,  0,  0,  0,  0,  0,  0,  0],\n",
       "        [ 0,  0,  0,  0,  0,  0,  0,  0],\n",
       "        [ 0,  0,  0,  0,  0,  0,  0,  0],\n",
       "        [ 0,  0,  0,  0,  0,  0,  0,  0],\n",
       "        [ 0,  0,  0,  0,  0,  0,  0,  0],\n",
       "        [ 0,  0,  0,  0,  0,  0,  0,  0],\n",
       "        [ 0,  0,  0,  0,  0,  0,  0,  0]]])"
      ]
     },
     "execution_count": 19,
     "metadata": {},
     "output_type": "execute_result"
    }
   ],
   "source": [
    "array = np.zeros((6,7,8),dtype='int')\n",
    "array[1,5,3]=99\n",
    "array"
   ]
  },
  {
   "cell_type": "markdown",
   "id": "8c864659-f9cf-480e-98f7-970eb956f40a",
   "metadata": {},
   "source": [
    "21. Create a checkerboard 8x8 matrix using the tile function "
   ]
  },
  {
   "cell_type": "code",
   "execution_count": 20,
   "id": "6859ab3a-5a72-4814-b1d1-5ab87e87529d",
   "metadata": {},
   "outputs": [
    {
     "data": {
      "text/plain": [
       "array([[1, 0, 1, 0, 1, 0, 1, 0],\n",
       "       [0, 1, 0, 1, 0, 1, 0, 1],\n",
       "       [1, 0, 1, 0, 1, 0, 1, 0],\n",
       "       [0, 1, 0, 1, 0, 1, 0, 1],\n",
       "       [1, 0, 1, 0, 1, 0, 1, 0],\n",
       "       [0, 1, 0, 1, 0, 1, 0, 1],\n",
       "       [1, 0, 1, 0, 1, 0, 1, 0],\n",
       "       [0, 1, 0, 1, 0, 1, 0, 1]])"
      ]
     },
     "execution_count": 20,
     "metadata": {},
     "output_type": "execute_result"
    }
   ],
   "source": [
    "array = np.array([[1,0],[0,1]])\n",
    "\n",
    "checkerboard = np.tile(array,[4,4])\n",
    "checkerboard"
   ]
  },
  {
   "cell_type": "markdown",
   "id": "cb38e84f-b987-4f8c-ab70-38f0de3fde65",
   "metadata": {},
   "source": [
    "22. Normalize a 5x5 random matrix"
   ]
  },
  {
   "cell_type": "code",
   "execution_count": 21,
   "id": "0401dab6-1773-4b56-8380-334409495335",
   "metadata": {},
   "outputs": [
    {
     "data": {
      "text/plain": [
       "array([[0.17382088, 0.13513656, 0.72919305, 0.01471616, 0.35300515],\n",
       "       [0.26805736, 0.79249847, 0.15533545, 0.32736836, 0.29187636],\n",
       "       [0.44099832, 0.11143203, 0.91510111, 1.        , 0.59356071],\n",
       "       [0.17753677, 0.59759645, 0.75852671, 0.92620063, 0.        ],\n",
       "       [0.61414766, 0.48864029, 0.06078259, 0.71186334, 0.90162988]])"
      ]
     },
     "execution_count": 21,
     "metadata": {},
     "output_type": "execute_result"
    }
   ],
   "source": [
    "array = np.random.rand(5,5)\n",
    "minValue = np.min(array)\n",
    "maxValue = np.max(array)\n",
    "normalize = ((array - minValue)/(maxValue-minValue))\n",
    "normalize"
   ]
  },
  {
   "cell_type": "markdown",
   "id": "b113df1f-f767-4784-af10-2e80e08c272d",
   "metadata": {},
   "source": [
    "23. Create a custom dtype that describes a color as four unsigned bytes (RGBA)"
   ]
  },
  {
   "cell_type": "code",
   "execution_count": 22,
   "id": "f4a9630f-bdce-4240-9bc5-e6b605091547",
   "metadata": {},
   "outputs": [],
   "source": [
    "dataType = np.dtype([('R',np.uint8),('G',np.uint8),('B',np.uint8),('A',np.uint8)])\n",
    "array = np.array([(255,200,2,5)],dtype=dataType)"
   ]
  },
  {
   "cell_type": "code",
   "execution_count": 23,
   "id": "6852c879-f971-429a-aeaa-c41ed573c340",
   "metadata": {
    "scrolled": true
   },
   "outputs": [
    {
     "data": {
      "text/plain": [
       "array([(255, 200, 2, 5)],\n",
       "      dtype=[('R', 'u1'), ('G', 'u1'), ('B', 'u1'), ('A', 'u1')])"
      ]
     },
     "execution_count": 23,
     "metadata": {},
     "output_type": "execute_result"
    }
   ],
   "source": [
    "array"
   ]
  },
  {
   "cell_type": "markdown",
   "id": "b99915b7-9eb2-43f5-a718-a1b2e7082b7c",
   "metadata": {},
   "source": [
    "24. Multiply a 5x3 matrix by a 3x2 matrix"
   ]
  },
  {
   "cell_type": "code",
   "execution_count": 24,
   "id": "9ac2bc09-7974-418e-ba2e-fb10a975eaf6",
   "metadata": {
    "scrolled": true
   },
   "outputs": [
    {
     "name": "stdout",
     "output_type": "stream",
     "text": [
      "[[15  1  9]\n",
      " [13  1  7]\n",
      " [12  3  4]\n",
      " [ 7 11  3]\n",
      " [ 7 13  2]]\n",
      "[[17 18]\n",
      " [18 20]\n",
      " [18 16]]\n"
     ]
    }
   ],
   "source": [
    "matrix1 = np.random.randint(1,16,(5,3))\n",
    "matrix2 = np.random.randint(16,22,(3,2))\n",
    "print(matrix1)\n",
    "print(matrix2)"
   ]
  },
  {
   "cell_type": "code",
   "execution_count": 25,
   "id": "6bac17bd-124b-4265-aa14-c1e5103f2e9f",
   "metadata": {},
   "outputs": [
    {
     "data": {
      "text/plain": [
       "array([[435, 434],\n",
       "       [365, 366],\n",
       "       [330, 340],\n",
       "       [371, 394],\n",
       "       [389, 418]])"
      ]
     },
     "execution_count": 25,
     "metadata": {},
     "output_type": "execute_result"
    }
   ],
   "source": [
    "np.dot(matrix1,matrix2)"
   ]
  },
  {
   "cell_type": "markdown",
   "id": "e27b689a-bb31-4b53-8a54-39c39d459e78",
   "metadata": {},
   "source": [
    "25. Given a 1D array, negate all elements which are between 3 and 8, in place."
   ]
  },
  {
   "cell_type": "code",
   "execution_count": 26,
   "id": "3fe34544-990d-4b86-9f64-7d887d602c0e",
   "metadata": {},
   "outputs": [
    {
     "data": {
      "text/plain": [
       "array([ 1,  2, -3, -4, -5, -6, -7, -8,  9])"
      ]
     },
     "execution_count": 26,
     "metadata": {},
     "output_type": "execute_result"
    }
   ],
   "source": [
    "array = np.arange(1,10)\n",
    "\n",
    "mask = ((array >=3) & (array <=8))\n",
    "array[mask] *=-1\n",
    "array"
   ]
  },
  {
   "cell_type": "markdown",
   "id": "435eb7d1-bcf2-4a2d-bf60-a9786f76c791",
   "metadata": {},
   "source": [
    "26. What is the output of the following script? (★☆☆)\n",
    "# Author: Jake VanderPlas\n",
    "\n",
    "print(sum(range(5),-1))\n",
    "from numpy import *\n",
    "print(sum(range(5),-1))\n",
    "\n",
    "9\n",
    "10"
   ]
  },
  {
   "cell_type": "markdown",
   "id": "d17e0748-0c91-45c9-a1ef-52263d28039f",
   "metadata": {},
   "source": [
    "27. Consider an integer vector Z, which of these expressions are legal? (★☆☆)\n",
    "Z**Z\n",
    "2 << Z >> 2\n",
    "Z <- Z\n",
    "1j*Z\n",
    "Z/1/1\n",
    "Z<Z>Z"
   ]
  },
  {
   "cell_type": "markdown",
   "id": "608d4a9c-490f-43e3-b2a8-c09133f8de22",
   "metadata": {},
   "source": [
    "ilegal\n",
    "\n",
    "Z <- Z\n",
    "\n",
    "Z < Z > Z\n"
   ]
  },
  {
   "cell_type": "markdown",
   "id": "a2cc2937-6c4f-492f-b100-0aecd13bdcea",
   "metadata": {},
   "source": [
    "28. What are the result of the following expressions? (★☆☆)\n",
    "np.array(0) / np.array(0)\n",
    "np.array(0) // np.array(0)\n",
    "np.array([np.nan]).astype(int).astype(float)"
   ]
  },
  {
   "cell_type": "markdown",
   "id": "9ba0bb1f-4e91-4b8d-87cc-551a11042378",
   "metadata": {},
   "source": [
    "array(nan)\n",
    "arra(0)\n",
    "error"
   ]
  },
  {
   "cell_type": "markdown",
   "id": "9f028b4a-4670-4cfd-9c0b-11816145f3e4",
   "metadata": {},
   "source": [
    "29. How to round away from zero a float array ?"
   ]
  },
  {
   "cell_type": "markdown",
   "id": "60988258-86b7-47e6-ba66-863bbe9b1b37",
   "metadata": {},
   "source": [
    "we can do this by two function floor() and ceil() functions so we will use both by where() function 'condition funtion'"
   ]
  },
  {
   "cell_type": "code",
   "execution_count": 27,
   "id": "58be8eb7-e3c4-4a9a-9337-15304bfa3c27",
   "metadata": {},
   "outputs": [
    {
     "name": "stdout",
     "output_type": "stream",
     "text": [
      "[[0.50786032 0.16067967 0.379603   0.44048408 0.10256947 0.49068128\n",
      "  0.24735156 0.09440095]]\n"
     ]
    },
    {
     "data": {
      "text/plain": [
       "array([[1., 1., 1., 1., 1., 1., 1., 1.]])"
      ]
     },
     "execution_count": 27,
     "metadata": {},
     "output_type": "execute_result"
    }
   ],
   "source": [
    "array = np.random.rand(1,8)\n",
    "print(array)\n",
    "array = np.where(array >=0 , np.ceil(array),np.floor(array))\n",
    "\n",
    "array"
   ]
  },
  {
   "cell_type": "markdown",
   "id": "5eb089b3-eaf4-4c47-98e6-fe4a4dd8cc4f",
   "metadata": {},
   "source": [
    "30. How to find common values between two arrays?"
   ]
  },
  {
   "cell_type": "code",
   "execution_count": 28,
   "id": "eed85260-caed-4b46-b4e4-b1c05a237036",
   "metadata": {},
   "outputs": [
    {
     "data": {
      "text/plain": [
       "array([], dtype=int64)"
      ]
     },
     "execution_count": 28,
     "metadata": {},
     "output_type": "execute_result"
    }
   ],
   "source": [
    "common_values = np.intersect1d(matrix1,matrix2)\n",
    "common_values"
   ]
  },
  {
   "cell_type": "markdown",
   "id": "3d3b1433-c274-4594-b0f2-817a781c2ba9",
   "metadata": {},
   "source": [
    "31. How to ignore all numpy warnings (not recommended)? "
   ]
  },
  {
   "cell_type": "code",
   "execution_count": 30,
   "id": "34ee60b2-2004-4337-9e98-c729eadf943b",
   "metadata": {},
   "outputs": [],
   "source": [
    "import warnings\n",
    "#warnings.fliterwarnings(\"ignore\")"
   ]
  },
  {
   "cell_type": "markdown",
   "id": "ea2f9366-64a4-4994-a047-1e03f2a07601",
   "metadata": {},
   "source": [
    "32. Is the following expressions true? (★☆☆)\n",
    "np.sqrt(-1) == np.emath.sqrt(-1)\n",
    "Faslse"
   ]
  },
  {
   "cell_type": "markdown",
   "id": "16542900-710c-4dfe-a344-1fff40aadee5",
   "metadata": {},
   "source": [
    "33. How to get the dates of yesterday, today and tomorrow? (★☆☆)"
   ]
  },
  {
   "cell_type": "code",
   "execution_count": 32,
   "id": "67802df1-54f5-4a8b-a6a7-7f737b7b286e",
   "metadata": {},
   "outputs": [
    {
     "data": {
      "text/plain": [
       "numpy.datetime64('2024-11-15')"
      ]
     },
     "execution_count": 32,
     "metadata": {},
     "output_type": "execute_result"
    }
   ],
   "source": [
    "today = np.datetime64('today','D')\n",
    "today"
   ]
  },
  {
   "cell_type": "code",
   "execution_count": 35,
   "id": "c707b2e9-34fe-45be-bf0f-dd4b2577f573",
   "metadata": {},
   "outputs": [
    {
     "data": {
      "text/plain": [
       "numpy.datetime64('2024-11-16')"
      ]
     },
     "execution_count": 35,
     "metadata": {},
     "output_type": "execute_result"
    }
   ],
   "source": [
    "tomorrow  = today + np.timedelta64(1,'D')\n",
    "tomorrow"
   ]
  },
  {
   "cell_type": "code",
   "execution_count": 37,
   "id": "2f03e31a-234f-497c-9492-8b7763baa533",
   "metadata": {},
   "outputs": [
    {
     "data": {
      "text/plain": [
       "numpy.datetime64('2024-11-14')"
      ]
     },
     "execution_count": 37,
     "metadata": {},
     "output_type": "execute_result"
    }
   ],
   "source": [
    "yestraday = today - np.timedelta64(1,'D')\n",
    "yestraday"
   ]
  },
  {
   "cell_type": "markdown",
   "id": "43a58a3e-1af6-4e2b-81a0-e882f8c0f62f",
   "metadata": {},
   "source": [
    "34. How to get all the dates corresponding to the month of July 2016? (★★☆)"
   ]
  },
  {
   "cell_type": "code",
   "execution_count": 44,
   "id": "aafdb8f6-72eb-44c1-8621-7d085b866ccf",
   "metadata": {},
   "outputs": [
    {
     "data": {
      "text/plain": [
       "array(['2016-07-01', '2016-07-02', '2016-07-03', '2016-07-04',\n",
       "       '2016-07-05', '2016-07-06', '2016-07-07', '2016-07-08',\n",
       "       '2016-07-09', '2016-07-10', '2016-07-11', '2016-07-12',\n",
       "       '2016-07-13', '2016-07-14', '2016-07-15', '2016-07-16',\n",
       "       '2016-07-17', '2016-07-18', '2016-07-19', '2016-07-20',\n",
       "       '2016-07-21', '2016-07-22', '2016-07-23', '2016-07-24',\n",
       "       '2016-07-25', '2016-07-26', '2016-07-27', '2016-07-28',\n",
       "       '2016-07-29', '2016-07-30', '2016-07-31'], dtype='datetime64[D]')"
      ]
     },
     "execution_count": 44,
     "metadata": {},
     "output_type": "execute_result"
    }
   ],
   "source": [
    "start = np.datetime64('2016-07-01')\n",
    "end = np.datetime64('2016-08-01')\n",
    "\n",
    "july = np.arange(start,end)\n",
    "july"
   ]
  },
  {
   "cell_type": "markdown",
   "id": "f5ed6b90-1f9a-496b-a3e9-23588973f3ca",
   "metadata": {},
   "source": [
    "35. How to compute ((A+B)*(-A/2)) in place (without copy)? (★★☆)"
   ]
  },
  {
   "cell_type": "code",
   "execution_count": 56,
   "id": "e4458afd-6221-4e80-b144-0ff9214906bd",
   "metadata": {},
   "outputs": [
    {
     "data": {
      "text/plain": [
       "array([2.5, 3. , 3.5, 4. ])"
      ]
     },
     "execution_count": 56,
     "metadata": {},
     "output_type": "execute_result"
    }
   ],
   "source": [
    "A = np.array([1.0,2.0,3.0,4.0])\n",
    "B = np.array([3.0,4.0,5.0,6.0])\n",
    "\n",
    "A*=-(1/2)\n",
    "\n",
    "A +=B\n",
    "\n",
    "A"
   ]
  },
  {
   "cell_type": "markdown",
   "id": "219593f0-57e9-45de-80d6-04ed63af8953",
   "metadata": {},
   "source": [
    "36. Extract the integer part of a random array of positive numbers using 4 different methods (★★☆)"
   ]
  },
  {
   "cell_type": "code",
   "execution_count": 61,
   "id": "d7018e30-d6f3-46b0-8924-79e63f0eaf56",
   "metadata": {},
   "outputs": [],
   "source": [
    "method1 = np.floor(array)\n",
    "method2 = np.trunc(array)\n",
    "method3 = array.astype(int)\n",
    "method4 = np.floor_divide(array,1)"
   ]
  },
  {
   "cell_type": "markdown",
   "id": "ccbb3128-d7c0-4d35-a3df-e32f00ba5f45",
   "metadata": {},
   "source": [
    "37. Create a 5x5 matrix with row values ranging from 0 to 4 (★★☆)"
   ]
  },
  {
   "cell_type": "code",
   "execution_count": 65,
   "id": "3f622001-c982-48ad-94c2-e7bfe659c4ff",
   "metadata": {},
   "outputs": [
    {
     "data": {
      "text/plain": [
       "array([[0, 1, 2, 3, 4],\n",
       "       [0, 1, 2, 3, 4],\n",
       "       [0, 1, 2, 3, 4],\n",
       "       [0, 1, 2, 3, 4],\n",
       "       [0, 1, 2, 3, 4]])"
      ]
     },
     "execution_count": 65,
     "metadata": {},
     "output_type": "execute_result"
    }
   ],
   "source": [
    "array = np.arange(5)\n",
    "matrix = np.tile(array,(5,1))\n",
    "matrix"
   ]
  },
  {
   "cell_type": "markdown",
   "id": "1aa9a004-ead0-4fc0-a56b-71fcbca5e92a",
   "metadata": {},
   "source": [
    "38. Consider a generator function that generates 10 integers and use it to build an array\n",
    "\n",
    "#fromiter   function important"
   ]
  },
  {
   "cell_type": "code",
   "execution_count": null,
   "id": "e7bcbf3c-d5a4-463e-af3d-e4610134270d",
   "metadata": {},
   "outputs": [],
   "source": []
  },
  {
   "cell_type": "code",
   "execution_count": 69,
   "id": "9db2bf58-5483-4365-b6e7-b48f7cac3945",
   "metadata": {},
   "outputs": [
    {
     "data": {
      "text/plain": [
       "array([ 1,  2,  3,  4,  5,  6,  7,  8,  9, 10])"
      ]
     },
     "execution_count": 69,
     "metadata": {},
     "output_type": "execute_result"
    }
   ],
   "source": [
    "def generates():\n",
    "    for i in range(1,11):\n",
    "        yield i\n",
    "array = np.fromiter(generates(),dtype='int')\n",
    "\n",
    "array"
   ]
  },
  {
   "cell_type": "markdown",
   "id": "abb07985-a10d-42bb-8052-d84b73ea952d",
   "metadata": {},
   "source": [
    "39. Create a vector of size 10 with values ranging from 0 to 1, both excluded (★★☆)"
   ]
  },
  {
   "cell_type": "code",
   "execution_count": 74,
   "id": "82d6ca51-98ca-435b-b383-8e49840acaf6",
   "metadata": {},
   "outputs": [
    {
     "data": {
      "text/plain": [
       "array([0.09090909, 0.18181818, 0.27272727, 0.36363636, 0.45454545,\n",
       "       0.54545455, 0.63636364, 0.72727273, 0.81818182, 0.90909091])"
      ]
     },
     "execution_count": 74,
     "metadata": {},
     "output_type": "execute_result"
    }
   ],
   "source": [
    "array = np.linspace(0,1,12)\n",
    "array = array[1:-1]\n",
    "array"
   ]
  },
  {
   "cell_type": "code",
   "execution_count": 76,
   "id": "f109e779-d5f7-4083-8e0d-10350851da0e",
   "metadata": {},
   "outputs": [
    {
     "data": {
      "text/plain": [
       "array([0.14014531, 0.47514414, 0.59698621, 0.80683255, 0.83354946,\n",
       "       0.07248874, 0.3508892 , 0.78820762, 0.29224513, 0.48640185])"
      ]
     },
     "execution_count": 76,
     "metadata": {},
     "output_type": "execute_result"
    }
   ],
   "source": [
    "array = np.random.uniform(0,1,10)\n",
    "array"
   ]
  },
  {
   "cell_type": "markdown",
   "id": "b2819ae1-8829-4e57-b34a-3d5d078920aa",
   "metadata": {},
   "source": [
    "40. Create a random vector of size 10 and sort it (★★☆)"
   ]
  },
  {
   "cell_type": "code",
   "execution_count": 79,
   "id": "f9307ae6-b80f-4d15-9e83-b3f8ff1ea82d",
   "metadata": {},
   "outputs": [
    {
     "data": {
      "text/plain": [
       "array([0.14938747, 0.16452678, 0.37446974, 0.43504273, 0.44828175,\n",
       "       0.49797091, 0.68473843, 0.72965356, 0.77422605, 0.96544   ])"
      ]
     },
     "execution_count": 79,
     "metadata": {},
     "output_type": "execute_result"
    }
   ],
   "source": [
    "array = np.random.rand(10)\n",
    "array = np.sort(array)\n",
    "array"
   ]
  },
  {
   "cell_type": "code",
   "execution_count": null,
   "id": "1ce556b4-e624-463c-9e39-521085d7ac78",
   "metadata": {},
   "outputs": [],
   "source": []
  }
 ],
 "metadata": {
  "kernelspec": {
   "display_name": "Python 3 (ipykernel)",
   "language": "python",
   "name": "python3"
  },
  "language_info": {
   "codemirror_mode": {
    "name": "ipython",
    "version": 3
   },
   "file_extension": ".py",
   "mimetype": "text/x-python",
   "name": "python",
   "nbconvert_exporter": "python",
   "pygments_lexer": "ipython3",
   "version": "3.12.4"
  }
 },
 "nbformat": 4,
 "nbformat_minor": 5
}
