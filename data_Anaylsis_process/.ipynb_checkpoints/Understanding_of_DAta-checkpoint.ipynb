{
 "cells": [
  {
   "cell_type": "markdown",
   "id": "bf36e4ab-db9a-4a58-b71a-2d9a6fd6ceee",
   "metadata": {},
   "source": [
    "# Understanding Your Data"
   ]
  },
  {
   "cell_type": "code",
   "execution_count": 33,
   "id": "7b0cf9f3-0f2c-4dd3-8de1-a59927f7fade",
   "metadata": {},
   "outputs": [],
   "source": [
    "import pandas as pd\n",
    "import seaborn as sns\n",
    "import matplotlib.pyplot as plt\n",
    "df = pd.read_csv('train.csv')"
   ]
  },
  {
   "cell_type": "markdown",
   "id": "afa27c3b-33ae-49f0-818a-73cd07e2a697",
   "metadata": {},
   "source": [
    "## 1.Asking Basic Questions"
   ]
  },
  {
   "cell_type": "markdown",
   "id": "d8810b39-0d86-4c60-81ac-67571a733082",
   "metadata": {},
   "source": [
    "- How big is the data?"
   ]
  },
  {
   "cell_type": "code",
   "execution_count": 7,
   "id": "dccfa659-e367-46b9-8891-657b8df7b7f7",
   "metadata": {},
   "outputs": [
    {
     "data": {
      "text/plain": [
       "(550068, 12)"
      ]
     },
     "execution_count": 7,
     "metadata": {},
     "output_type": "execute_result"
    }
   ],
   "source": [
    "df.shape"
   ]
  },
  {
   "cell_type": "markdown",
   "id": "f68a7432-66d1-4241-941d-d7f7825269fc",
   "metadata": {},
   "source": [
    "- How does the data look like ?"
   ]
  },
  {
   "cell_type": "code",
   "execution_count": 9,
   "id": "b60af43d-df7f-45be-adab-a5f991b9b53f",
   "metadata": {},
   "outputs": [
    {
     "data": {
      "text/html": [
       "<div>\n",
       "<style scoped>\n",
       "    .dataframe tbody tr th:only-of-type {\n",
       "        vertical-align: middle;\n",
       "    }\n",
       "\n",
       "    .dataframe tbody tr th {\n",
       "        vertical-align: top;\n",
       "    }\n",
       "\n",
       "    .dataframe thead th {\n",
       "        text-align: right;\n",
       "    }\n",
       "</style>\n",
       "<table border=\"1\" class=\"dataframe\">\n",
       "  <thead>\n",
       "    <tr style=\"text-align: right;\">\n",
       "      <th></th>\n",
       "      <th>User_ID</th>\n",
       "      <th>Product_ID</th>\n",
       "      <th>Gender</th>\n",
       "      <th>Age</th>\n",
       "      <th>Occupation</th>\n",
       "      <th>City_Category</th>\n",
       "      <th>Stay_In_Current_City_Years</th>\n",
       "      <th>Marital_Status</th>\n",
       "      <th>Product_Category_1</th>\n",
       "      <th>Product_Category_2</th>\n",
       "      <th>Product_Category_3</th>\n",
       "      <th>Purchase</th>\n",
       "    </tr>\n",
       "  </thead>\n",
       "  <tbody>\n",
       "    <tr>\n",
       "      <th>219421</th>\n",
       "      <td>1003827</td>\n",
       "      <td>P00018042</td>\n",
       "      <td>M</td>\n",
       "      <td>51-55</td>\n",
       "      <td>2</td>\n",
       "      <td>C</td>\n",
       "      <td>1</td>\n",
       "      <td>1</td>\n",
       "      <td>15</td>\n",
       "      <td>16.0</td>\n",
       "      <td>NaN</td>\n",
       "      <td>16767</td>\n",
       "    </tr>\n",
       "    <tr>\n",
       "      <th>206441</th>\n",
       "      <td>1001818</td>\n",
       "      <td>P00266642</td>\n",
       "      <td>M</td>\n",
       "      <td>0-17</td>\n",
       "      <td>8</td>\n",
       "      <td>C</td>\n",
       "      <td>4+</td>\n",
       "      <td>0</td>\n",
       "      <td>1</td>\n",
       "      <td>8.0</td>\n",
       "      <td>9.0</td>\n",
       "      <td>11696</td>\n",
       "    </tr>\n",
       "    <tr>\n",
       "      <th>471922</th>\n",
       "      <td>1000731</td>\n",
       "      <td>P00035942</td>\n",
       "      <td>M</td>\n",
       "      <td>46-50</td>\n",
       "      <td>3</td>\n",
       "      <td>A</td>\n",
       "      <td>0</td>\n",
       "      <td>1</td>\n",
       "      <td>1</td>\n",
       "      <td>5.0</td>\n",
       "      <td>18.0</td>\n",
       "      <td>11989</td>\n",
       "    </tr>\n",
       "    <tr>\n",
       "      <th>6603</th>\n",
       "      <td>1001065</td>\n",
       "      <td>P00153742</td>\n",
       "      <td>F</td>\n",
       "      <td>26-35</td>\n",
       "      <td>0</td>\n",
       "      <td>B</td>\n",
       "      <td>3</td>\n",
       "      <td>0</td>\n",
       "      <td>8</td>\n",
       "      <td>NaN</td>\n",
       "      <td>NaN</td>\n",
       "      <td>8123</td>\n",
       "    </tr>\n",
       "    <tr>\n",
       "      <th>515531</th>\n",
       "      <td>1001396</td>\n",
       "      <td>P00142142</td>\n",
       "      <td>F</td>\n",
       "      <td>26-35</td>\n",
       "      <td>12</td>\n",
       "      <td>A</td>\n",
       "      <td>4+</td>\n",
       "      <td>1</td>\n",
       "      <td>1</td>\n",
       "      <td>2.0</td>\n",
       "      <td>15.0</td>\n",
       "      <td>4181</td>\n",
       "    </tr>\n",
       "  </tbody>\n",
       "</table>\n",
       "</div>"
      ],
      "text/plain": [
       "        User_ID Product_ID Gender    Age  Occupation City_Category  \\\n",
       "219421  1003827  P00018042      M  51-55           2             C   \n",
       "206441  1001818  P00266642      M   0-17           8             C   \n",
       "471922  1000731  P00035942      M  46-50           3             A   \n",
       "6603    1001065  P00153742      F  26-35           0             B   \n",
       "515531  1001396  P00142142      F  26-35          12             A   \n",
       "\n",
       "       Stay_In_Current_City_Years  Marital_Status  Product_Category_1  \\\n",
       "219421                          1               1                  15   \n",
       "206441                         4+               0                   1   \n",
       "471922                          0               1                   1   \n",
       "6603                            3               0                   8   \n",
       "515531                         4+               1                   1   \n",
       "\n",
       "        Product_Category_2  Product_Category_3  Purchase  \n",
       "219421                16.0                 NaN     16767  \n",
       "206441                 8.0                 9.0     11696  \n",
       "471922                 5.0                18.0     11989  \n",
       "6603                   NaN                 NaN      8123  \n",
       "515531                 2.0                15.0      4181  "
      ]
     },
     "execution_count": 9,
     "metadata": {},
     "output_type": "execute_result"
    }
   ],
   "source": [
    "df.sample(5) # or header() or tail() functions"
   ]
  },
  {
   "cell_type": "markdown",
   "id": "8a4909e5-0ce0-4860-ba71-76bfd3850730",
   "metadata": {},
   "source": [
    "- What is data type of columns ?"
   ]
  },
  {
   "cell_type": "code",
   "execution_count": 10,
   "id": "2fff13b9-2886-4601-ba08-ca8cfefa9463",
   "metadata": {},
   "outputs": [
    {
     "name": "stdout",
     "output_type": "stream",
     "text": [
      "<class 'pandas.core.frame.DataFrame'>\n",
      "RangeIndex: 550068 entries, 0 to 550067\n",
      "Data columns (total 12 columns):\n",
      " #   Column                      Non-Null Count   Dtype  \n",
      "---  ------                      --------------   -----  \n",
      " 0   User_ID                     550068 non-null  int64  \n",
      " 1   Product_ID                  550068 non-null  object \n",
      " 2   Gender                      550068 non-null  object \n",
      " 3   Age                         550068 non-null  object \n",
      " 4   Occupation                  550068 non-null  int64  \n",
      " 5   City_Category               550068 non-null  object \n",
      " 6   Stay_In_Current_City_Years  550068 non-null  object \n",
      " 7   Marital_Status              550068 non-null  int64  \n",
      " 8   Product_Category_1          550068 non-null  int64  \n",
      " 9   Product_Category_2          376430 non-null  float64\n",
      " 10  Product_Category_3          166821 non-null  float64\n",
      " 11  Purchase                    550068 non-null  int64  \n",
      "dtypes: float64(2), int64(5), object(5)\n",
      "memory usage: 50.4+ MB\n"
     ]
    }
   ],
   "source": [
    "df.info()"
   ]
  },
  {
   "cell_type": "markdown",
   "id": "247802ab-e7a5-41c6-9c41-6feab5575504",
   "metadata": {},
   "source": [
    "- Are there any missing values?"
   ]
  },
  {
   "cell_type": "code",
   "execution_count": 11,
   "id": "797bca40-3490-4bdd-83c9-0f01dcd23b25",
   "metadata": {},
   "outputs": [
    {
     "data": {
      "text/plain": [
       "User_ID                            0\n",
       "Product_ID                         0\n",
       "Gender                             0\n",
       "Age                                0\n",
       "Occupation                         0\n",
       "City_Category                      0\n",
       "Stay_In_Current_City_Years         0\n",
       "Marital_Status                     0\n",
       "Product_Category_1                 0\n",
       "Product_Category_2            173638\n",
       "Product_Category_3            383247\n",
       "Purchase                           0\n",
       "dtype: int64"
      ]
     },
     "execution_count": 11,
     "metadata": {},
     "output_type": "execute_result"
    }
   ],
   "source": [
    "df.isnull().sum()"
   ]
  },
  {
   "cell_type": "markdown",
   "id": "786ce6f7-acc5-4599-a1f3-8697bada517e",
   "metadata": {},
   "source": [
    "- How does the data look mathematically ?"
   ]
  },
  {
   "cell_type": "code",
   "execution_count": 12,
   "id": "6c5931ab-b2d3-4f75-b4b5-3e21ef363fe6",
   "metadata": {},
   "outputs": [
    {
     "data": {
      "text/html": [
       "<div>\n",
       "<style scoped>\n",
       "    .dataframe tbody tr th:only-of-type {\n",
       "        vertical-align: middle;\n",
       "    }\n",
       "\n",
       "    .dataframe tbody tr th {\n",
       "        vertical-align: top;\n",
       "    }\n",
       "\n",
       "    .dataframe thead th {\n",
       "        text-align: right;\n",
       "    }\n",
       "</style>\n",
       "<table border=\"1\" class=\"dataframe\">\n",
       "  <thead>\n",
       "    <tr style=\"text-align: right;\">\n",
       "      <th></th>\n",
       "      <th>User_ID</th>\n",
       "      <th>Occupation</th>\n",
       "      <th>Marital_Status</th>\n",
       "      <th>Product_Category_1</th>\n",
       "      <th>Product_Category_2</th>\n",
       "      <th>Product_Category_3</th>\n",
       "      <th>Purchase</th>\n",
       "    </tr>\n",
       "  </thead>\n",
       "  <tbody>\n",
       "    <tr>\n",
       "      <th>count</th>\n",
       "      <td>5.500680e+05</td>\n",
       "      <td>550068.000000</td>\n",
       "      <td>550068.000000</td>\n",
       "      <td>550068.000000</td>\n",
       "      <td>376430.000000</td>\n",
       "      <td>166821.000000</td>\n",
       "      <td>550068.000000</td>\n",
       "    </tr>\n",
       "    <tr>\n",
       "      <th>mean</th>\n",
       "      <td>1.003029e+06</td>\n",
       "      <td>8.076707</td>\n",
       "      <td>0.409653</td>\n",
       "      <td>5.404270</td>\n",
       "      <td>9.842329</td>\n",
       "      <td>12.668243</td>\n",
       "      <td>9263.968713</td>\n",
       "    </tr>\n",
       "    <tr>\n",
       "      <th>std</th>\n",
       "      <td>1.727592e+03</td>\n",
       "      <td>6.522660</td>\n",
       "      <td>0.491770</td>\n",
       "      <td>3.936211</td>\n",
       "      <td>5.086590</td>\n",
       "      <td>4.125338</td>\n",
       "      <td>5023.065394</td>\n",
       "    </tr>\n",
       "    <tr>\n",
       "      <th>min</th>\n",
       "      <td>1.000001e+06</td>\n",
       "      <td>0.000000</td>\n",
       "      <td>0.000000</td>\n",
       "      <td>1.000000</td>\n",
       "      <td>2.000000</td>\n",
       "      <td>3.000000</td>\n",
       "      <td>12.000000</td>\n",
       "    </tr>\n",
       "    <tr>\n",
       "      <th>25%</th>\n",
       "      <td>1.001516e+06</td>\n",
       "      <td>2.000000</td>\n",
       "      <td>0.000000</td>\n",
       "      <td>1.000000</td>\n",
       "      <td>5.000000</td>\n",
       "      <td>9.000000</td>\n",
       "      <td>5823.000000</td>\n",
       "    </tr>\n",
       "    <tr>\n",
       "      <th>50%</th>\n",
       "      <td>1.003077e+06</td>\n",
       "      <td>7.000000</td>\n",
       "      <td>0.000000</td>\n",
       "      <td>5.000000</td>\n",
       "      <td>9.000000</td>\n",
       "      <td>14.000000</td>\n",
       "      <td>8047.000000</td>\n",
       "    </tr>\n",
       "    <tr>\n",
       "      <th>75%</th>\n",
       "      <td>1.004478e+06</td>\n",
       "      <td>14.000000</td>\n",
       "      <td>1.000000</td>\n",
       "      <td>8.000000</td>\n",
       "      <td>15.000000</td>\n",
       "      <td>16.000000</td>\n",
       "      <td>12054.000000</td>\n",
       "    </tr>\n",
       "    <tr>\n",
       "      <th>max</th>\n",
       "      <td>1.006040e+06</td>\n",
       "      <td>20.000000</td>\n",
       "      <td>1.000000</td>\n",
       "      <td>20.000000</td>\n",
       "      <td>18.000000</td>\n",
       "      <td>18.000000</td>\n",
       "      <td>23961.000000</td>\n",
       "    </tr>\n",
       "  </tbody>\n",
       "</table>\n",
       "</div>"
      ],
      "text/plain": [
       "            User_ID     Occupation  Marital_Status  Product_Category_1  \\\n",
       "count  5.500680e+05  550068.000000   550068.000000       550068.000000   \n",
       "mean   1.003029e+06       8.076707        0.409653            5.404270   \n",
       "std    1.727592e+03       6.522660        0.491770            3.936211   \n",
       "min    1.000001e+06       0.000000        0.000000            1.000000   \n",
       "25%    1.001516e+06       2.000000        0.000000            1.000000   \n",
       "50%    1.003077e+06       7.000000        0.000000            5.000000   \n",
       "75%    1.004478e+06      14.000000        1.000000            8.000000   \n",
       "max    1.006040e+06      20.000000        1.000000           20.000000   \n",
       "\n",
       "       Product_Category_2  Product_Category_3       Purchase  \n",
       "count       376430.000000       166821.000000  550068.000000  \n",
       "mean             9.842329           12.668243    9263.968713  \n",
       "std              5.086590            4.125338    5023.065394  \n",
       "min              2.000000            3.000000      12.000000  \n",
       "25%              5.000000            9.000000    5823.000000  \n",
       "50%              9.000000           14.000000    8047.000000  \n",
       "75%             15.000000           16.000000   12054.000000  \n",
       "max             18.000000           18.000000   23961.000000  "
      ]
     },
     "execution_count": 12,
     "metadata": {},
     "output_type": "execute_result"
    }
   ],
   "source": [
    "df.describe()"
   ]
  },
  {
   "cell_type": "markdown",
   "id": "53ee0a7c-8051-4a12-a924-aacda820b5e5",
   "metadata": {},
   "source": [
    "- Are there duplicate values?"
   ]
  },
  {
   "cell_type": "code",
   "execution_count": 14,
   "id": "c931206e-4911-453e-967a-8c90441e7bb8",
   "metadata": {},
   "outputs": [
    {
     "data": {
      "text/plain": [
       "0"
      ]
     },
     "execution_count": 14,
     "metadata": {},
     "output_type": "execute_result"
    }
   ],
   "source": [
    "df.duplicated().sum()"
   ]
  },
  {
   "cell_type": "markdown",
   "id": "31d34b14-75dd-48ee-9cad-84666fd8ebb2",
   "metadata": {},
   "source": [
    "- Are there any relation between columns ?\n",
    "  \n",
    "      Relations between numericals cols\n",
    "      it shows the value between -1 to 1 value near to -1 means the cols has strong inversly propotional and vice versa"
   ]
  },
  {
   "cell_type": "code",
   "execution_count": 19,
   "id": "f6b41ac7-f98f-485f-9a63-01851ff45a41",
   "metadata": {},
   "outputs": [],
   "source": [
    "#df.corr()"
   ]
  },
  {
   "cell_type": "markdown",
   "id": "8fa551b4-5592-42ac-ae3c-77e6be60db34",
   "metadata": {},
   "source": [
    "# 2.EDA"
   ]
  },
  {
   "cell_type": "markdown",
   "id": "ffec2f13-085f-453c-8a1b-a9fdfe584a79",
   "metadata": {},
   "source": [
    "### Before Starting EDA we should understand Data Type"
   ]
  },
  {
   "cell_type": "markdown",
   "id": "93de6a54-dc0b-4bea-81d8-7c4818d80e73",
   "metadata": {},
   "source": [
    "        There are two Types\n",
    "         1.Numerical    : Numbers for example age,height etc.\n",
    "         2.Categorical  : for example Gender,ratings etc\n",
    "             i.Nominal: order does not matter for example colors red , blue, yellow so it does not mean yellow is good than red vice verce\n",
    "             ii.ordinal: order does matter for example rating best , average , worst  so best > average > worst"
   ]
  },
  {
   "cell_type": "markdown",
   "id": "d575656c-dd2c-489a-b6a8-1cb1b81fc497",
   "metadata": {},
   "source": [
    "### Univaraite "
   ]
  },
  {
   "cell_type": "markdown",
   "id": "c0dcb078-bac8-4620-b463-ddb4a535553e",
   "metadata": {},
   "source": [
    "####      1. Categorical Data"
   ]
  },
  {
   "cell_type": "markdown",
   "id": "68316158-650a-49a5-af3f-48f5429ca68c",
   "metadata": {},
   "source": [
    "    a.CountPlot"
   ]
  },
  {
   "cell_type": "code",
   "execution_count": 27,
   "id": "88d58849-c722-40cb-993e-661a32dfafae",
   "metadata": {},
   "outputs": [
    {
     "data": {
      "text/plain": [
       "<Axes: xlabel='count', ylabel='Age'>"
      ]
     },
     "execution_count": 27,
     "metadata": {},
     "output_type": "execute_result"
    },
    {
     "data": {
      "image/png": "[encoded data removed]",
      "text/plain": [
       "<Figure size 640x480 with 1 Axes>"
      ]
     },
     "metadata": {},
     "output_type": "display_data"
    }
   ],
   "source": [
    "sns.countplot(df['Age'])"
   ]
  },
  {
   "cell_type": "code",
   "execution_count": 31,
   "id": "b95ee0b0-a37b-409a-a5ca-11ca811de1a1",
   "metadata": {},
   "outputs": [
    {
     "data": {
      "text/plain": [
       "<Axes: xlabel='Age'>"
      ]
     },
     "execution_count": 31,
     "metadata": {},
     "output_type": "execute_result"
    },
    {
     "data": {
      "image/png": "[encoded data removed]",
      "text/plain": [
       "<Figure size 640x480 with 1 Axes>"
      ]
     },
     "metadata": {},
     "output_type": "display_data"
    }
   ],
   "source": [
    "## different method\n",
    "df['Age'].value_counts().plot(kind='bar')\n",
    "## count plot actually do the same work first it calculate the counts then crate  bar plot"
   ]
  },
  {
   "cell_type": "markdown",
   "id": "61462449-530e-48db-8373-a576366ef091",
   "metadata": {},
   "source": [
    "    b.PieChart"
   ]
  },
  {
   "cell_type": "code",
   "execution_count": 37,
   "id": "e18a8667-5bdc-4640-a1b8-3a4a3e79c7bb",
   "metadata": {},
   "outputs": [
    {
     "data": {
      "text/plain": [
       "<Axes: ylabel='count'>"
      ]
     },
     "execution_count": 37,
     "metadata": {},
     "output_type": "execute_result"
    },
    {
     "data": {
      "image/png": "[encoded data removed]",
      "text/plain": [
       "<Figure size 640x480 with 1 Axes>"
      ]
     },
     "metadata": {},
     "output_type": "display_data"
    }
   ],
   "source": [
    "df['Gender'].value_counts().plot(kind='pie',autopct='%0.2f%%')"
   ]
  },
  {
   "cell_type": "markdown",
   "id": "c340a58c-c23b-4609-aa83-e4b28fe28a3e",
   "metadata": {},
   "source": [
    "####      2.Numerical Data"
   ]
  },
  {
   "cell_type": "markdown",
   "id": "5fc713a8-3c58-40a1-805a-0ab0f040f15f",
   "metadata": {},
   "source": [
    "    a.Histogram"
   ]
  },
  {
   "cell_type": "code",
   "execution_count": 41,
   "id": "b2925a9a-56f5-44cc-9959-e87a4228ed95",
   "metadata": {},
   "outputs": [
    {
     "data": {
      "text/plain": [
       "(array([164242.,  20213.,  11753., 171399.,   3721., 113925.,    410.,\n",
       "         29412.,   3947.,   5549.,   1523.,  16118.,    578.,   3125.,\n",
       "          4153.]),\n",
       " array([ 1.        ,  2.26666667,  3.53333333,  4.8       ,  6.06666667,\n",
       "         7.33333333,  8.6       ,  9.86666667, 11.13333333, 12.4       ,\n",
       "        13.66666667, 14.93333333, 16.2       , 17.46666667, 18.73333333,\n",
       "        20.        ]),\n",
       " <BarContainer object of 15 artists>)"
      ]
     },
     "execution_count": 41,
     "metadata": {},
     "output_type": "execute_result"
    },
    {
     "data": {
      "image/png": "[encoded data removed]",
      "text/plain": [
       "<Figure size 640x480 with 1 Axes>"
      ]
     },
     "metadata": {},
     "output_type": "display_data"
    }
   ],
   "source": [
    "plt.hist(df['Product_Category_1'],bins=15)"
   ]
  },
  {
   "cell_type": "markdown",
   "id": "e50af4ff-d29b-4908-be1d-193e9da93e17",
   "metadata": {},
   "source": [
    "    b.DistPlot"
   ]
  },
  {
   "cell_type": "code",
   "execution_count": 42,
   "id": "c3b087f6-981a-40fc-b54a-0e8c8bf4315a",
   "metadata": {},
   "outputs": [
    {
     "name": "stderr",
     "output_type": "stream",
     "text": [
      "/tmp/ipykernel_74118/3126615257.py:1: UserWarning: \n",
      "\n",
      "`distplot` is a deprecated function and will be removed in seaborn v0.14.0.\n",
      "\n",
      "Please adapt your code to use either `displot` (a figure-level function with\n",
      "similar flexibility) or `histplot` (an axes-level function for histograms).\n",
      "\n",
      "For a guide to updating your code to use the new functions, please see\n",
      "https://gist.github.com/mwaskom/de44147ed2974457ad6372750bbe5751\n",
      "\n",
      "  sns.distplot(df['Product_Category_1'])\n"
     ]
    },
    {
     "data": {
      "text/plain": [
       "<Axes: xlabel='Product_Category_1', ylabel='Density'>"
      ]
     },
     "execution_count": 42,
     "metadata": {},
     "output_type": "execute_result"
    },
    {
     "data": {
      "image/png": "[encoded data removed]",
      "text/plain": [
       "<Figure size 640x480 with 1 Axes>"
      ]
     },
     "metadata": {},
     "output_type": "display_data"
    }
   ],
   "source": [
    "sns.distplot(df['Product_Category_1'])"
   ]
  },
  {
   "cell_type": "markdown",
   "id": "eb977c9d-01a4-4ab4-a88d-58326c980523",
   "metadata": {},
   "source": [
    "    c.BoxPlot"
   ]
  },
  {
   "cell_type": "code",
   "execution_count": 44,
   "id": "1c3208d7-e62f-4165-965a-dacda683a65d",
   "metadata": {},
   "outputs": [
    {
     "data": {
      "text/plain": [
       "<Axes: ylabel='Purchase'>"
      ]
     },
     "execution_count": 44,
     "metadata": {},
     "output_type": "execute_result"
    },
    {
     "data": {
      "image/png": "[encoded data removed]",
      "text/plain": [
       "<Figure size 640x480 with 1 Axes>"
      ]
     },
     "metadata": {},
     "output_type": "display_data"
    }
   ],
   "source": [
    "sns.boxplot(df['Purchase'])"
   ]
  },
  {
   "cell_type": "code",
   "execution_count": null,
   "id": "a19add08-4085-4ad1-ae86-d569cc62cd97",
   "metadata": {},
   "outputs": [],
   "source": []
  }
 ],
 "metadata": {
  "kernelspec": {
   "display_name": "Python 3 (ipykernel)",
   "language": "python",
   "name": "python3"
  },
  "language_info": {
   "codemirror_mode": {
    "name": "ipython",
    "version": 3
   },
   "file_extension": ".py",
   "mimetype": "text/x-python",
   "name": "python",
   "nbconvert_exporter": "python",
   "pygments_lexer": "ipython3",
   "version": "3.12.4"
  }
 },
 "nbformat": 4,
 "nbformat_minor": 5
}
