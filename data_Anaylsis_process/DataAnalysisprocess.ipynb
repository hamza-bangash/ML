{
 "cells": [
  {
   "cell_type": "code",
   "execution_count": 3,
   "id": "1aeaa872-db9f-4485-9c20-17b2707a7e49",
   "metadata": {},
   "outputs": [],
   "source": [
    "import pandas as pd"
   ]
  },
  {
   "cell_type": "markdown",
   "id": "190db858-ab51-415d-afae-0db5d5494311",
   "metadata": {},
   "source": [
    "# What is Assessing Data ?"
   ]
  },
  {
   "cell_type": "markdown",
   "id": "09f0d23e-2122-4017-aae5-17896707cb91",
   "metadata": {},
   "source": [
    "The Data analysis consist of the following steps"
   ]
  },
  {
   "cell_type": "markdown",
   "id": "630e85b1-8f73-4d76-8da8-0ad10751bf45",
   "metadata": {
    "jp-MarkdownHeadingCollapsed": true
   },
   "source": [
    "## 1.  Asking Questions"
   ]
  },
  {
   "cell_type": "markdown",
   "id": "01b899c8-a2da-4753-8de2-c73f95366e92",
   "metadata": {},
   "source": [
    "## 2.  Data Wrangling"
   ]
  },
  {
   "cell_type": "markdown",
   "id": "e922b220-de8c-4513-860c-64b9d7d867f7",
   "metadata": {},
   "source": [
    "    1.Gathering Data"
   ]
  },
  {
   "cell_type": "markdown",
   "id": "4ffce350-445e-4be6-b758-7e3e9eaab8c5",
   "metadata": {},
   "source": [
    "        a.Csv files"
   ]
  },
  {
   "cell_type": "markdown",
   "id": "2f471c00-7c15-4e78-be30-f518889097dc",
   "metadata": {},
   "source": [
    "Csv stand for Comma seprated values "
   ]
  },
  {
   "cell_type": "code",
   "execution_count": 18,
   "id": "867421ea-58f8-49d8-9279-28b42fded223",
   "metadata": {},
   "outputs": [],
   "source": [
    "#from file\n",
    "df1 = pd.read_csv('data.csv') "
   ]
  },
  {
   "cell_type": "code",
   "execution_count": 28,
   "id": "e92999f3-9759-4521-ac90-4a961a4ee42c",
   "metadata": {},
   "outputs": [
    {
     "name": "stdout",
     "output_type": "stream",
     "text": [
      "Failed to fetch data. Status code: 404\n"
     ]
    }
   ],
   "source": [
    "#From Url\n",
    "import requests\n",
    "from io import StringIO\n",
    "\n",
    "# Define the URL of the CSV file\n",
    "url = \"https://example.com/path/to/csv\"\n",
    "\n",
    "# Define headers if needed (can be left empty if not required)\n",
    "headers = {\n",
    "    \"User-Agent\": \"Your User Agent Here\"  # Replace or remove as needed\n",
    "}\n",
    "\n",
    "# Fetch the data\n",
    "req = requests.get(url, headers=headers)\n",
    "\n",
    "# Check if the request was successful\n",
    "if req.status_code == 200:\n",
    "    # Convert the response text into a StringIO object\n",
    "    data = StringIO(req.text)\n",
    "    \n",
    "    # Load the data into a pandas DataFrame\n",
    "    df = pd.read_csv(data)\n",
    "    print(df.head())  # Display the first few rows\n",
    "else:\n",
    "    print(f\"Failed to fetch data. Status code: {req.status_code}\")\n"
   ]
  },
  {
   "cell_type": "markdown",
   "id": "2ad17409-9e59-4cba-b33f-85bf52740e46",
   "metadata": {},
   "source": [
    "important parameters"
   ]
  },
  {
   "cell_type": "code",
   "execution_count": 30,
   "id": "cb311b64-740b-4f21-a9ff-634ce8b7a89b",
   "metadata": {},
   "outputs": [],
   "source": [
    "# sep parameter  so its used to seperate values by different seperated values by defulat its comma\n",
    "# pd.read_csv('movie_titles_metadata.tsv', sep='\\t') fro example movie_titles_metadata.tsv is seprated by tabs so in sep paramets we mention tab\n"
   ]
  },
  {
   "cell_type": "code",
   "execution_count": 33,
   "id": "8301682e-2dc4-4769-97c9-e3259b5aa422",
   "metadata": {},
   "outputs": [],
   "source": [
    "# name parameter is used to give name to the columns if they dont have passing list\n",
    "# pd.read_csv('data.csv', name=[column1 , 2 ----] ) "
   ]
  },
  {
   "cell_type": "code",
   "execution_count": 34,
   "id": "c36dff1d-a79b-42ce-a39c-de9ccc010392",
   "metadata": {},
   "outputs": [],
   "source": [
    "# Header parameter is used to bring back coluns name from values as frist row\n",
    "#pd.read_csv('data.csv', header=1)"
   ]
  },
  {
   "cell_type": "code",
   "execution_count": 36,
   "id": "174fd7c0-37a9-445a-ac65-7862b9fb00c6",
   "metadata": {},
   "outputs": [],
   "source": [
    "# use_cols parameter is used to  get only useable columns\n",
    "# pd.read_csv('data.csv', use_cols=[col1name, col2name ---])"
   ]
  },
  {
   "cell_type": "code",
   "execution_count": 41,
   "id": "86b38009-a671-46b4-b520-ad5294409228",
   "metadata": {},
   "outputs": [],
   "source": [
    "# skiprows used to skip rows\n",
    "# error_bad_lines parameter is used to remove those line which create problems\n",
    "#dtypes parametes is used to convert data types\n",
    "#Handling Dates \n",
    "#Convertors is important\n",
    "# na_values parameter to consider which type of value should be nan vlues\n",
    "#chunksize loading huge dataset in chunks "
   ]
  },
  {
   "cell_type": "markdown",
   "id": "9f93aa1f-7e51-4b67-b920-81b8afc86979",
   "metadata": {},
   "source": [
    "        b.APIs"
   ]
  },
  {
   "cell_type": "code",
   "execution_count": 14,
   "id": "f2b2f47c-0978-4a72-bd3f-49286c4921a1",
   "metadata": {},
   "outputs": [],
   "source": [
    "import requests\n",
    "\n",
    "url = \"https://cricbuzz-cricket.p.rapidapi.com/mcenter/v1/41881/comm\"\n",
    "\n",
    "headers = {\n",
    "\t\"x-rapidapi-key\": \"d11e6b81c9msh1a4eabb53ba7c92p11a593jsn742ab0e3a0d7\",\n",
    "\t\"x-rapidapi-host\": \"cricbuzz-cricket.p.rapidapi.com\"\n",
    "}\n",
    "\n",
    "response = requests.get(url, headers=headers)\n"
   ]
  },
  {
   "cell_type": "markdown",
   "id": "66f6d629-5165-4e01-a567-080a013d0098",
   "metadata": {},
   "source": [
    "        c.Web Scraping"
   ]
  },
  {
   "cell_type": "code",
   "execution_count": 16,
   "id": "dd638f2a-0b89-4462-a762-88a2cf4bb193",
   "metadata": {},
   "outputs": [],
   "source": [
    "import requests\n",
    "from bs4 import BeautifulSoup"
   ]
  },
  {
   "cell_type": "code",
   "execution_count": 21,
   "id": "1cb8400d-71c9-4b1a-bc55-0163bf4bb341",
   "metadata": {},
   "outputs": [],
   "source": [
    "headers = {\n",
    "    \"User-Agent\": \"Mozilla/5.0 (Windows NT 10.0; Win64; x64) AppleWebKit/537.36 (KHTML, like Gecko) Chrome/114.0.0.0 Safari/537.36\",\n",
    "    \"Accept-Language\": \"en-US,en;q=0.9\",\n",
    "    \"Accept-Encoding\": \"gzip, deflate, br\",\n",
    "    \"Connection\": \"keep-alive\",\n",
    "}\n",
    "url = 'https://www.ambitionbox.com/list-of-companies?page=1'\n",
    "\n",
    "webpage = requests.get(url,headers=headers)\n",
    "soup=BeautifulSoup(webpage.text,'lxml')"
   ]
  },
  {
   "cell_type": "code",
   "execution_count": 24,
   "id": "78efe688-b653-42e2-8a06-ffaef451d95c",
   "metadata": {},
   "outputs": [
    {
     "data": {
      "text/plain": [
       "0"
      ]
     },
     "execution_count": 24,
     "metadata": {},
     "output_type": "execute_result"
    }
   ],
   "source": [
    "company=soup.find_all('div', class_='company-content-wrapper')\n",
    "len(company)"
   ]
  },
  {
   "cell_type": "markdown",
   "id": "ec00f510-b650-4bf2-909c-d2a6ca8397e9",
   "metadata": {},
   "source": [
    "        d. Databases (JSon and sql)"
   ]
  },
  {
   "cell_type": "code",
   "execution_count": 4,
   "id": "e7275821-3ab3-4631-8a45-f3ea0398d23e",
   "metadata": {},
   "outputs": [],
   "source": [
    "# json Data\n",
    "df = pd.read_json('test.json') # you can also get data from url by just putting url instead of test.json\n"
   ]
  },
  {
   "cell_type": "code",
   "execution_count": 7,
   "id": "de7ed6f7-59ae-4e0f-8e0a-8e2870ff7a01",
   "metadata": {},
   "outputs": [],
   "source": [
    "#sql Data\n",
    "#import mysql.connector\n",
    "# conn = mysql.connector.connect(host='localhost' , user='root' password='' , database='name) # database must be present in your local or on host\n",
    "#pd.read_sql_query(\"Select * from city\" ,conn)"
   ]
  },
  {
   "cell_type": "markdown",
   "id": "beed4ccc-9fc4-4837-b4b7-99a54aca5aa9",
   "metadata": {},
   "source": [
    "    2.Assessing Data"
   ]
  },
  {
   "cell_type": "markdown",
   "id": "ff58fd4c-021b-4828-9ddd-ca1ee80e549a",
   "metadata": {},
   "source": [
    "in this step, the data is to be understood more deeply. Before implementing methods to clean it. you will definitely need to have a better idea about what the data is about"
   ]
  },
  {
   "cell_type": "markdown",
   "id": "4b994974-4391-409f-b163-5bda39d0b2a7",
   "metadata": {},
   "source": [
    "Types of Unclean Data\n",
    "there are two types of unclean data\n",
    "\n",
    "1.Dirty data: has conten issue\n",
    "\n",
    "2.Messy data: has structure issue"
   ]
  },
  {
   "cell_type": "markdown",
   "id": "4daa3b28-c394-4c9d-bcbd-3a3b06a2c531",
   "metadata": {},
   "source": [
    "1.Dirty Data\n",
    "when the data has following issue\n",
    "\n",
    "    1.Duplicated data\n",
    "    2.Missing data\n",
    "    3.Corrupt data\n",
    "    4.inaccurate data"
   ]
  },
  {
   "cell_type": "markdown",
   "id": "64884853-88de-4fc7-8ce8-91b66defdc5d",
   "metadata": {},
   "source": [
    "2.Messy Data has the following peoperties\n",
    "\n",
    "    1.Each variable forms a column\n",
    "    2.Each observation forms a row\n",
    "    3.Each onservation unit forms a table"
   ]
  },
  {
   "cell_type": "markdown",
   "id": "a484c565-c7ce-4c41-9858-e5b41de17a8f",
   "metadata": {},
   "source": [
    "- Types of Assessment\n",
    "  \n",
    "there are two types of assessment styles\n",
    "\n",
    "    1.Manual by looking to the data and obser\n",
    "    2.Programmatic by using pandas function like info() , describe() or sample()"
   ]
  },
  {
   "cell_type": "markdown",
   "id": "2992dfe7-6b98-40dd-8d05-7c2607796e19",
   "metadata": {},
   "source": [
    "- Steps in Assessment\n",
    "\n",
    "There are two steps\n",
    "\n",
    "    1.Discover\n",
    "    2.Document"
   ]
  },
  {
   "cell_type": "markdown",
   "id": "ee314950-7ecf-4d9c-b821-b7e3ae5656d6",
   "metadata": {},
   "source": [
    "    3.Cleaning  Data"
   ]
  },
  {
   "cell_type": "markdown",
   "id": "6fbb68dc-994e-480b-85b5-62ef53f02514",
   "metadata": {},
   "source": [
    "## 3.Exploratory Data Analysis"
   ]
  },
  {
   "cell_type": "markdown",
   "id": "78906ef1-c778-4abc-be31-3a068b56a14a",
   "metadata": {},
   "source": [
    "## 4.Drawing Conclusion"
   ]
  },
  {
   "cell_type": "markdown",
   "id": "ba1af631-bf4e-45f3-9564-ae12c0e17b1f",
   "metadata": {},
   "source": [
    "## 5. Comunication Results"
   ]
  },
  {
   "cell_type": "code",
   "execution_count": null,
   "id": "a2781b98-8484-4fdf-b380-e9c79ea317f9",
   "metadata": {},
   "outputs": [],
   "source": []
  }
 ],
 "metadata": {
  "kernelspec": {
   "display_name": "Python 3 (ipykernel)",
   "language": "python",
   "name": "python3"
  },
  "language_info": {
   "codemirror_mode": {
    "name": "ipython",
    "version": 3
   },
   "file_extension": ".py",
   "mimetype": "text/x-python",
   "name": "python",
   "nbconvert_exporter": "python",
   "pygments_lexer": "ipython3",
   "version": "3.12.2"
  }
 },
 "nbformat": 4,
 "nbformat_minor": 5
}
