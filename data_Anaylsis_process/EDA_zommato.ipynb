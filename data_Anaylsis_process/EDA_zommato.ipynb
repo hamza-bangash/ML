{
 "cells": [
  {
   "cell_type": "code",
   "execution_count": 1,
   "id": "1cd57a6d-ec06-4bd7-952f-7a4238bb5da0",
   "metadata": {},
   "outputs": [],
   "source": [
    "import pandas as pd\n",
    "import numpy as np\n",
    "import matplotlib.pyplot as plt\n",
    "import seaborn as sns\n",
    "%matplotlib inline"
   ]
  },
  {
   "cell_type": "code",
   "execution_count": null,
   "id": "3d5633d1-2ddf-438b-8d17-c99f1c285e81",
   "metadata": {},
   "outputs": [],
   "source": [
    "df = pd.read_csv('"
   ]
  }
 ],
 "metadata": {
  "kernelspec": {
   "display_name": "Python 3 (ipykernel)",
   "language": "python",
   "name": "python3"
  },
  "language_info": {
   "codemirror_mode": {
    "name": "ipython",
    "version": 3
   },
   "file_extension": ".py",
   "mimetype": "text/x-python",
   "name": "python",
   "nbconvert_exporter": "python",
   "pygments_lexer": "ipython3",
   "version": "3.12.2"
  }
 },
 "nbformat": 4,
 "nbformat_minor": 5
}
