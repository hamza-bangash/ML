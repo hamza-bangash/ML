{
 "cells": [
  {
   "cell_type": "markdown",
   "id": "b7a3f20c-0cec-4951-93a4-2efb8bc8e7c4",
   "metadata": {},
   "source": [
    "# Feature Engineering"
   ]
  },
  {
   "cell_type": "markdown",
   "id": "653a080d-89de-456f-8ca6-5edd710a6294",
   "metadata": {},
   "source": [
    "Feature engineering is the process of using domain knowledge to extract features from raw data. These Features can be\n",
    "used to improve the performance of machine learning algorithms."
   ]
  },
  {
   "cell_type": "markdown",
   "id": "2352b94a-f8e3-4521-aef2-60bae50d58fd",
   "metadata": {},
   "source": [
    "# Feature Engineering sub parts"
   ]
  },
  {
   "cell_type": "markdown",
   "id": "48789c2c-a304-4b28-a334-0cd635fe415c",
   "metadata": {},
   "source": [
    "## 1.Feature Transformation"
   ]
  },
  {
   "cell_type": "markdown",
   "id": "03ffdcc2-bffa-4b8d-a10c-1dff5a9474fa",
   "metadata": {},
   "source": [
    "         1.Missing value"
   ]
  },
  {
   "cell_type": "markdown",
   "id": "6694e092-61c6-4acf-bdb7-a2fecf296b9f",
   "metadata": {},
   "source": [
    "        2.Handling Categorical Values"
   ]
  },
  {
   "cell_type": "markdown",
   "id": "ec60672b-f314-4661-bdbf-6f8e15c597d5",
   "metadata": {},
   "source": [
    "        3.Outliers Detection"
   ]
  },
  {
   "cell_type": "markdown",
   "id": "12c84621-0b13-4c59-a70f-30c5684ca794",
   "metadata": {},
   "source": [
    "        4.Feature Scalling"
   ]
  },
  {
   "cell_type": "markdown",
   "id": "b0b5b3c3-e384-4a1a-9db0-06ab8637815b",
   "metadata": {},
   "source": [
    "## 2)Feature Construction\n",
    "    - In Feature construction we construct the feature from given features to new features"
   ]
  },
  {
   "cell_type": "markdown",
   "id": "3b011c83-6ddc-4432-8c68-3f79dc008aee",
   "metadata": {},
   "source": [
    "## 3)Feature Selection\n",
    "        -In feature selection we select those feature which is most useful for model and remove other"
   ]
  },
  {
   "cell_type": "markdown",
   "id": "23f948f0-0d39-4cf7-ab78-8657c283c6b6",
   "metadata": {},
   "source": [
    "## 4)Feature Extraction\n",
    "        -Compressing many features into fewer meaningful ones"
   ]
  },
  {
   "cell_type": "code",
   "execution_count": null,
   "id": "e2ed05fa-1041-4696-9578-eab57a2183dc",
   "metadata": {},
   "outputs": [],
   "source": []
  }
 ],
 "metadata": {
  "kernelspec": {
   "display_name": "Python 3 (ipykernel)",
   "language": "python",
   "name": "python3"
  },
  "language_info": {
   "codemirror_mode": {
    "name": "ipython",
    "version": 3
   },
   "file_extension": ".py",
   "mimetype": "text/x-python",
   "name": "python",
   "nbconvert_exporter": "python",
   "pygments_lexer": "ipython3",
   "version": "3.12.2"
  }
 },
 "nbformat": 4,
 "nbformat_minor": 5
}
