{
 "cells": [
  {
   "cell_type": "markdown",
   "id": "ed296cb0-2511-48c3-b687-8231d23db2e0",
   "metadata": {},
   "source": [
    "# Mathematical Transform\n",
    "    -Mathematical transforms are functions or operations that convert data from one form to another. They are widely used in machine learning, signal processing, and mathematics to simplify analysis, improve performance, and extract features."
   ]
  },
  {
   "cell_type": "markdown",
   "id": "c062c03a-c019-454c-adea-9fe590e59e17",
   "metadata": {
    "jp-MarkdownHeadingCollapsed": true
   },
   "source": [
    "### Why Do We Use Mathematical Transforms?\n",
    "    Mathematical transforms are used to:\n",
    "    ✅ Improve model performance (e.g., normalizing data for machine learning models).\n",
    "    ✅ Handle non-linearity (e.g., transforming data to fit a linear model).\n",
    "    ✅ Reduce dimensionality (e.g., using PCA).\n",
    "    ✅ Extract useful features (e.g., Fourier Transform for image processing).\n",
    "    ✅ Make data easier to interpret (e.g., log transformation for financial data)."
   ]
  },
  {
   "cell_type": "markdown",
   "id": "64d0618b-6e14-4d62-8941-29a03be52bb3",
   "metadata": {},
   "source": [
    "    1.Linear Transform\t     Standardization, Min-Max Scaling\t     Used for ML models like SVM, Logistic Regression\n",
    "    2.Non-Linear Transform\t    Log, Square Root, Box-Cox\t             Normalizing skewed data, feature scaling\n",
    "    3.Frequency Transform\t  Fourier Transform, Wavelet Transform\t Audio analysis, image processing, medical signals\n",
    "    4.Dimensionality Reduction\tPCA, SVD\t                 Feature reduction,   image compression, ML optimization"
   ]
  },
  {
   "cell_type": "markdown",
   "id": "5f8b96ee-757c-493b-b8e9-4a7129ed5350",
   "metadata": {},
   "source": [
    "#### In Simple Term Mathematical Transform is used to convert non-normal distribution to Normal Distribution\n",
    "#### Why we Need Normal distribution it easy to understand and some of ML model give butter perfomance on normal distribution"
   ]
  },
  {
   "cell_type": "markdown",
   "id": "c0374dca-f992-4479-882c-1a582baefb70",
   "metadata": {
    "jp-MarkdownHeadingCollapsed": true
   },
   "source": [
    "## The question is how we know wether data is normal or not\n",
    "    1. using kde plot\n",
    "    2.skew() function if equal to zero or not\n",
    "    3.QQplot"
   ]
  },
  {
   "cell_type": "markdown",
   "id": "c653185d-3532-4561-8d3a-52529ad1b22d",
   "metadata": {},
   "source": [
    "## In sklearn we Have three mathematics transformer\n",
    "    1.Function transformer\n",
    "    2.Power transformer\n",
    "    3.qunantile transformer"
   ]
  },
  {
   "cell_type": "markdown",
   "id": "eccf69d9-395a-40cb-bf2b-a3c5a88a47d0",
   "metadata": {},
   "source": [
    "### 1. Function transformer\n",
    "    -log\n",
    "    -reciprocal\n",
    "    -square\n",
    "    -squareroot"
   ]
  },
  {
   "cell_type": "markdown",
   "id": "fca45680-86c6-43f3-89d1-5efee18f0e8d",
   "metadata": {},
   "source": [
    "#### 1.log Transformer \n",
    "        - log transformer simple means applying log on each value\n",
    "        - when to use\n",
    "        1.on positive data bcz log does not work on negative value\n",
    "        2.on right skew data\n",
    "        -Benfits :\n",
    "            -give us normal distribution due to which our data got linear as we know linear and logistic regeression work better on linear data"
   ]
  },
  {
   "cell_type": "markdown",
   "id": "302dca71-0445-4443-a9ca-66bb3ca3ad8d",
   "metadata": {},
   "source": [
    "#### 2.reciprocal Transformer\n",
    "    - it use to convert a large value to small value and small to a large value"
   ]
  },
  {
   "cell_type": "markdown",
   "id": "0b5af536-4840-43d0-88c3-3f6d2d339097",
   "metadata": {},
   "source": [
    "#### 3.square Transformer\n",
    "    - it use for left skew data"
   ]
  },
  {
   "cell_type": "markdown",
   "id": "62b0bfa2-7792-46ad-807c-3357e75ca37f",
   "metadata": {},
   "source": [
    "#### 4.squareroot transformer\n",
    "    -Reduces right skewness, but not as aggressively as log.\n",
    "    -Helps when data varies widely in range"
   ]
  },
  {
   "cell_type": "markdown",
   "id": "6415e309-9a1e-47be-a235-8e8f0434bb98",
   "metadata": {},
   "source": [
    "### 2.Power Transformer\n",
    "    -Box-Cox\n",
    "    -Yeo-Johnson"
   ]
  },
  {
   "cell_type": "markdown",
   "id": "71d3d9cc-0054-4391-b053-d05ae94ecc42",
   "metadata": {},
   "source": [
    "#### 1.Box-Cox\n",
    "    -it only use for value greater than zero mean it only work on positive value\n",
    "    -it convert non-normal distribution to normal distribution"
   ]
  },
  {
   "cell_type": "markdown",
   "id": "30a7fa2e-a9d4-45c2-acdf-e2af1f9a5f81",
   "metadata": {},
   "source": [
    "#### 2. Yeo-Johnson\n",
    "    - it use on both negative and positive \n",
    "    - it convert non-normal distribution to normal distribution"
   ]
  },
  {
   "cell_type": "code",
   "execution_count": null,
   "id": "eab5ff01-38fe-4140-b08e-1a506c14c585",
   "metadata": {},
   "outputs": [],
   "source": []
  }
 ],
 "metadata": {
  "kernelspec": {
   "display_name": "Python 3 (ipykernel)",
   "language": "python",
   "name": "python3"
  },
  "language_info": {
   "codemirror_mode": {
    "name": "ipython",
    "version": 3
   },
   "file_extension": ".py",
   "mimetype": "text/x-python",
   "name": "python",
   "nbconvert_exporter": "python",
   "pygments_lexer": "ipython3",
   "version": "3.12.2"
  }
 },
 "nbformat": 4,
 "nbformat_minor": 5
}
