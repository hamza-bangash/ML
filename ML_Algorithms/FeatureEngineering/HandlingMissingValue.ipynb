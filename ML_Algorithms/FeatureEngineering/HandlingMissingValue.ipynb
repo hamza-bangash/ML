{
 "cells": [
  {
   "cell_type": "markdown",
   "id": "b07c27ca-25d7-49d8-8d2c-2c29af7442fc",
   "metadata": {},
   "source": [
    "# Handling Missing Data"
   ]
  },
  {
   "cell_type": "code",
   "execution_count": 5,
   "id": "6c4d76bb-087a-44c5-81c3-8bb055a21312",
   "metadata": {},
   "outputs": [],
   "source": [
    "import pandas as pd\n",
    "import numpy as np"
   ]
  },
  {
   "cell_type": "markdown",
   "id": "fb4ec057-d94c-4e5a-8770-dbfbff950e8c",
   "metadata": {
    "jp-MarkdownHeadingCollapsed": true
   },
   "source": [
    "### If we having a missing Data then there is two option\n",
    "    1.Drop missing rows or columns know as complete case analysis\n",
    "    2.Impute : then there is two type\n",
    "        a.univariate: SimpleImputer(): sklearn function\n",
    "                -Numerical : (mean,median,random,End of distribution)\n",
    "                -Categorical:(mode,missing\n",
    "                  \n",
    "                \n",
    "        b.multivariate\n",
    "                -knn imputer\n",
    "                -iterative imputer\n",
    "        "
   ]
  },
  {
   "cell_type": "markdown",
   "id": "643f049c-e3d2-4b37-a77c-b0fefbb699c4",
   "metadata": {},
   "source": [
    "#### 1.Complete Case Analysis\n",
    "    -when to use when value missing randomly,less than data missing 5%  if a large number of data missing column remove the entire column like 95%\n",
    "    -Advantage:\n",
    "        easy to implement\n",
    "        preserves variable distribution\n",
    "    -Disadvatage:\n",
    "        it can exclude a large fraction of the data\n",
    "        when using our models in production , the model will not know how to handle missing data\n",
    "        \n",
    "        \n",
    "        "
   ]
  },
  {
   "cell_type": "code",
   "execution_count": 6,
   "id": "931fe64a-82cd-4f0f-94aa-31b9a6ea3351",
   "metadata": {},
   "outputs": [
    {
     "data": {
      "text/html": [
       "<div>\n",
       "<style scoped>\n",
       "    .dataframe tbody tr th:only-of-type {\n",
       "        vertical-align: middle;\n",
       "    }\n",
       "\n",
       "    .dataframe tbody tr th {\n",
       "        vertical-align: top;\n",
       "    }\n",
       "\n",
       "    .dataframe thead th {\n",
       "        text-align: right;\n",
       "    }\n",
       "</style>\n",
       "<table border=\"1\" class=\"dataframe\">\n",
       "  <thead>\n",
       "    <tr style=\"text-align: right;\">\n",
       "      <th></th>\n",
       "      <th>enrollee_id</th>\n",
       "      <th>city</th>\n",
       "      <th>city_development_index</th>\n",
       "      <th>gender</th>\n",
       "      <th>relevent_experience</th>\n",
       "      <th>enrolled_university</th>\n",
       "      <th>education_level</th>\n",
       "      <th>major_discipline</th>\n",
       "      <th>experience</th>\n",
       "      <th>company_size</th>\n",
       "      <th>company_type</th>\n",
       "      <th>training_hours</th>\n",
       "      <th>target</th>\n",
       "    </tr>\n",
       "  </thead>\n",
       "  <tbody>\n",
       "    <tr>\n",
       "      <th>0</th>\n",
       "      <td>8949</td>\n",
       "      <td>city_103</td>\n",
       "      <td>0.920</td>\n",
       "      <td>Male</td>\n",
       "      <td>Has relevent experience</td>\n",
       "      <td>no_enrollment</td>\n",
       "      <td>Graduate</td>\n",
       "      <td>STEM</td>\n",
       "      <td>20.0</td>\n",
       "      <td>NaN</td>\n",
       "      <td>NaN</td>\n",
       "      <td>36.0</td>\n",
       "      <td>1.0</td>\n",
       "    </tr>\n",
       "    <tr>\n",
       "      <th>1</th>\n",
       "      <td>29725</td>\n",
       "      <td>city_40</td>\n",
       "      <td>0.776</td>\n",
       "      <td>Male</td>\n",
       "      <td>No relevent experience</td>\n",
       "      <td>no_enrollment</td>\n",
       "      <td>Graduate</td>\n",
       "      <td>STEM</td>\n",
       "      <td>15.0</td>\n",
       "      <td>50-99</td>\n",
       "      <td>Pvt Ltd</td>\n",
       "      <td>47.0</td>\n",
       "      <td>0.0</td>\n",
       "    </tr>\n",
       "    <tr>\n",
       "      <th>2</th>\n",
       "      <td>11561</td>\n",
       "      <td>city_21</td>\n",
       "      <td>0.624</td>\n",
       "      <td>NaN</td>\n",
       "      <td>No relevent experience</td>\n",
       "      <td>Full time course</td>\n",
       "      <td>Graduate</td>\n",
       "      <td>STEM</td>\n",
       "      <td>5.0</td>\n",
       "      <td>NaN</td>\n",
       "      <td>NaN</td>\n",
       "      <td>83.0</td>\n",
       "      <td>0.0</td>\n",
       "    </tr>\n",
       "    <tr>\n",
       "      <th>3</th>\n",
       "      <td>33241</td>\n",
       "      <td>city_115</td>\n",
       "      <td>0.789</td>\n",
       "      <td>NaN</td>\n",
       "      <td>No relevent experience</td>\n",
       "      <td>NaN</td>\n",
       "      <td>Graduate</td>\n",
       "      <td>Business Degree</td>\n",
       "      <td>0.0</td>\n",
       "      <td>NaN</td>\n",
       "      <td>Pvt Ltd</td>\n",
       "      <td>52.0</td>\n",
       "      <td>1.0</td>\n",
       "    </tr>\n",
       "    <tr>\n",
       "      <th>4</th>\n",
       "      <td>666</td>\n",
       "      <td>city_162</td>\n",
       "      <td>0.767</td>\n",
       "      <td>Male</td>\n",
       "      <td>Has relevent experience</td>\n",
       "      <td>no_enrollment</td>\n",
       "      <td>Masters</td>\n",
       "      <td>STEM</td>\n",
       "      <td>20.0</td>\n",
       "      <td>50-99</td>\n",
       "      <td>Funded Startup</td>\n",
       "      <td>8.0</td>\n",
       "      <td>0.0</td>\n",
       "    </tr>\n",
       "  </tbody>\n",
       "</table>\n",
       "</div>"
      ],
      "text/plain": [
       "   enrollee_id      city  city_development_index gender  \\\n",
       "0         8949  city_103                   0.920   Male   \n",
       "1        29725   city_40                   0.776   Male   \n",
       "2        11561   city_21                   0.624    NaN   \n",
       "3        33241  city_115                   0.789    NaN   \n",
       "4          666  city_162                   0.767   Male   \n",
       "\n",
       "       relevent_experience enrolled_university education_level  \\\n",
       "0  Has relevent experience       no_enrollment        Graduate   \n",
       "1   No relevent experience       no_enrollment        Graduate   \n",
       "2   No relevent experience    Full time course        Graduate   \n",
       "3   No relevent experience                 NaN        Graduate   \n",
       "4  Has relevent experience       no_enrollment         Masters   \n",
       "\n",
       "  major_discipline  experience company_size    company_type  training_hours  \\\n",
       "0             STEM        20.0          NaN             NaN            36.0   \n",
       "1             STEM        15.0        50-99         Pvt Ltd            47.0   \n",
       "2             STEM         5.0          NaN             NaN            83.0   \n",
       "3  Business Degree         0.0          NaN         Pvt Ltd            52.0   \n",
       "4             STEM        20.0        50-99  Funded Startup             8.0   \n",
       "\n",
       "   target  \n",
       "0     1.0  \n",
       "1     0.0  \n",
       "2     0.0  \n",
       "3     1.0  \n",
       "4     0.0  "
      ]
     },
     "execution_count": 6,
     "metadata": {},
     "output_type": "execute_result"
    }
   ],
   "source": [
    "df = pd.read_csv('data_science_job.csv')\n",
    "df.head()"
   ]
  },
  {
   "cell_type": "code",
   "execution_count": 7,
   "id": "aec26f8e-785c-42ae-b1ac-c6c9f5a77a24",
   "metadata": {},
   "outputs": [
    {
     "data": {
      "text/plain": [
       "enrollee_id                0.000000\n",
       "city                       0.000000\n",
       "city_development_index     2.500261\n",
       "gender                    23.530640\n",
       "relevent_experience        0.000000\n",
       "enrolled_university        2.014824\n",
       "education_level            2.401086\n",
       "major_discipline          14.683161\n",
       "experience                 0.339284\n",
       "company_size              30.994885\n",
       "company_type              32.049274\n",
       "training_hours             3.998330\n",
       "target                     0.000000\n",
       "dtype: float64"
      ]
     },
     "execution_count": 7,
     "metadata": {},
     "output_type": "execute_result"
    }
   ],
   "source": [
    "df.isnull().mean()*100  "
   ]
  },
  {
   "cell_type": "code",
   "execution_count": 8,
   "id": "c77d2c61-29a0-4f76-8078-199e5f66a2f6",
   "metadata": {},
   "outputs": [
    {
     "data": {
      "text/plain": [
       "['city_development_index',\n",
       " 'enrolled_university',\n",
       " 'education_level',\n",
       " 'experience',\n",
       " 'training_hours']"
      ]
     },
     "execution_count": 8,
     "metadata": {},
     "output_type": "execute_result"
    }
   ],
   "source": [
    "cols = [var for var in df.columns if ((df[var].isnull().mean()*100 <5) and (df[var].isnull().mean()>0))]\n",
    "cols"
   ]
  },
  {
   "cell_type": "code",
   "execution_count": 9,
   "id": "602a6907-89f4-49b8-80ed-6361f622de6f",
   "metadata": {},
   "outputs": [
    {
     "data": {
      "text/html": [
       "<div>\n",
       "<style scoped>\n",
       "    .dataframe tbody tr th:only-of-type {\n",
       "        vertical-align: middle;\n",
       "    }\n",
       "\n",
       "    .dataframe tbody tr th {\n",
       "        vertical-align: top;\n",
       "    }\n",
       "\n",
       "    .dataframe thead th {\n",
       "        text-align: right;\n",
       "    }\n",
       "</style>\n",
       "<table border=\"1\" class=\"dataframe\">\n",
       "  <thead>\n",
       "    <tr style=\"text-align: right;\">\n",
       "      <th></th>\n",
       "      <th>city_development_index</th>\n",
       "      <th>enrolled_university</th>\n",
       "      <th>education_level</th>\n",
       "      <th>experience</th>\n",
       "      <th>training_hours</th>\n",
       "    </tr>\n",
       "  </thead>\n",
       "  <tbody>\n",
       "    <tr>\n",
       "      <th>9297</th>\n",
       "      <td>NaN</td>\n",
       "      <td>Full time course</td>\n",
       "      <td>Graduate</td>\n",
       "      <td>4.0</td>\n",
       "      <td>92.0</td>\n",
       "    </tr>\n",
       "    <tr>\n",
       "      <th>18723</th>\n",
       "      <td>0.624</td>\n",
       "      <td>no_enrollment</td>\n",
       "      <td>Graduate</td>\n",
       "      <td>3.0</td>\n",
       "      <td>8.0</td>\n",
       "    </tr>\n",
       "    <tr>\n",
       "      <th>1720</th>\n",
       "      <td>0.840</td>\n",
       "      <td>no_enrollment</td>\n",
       "      <td>Graduate</td>\n",
       "      <td>14.0</td>\n",
       "      <td>52.0</td>\n",
       "    </tr>\n",
       "    <tr>\n",
       "      <th>8517</th>\n",
       "      <td>0.897</td>\n",
       "      <td>Full time course</td>\n",
       "      <td>Graduate</td>\n",
       "      <td>2.0</td>\n",
       "      <td>18.0</td>\n",
       "    </tr>\n",
       "    <tr>\n",
       "      <th>4983</th>\n",
       "      <td>0.910</td>\n",
       "      <td>no_enrollment</td>\n",
       "      <td>Graduate</td>\n",
       "      <td>17.0</td>\n",
       "      <td>54.0</td>\n",
       "    </tr>\n",
       "  </tbody>\n",
       "</table>\n",
       "</div>"
      ],
      "text/plain": [
       "       city_development_index enrolled_university education_level  experience  \\\n",
       "9297                      NaN    Full time course        Graduate         4.0   \n",
       "18723                   0.624       no_enrollment        Graduate         3.0   \n",
       "1720                    0.840       no_enrollment        Graduate        14.0   \n",
       "8517                    0.897    Full time course        Graduate         2.0   \n",
       "4983                    0.910       no_enrollment        Graduate        17.0   \n",
       "\n",
       "       training_hours  \n",
       "9297             92.0  \n",
       "18723             8.0  \n",
       "1720             52.0  \n",
       "8517             18.0  \n",
       "4983             54.0  "
      ]
     },
     "execution_count": 9,
     "metadata": {},
     "output_type": "execute_result"
    }
   ],
   "source": [
    "df[cols].sample(5)"
   ]
  },
  {
   "cell_type": "code",
   "execution_count": 10,
   "id": "68460de7-687a-4759-85be-8f88cab1feb9",
   "metadata": {},
   "outputs": [
    {
     "data": {
      "text/plain": [
       "0.8968577095730244"
      ]
     },
     "execution_count": 10,
     "metadata": {},
     "output_type": "execute_result"
    }
   ],
   "source": [
    "len(df[cols].dropna())/len(df)  # give the precentage of missing value"
   ]
  },
  {
   "cell_type": "code",
   "execution_count": 11,
   "id": "ce08ff7f-d677-443a-85aa-c2071bae0f59",
   "metadata": {},
   "outputs": [
    {
     "data": {
      "text/plain": [
       "((19158, 13), (17182, 5))"
      ]
     },
     "execution_count": 11,
     "metadata": {},
     "output_type": "execute_result"
    }
   ],
   "source": [
    "new_df = df[cols].dropna()\n",
    "df.shape,new_df.shape"
   ]
  },
  {
   "cell_type": "markdown",
   "id": "c17c0a66-4005-4696-8c7c-c78db3a9f3b4",
   "metadata": {
    "jp-MarkdownHeadingCollapsed": true
   },
   "source": [
    "### Alaws draw dist on numercal to check wether got effect our not"
   ]
  },
  {
   "cell_type": "code",
   "execution_count": 12,
   "id": "9ce6cf66-1262-40f9-a9dc-3ce3de5893ea",
   "metadata": {},
   "outputs": [],
   "source": [
    "import matplotlib.pyplot as plt"
   ]
  },
  {
   "cell_type": "code",
   "execution_count": 13,
   "id": "c44b8d3a-6106-4b3d-9275-5ee774a35a62",
   "metadata": {},
   "outputs": [
    {
     "data": {
      "text/plain": [
       "(array([ 980., 1623., 1611., 1326., 1442., 1126., 1151., 1192.,  923.,\n",
       "         581.,  655.,  635.,  566.,  455.,  469.,  537.,  387.,  160.,\n",
       "         215.,  197.,  197.,  208.,  206.,  190.,  220.,   66.,   75.,\n",
       "          90.,   72.,   73.,   79.,   73.,   88.,   45.,   17.,   25.,\n",
       "          32.,   22.,   48.,   30.,   11.,   35.,   23.,   26.,   31.,\n",
       "          36.,   31.,   33.,   35.,   44.]),\n",
       " array([  1. ,   7.7,  14.4,  21.1,  27.8,  34.5,  41.2,  47.9,  54.6,\n",
       "         61.3,  68. ,  74.7,  81.4,  88.1,  94.8, 101.5, 108.2, 114.9,\n",
       "        121.6, 128.3, 135. , 141.7, 148.4, 155.1, 161.8, 168.5, 175.2,\n",
       "        181.9, 188.6, 195.3, 202. , 208.7, 215.4, 222.1, 228.8, 235.5,\n",
       "        242.2, 248.9, 255.6, 262.3, 269. , 275.7, 282.4, 289.1, 295.8,\n",
       "        302.5, 309.2, 315.9, 322.6, 329.3, 336. ]),\n",
       " <BarContainer object of 50 artists>)"
      ]
     },
     "execution_count": 13,
     "metadata": {},
     "output_type": "execute_result"
    },
    {
     "data": {
      "image/png": "[encoded data removed]",
      "text/plain": [
       "<Figure size 640x480 with 1 Axes>"
      ]
     },
     "metadata": {},
     "output_type": "display_data"
    }
   ],
   "source": [
    "plt.hist(new_df['training_hours'],bins=50,color='red')\n",
    "plt.hist(df['training_hours'],bins=50,color='green')"
   ]
  },
  {
   "cell_type": "code",
   "execution_count": 14,
   "id": "8f5b9d09-473f-4dd2-aad8-097c268661fa",
   "metadata": {},
   "outputs": [],
   "source": [
    "# As we can see from the graph that did't appear to large red color that means value got drop randomly"
   ]
  },
  {
   "cell_type": "code",
   "execution_count": 15,
   "id": "4bd85e6b-4e48-4c33-8127-daa066eff6b7",
   "metadata": {},
   "outputs": [],
   "source": [
    "# so the point we should check the data wether it randomly or not if does not drop randomly than we should not apply cca"
   ]
  },
  {
   "cell_type": "markdown",
   "id": "bb43bf3d-e821-47d1-a7eb-3a373c5435c1",
   "metadata": {},
   "source": [
    "## SimpleImputer()"
   ]
  },
  {
   "cell_type": "markdown",
   "id": "48ed0787-81ef-4127-a87c-cbff871ed42b",
   "metadata": {
    "jp-MarkdownHeadingCollapsed": true
   },
   "source": [
    "### 1.Numerical Data"
   ]
  },
  {
   "cell_type": "markdown",
   "id": "7e34238f-f3b9-44a8-b7bc-fd1f48ceaa68",
   "metadata": {},
   "source": [
    "  * #### Univariate imputation"
   ]
  },
  {
   "cell_type": "markdown",
   "id": "98683568-014d-454d-b0d2-724eb128fe9d",
   "metadata": {},
   "source": [
    "#####   1.Mean\n",
    "        - when data normal distribution"
   ]
  },
  {
   "cell_type": "markdown",
   "id": "d2fd80b8-bb04-49b0-a91c-42cd7da14901",
   "metadata": {},
   "source": [
    "#####    2.Median\n",
    "        - when is skewed "
   ]
  },
  {
   "cell_type": "markdown",
   "id": "7110d6f3-9c96-440f-b59f-69cc37f8a8be",
   "metadata": {},
   "source": [
    "- Advantage of mean/medain \n",
    "    -Simple\n",
    "- Disadvantage\n",
    "    - Chaning distribution shape\n",
    "    - Make outliers\n",
    "    - Not reliable on large missing value\n",
    "    - correlation changing\n",
    "- when to use:\n",
    "    - missing data randomly\n",
    "    - small data missing"
   ]
  },
  {
   "cell_type": "markdown",
   "id": "905fb916-3c96-42cc-bd27-c4f4090daa79",
   "metadata": {},
   "source": [
    "#### implemetion mean and medain using pandas"
   ]
  },
  {
   "cell_type": "code",
   "execution_count": 16,
   "id": "3abef3a4-f4b8-487d-b639-c0d49364344c",
   "metadata": {},
   "outputs": [],
   "source": [
    "df['training_hours'] = df['training_hours'].fillna(df['training_hours'].mean())\n",
    "df['training_hours'] = df['training_hours'].fillna(df['training_hours'].median())"
   ]
  },
  {
   "cell_type": "markdown",
   "id": "ad03ab8d-a816-4f86-8c79-a5aec616c5c4",
   "metadata": {
    "jp-MarkdownHeadingCollapsed": true
   },
   "source": [
    "#### Note\n",
    "    1.you should check  varaince  if in varaince get large change than it should not be used\n",
    "    2.Distribution change also shoul be check\n",
    "    3.covaraince and correlation should not be large change\n",
    "    4.box plot to check outliers "
   ]
  },
  {
   "cell_type": "markdown",
   "id": "80505b5b-86b8-4557-912f-0bfcac6e03ef",
   "metadata": {},
   "source": [
    "#### implemention mean and mode using "
   ]
  },
  {
   "cell_type": "code",
   "execution_count": 17,
   "id": "78b25e6f-f2cd-40a8-87a2-2f99c142ff18",
   "metadata": {},
   "outputs": [],
   "source": [
    "from sklearn.impute import SimpleImputer\n",
    "from sklearn.compose import ColumnTransformer"
   ]
  },
  {
   "cell_type": "code",
   "execution_count": 18,
   "id": "6264ea0d-59e2-4a90-900d-0b56adce7ad6",
   "metadata": {},
   "outputs": [],
   "source": [
    "imputer = SimpleImputer(strategy='mean') # you can also assign median to strategy parameter\n",
    "\n",
    "trf1 = ColumnTransformer(transformers=[\n",
    "    ('trf',SimpleImputer(strategy='mean'),['age'])\n",
    "    ],remainder='passthrough')\n"
   ]
  },
  {
   "cell_type": "markdown",
   "id": "418c55c8-e7ee-4dbb-8232-56f307bad0ff",
   "metadata": {},
   "source": [
    "##### 3. Arbitrary value imputataion\n",
    "    - so for categorarical data replace NA with missing so machine identitfy its missing value\n",
    "    - in numerical data repalce that represent any kind of data like age assign -1\n",
    "    -Advatages and disadvantage\n",
    "     similar to mean and mode\n",
    "    -When data is not randomly missing than better to use compare to mean / medain"
   ]
  },
  {
   "cell_type": "markdown",
   "id": "7cced11e-f27b-4922-a723-b975b75ff6e4",
   "metadata": {},
   "source": [
    "#### 4.End of distribution\n",
    "    -End of distribution is similar to arbitrary value imputation but in this we pick the end value of distribution"
   ]
  },
  {
   "cell_type": "markdown",
   "id": "b7446fb9-6654-48b8-b2fa-b3f22d49b781",
   "metadata": {
    "jp-MarkdownHeadingCollapsed": true
   },
   "source": [
    "### 2.Categorical Data"
   ]
  },
  {
   "cell_type": "markdown",
   "id": "ba78817d-d03e-4c4c-b8d2-8f537cc4dcde",
   "metadata": {},
   "source": [
    "#### 1.Most frequent value imputation (mode)\n",
    "    -simple to use\n",
    "    - changing distribution shape\n",
    "    - when to use\n",
    "         -when missing value less than 5%\n",
    "         -randomly missing data"
   ]
  },
  {
   "cell_type": "markdown",
   "id": "bf269142-7ba6-4ff5-a194-daacef6fc229",
   "metadata": {},
   "source": [
    "#### 2.Create new missing value \n",
    "    - create new categorical data name missing   \n",
    "    - easy to implement"
   ]
  },
  {
   "cell_type": "markdown",
   "id": "7c7f01f3-0eca-4776-8620-84a8d4111a00",
   "metadata": {},
   "source": [
    "### 3.Both Categorical and Numerical"
   ]
  },
  {
   "cell_type": "markdown",
   "id": "bb098fad-a8a7-49b4-82d2-03eea93a01a3",
   "metadata": {},
   "source": [
    "#### 1.Random imputation\n",
    "    - Select a Random value from data like a given column \n",
    "    - It can be used on both num and categorical\n",
    "    - it easy to apply\n",
    "    - does not change data distribution\n",
    "    - Best for linear alogrithm\n",
    "    - But the problem is it change correlation and covairance\n",
    "    - its high for memory consmption"
   ]
  },
  {
   "cell_type": "markdown",
   "id": "3dfddac0-9752-4165-9e81-b1e3e4f46cb8",
   "metadata": {},
   "source": [
    "#### 2.Missing indicatior\n",
    "    -Create a new column where value is missing write make it True else false\n",
    "    - it works sometime\n",
    "    - it can be implement using sklearn simpleimputer(indicator=True)"
   ]
  },
  {
   "cell_type": "markdown",
   "id": "d738a9b1-6465-4a52-9cab-431cc3fb5046",
   "metadata": {},
   "source": [
    "#### 3.Grid Search cv\n",
    "    - In this sklearn calculate all combination and give you the best calculate value"
   ]
  },
  {
   "cell_type": "markdown",
   "id": "27ef656c-d2b9-4a95-8e8b-6bd8495dfd16",
   "metadata": {},
   "source": [
    "## 2.Multivariate imputation"
   ]
  },
  {
   "cell_type": "markdown",
   "id": "164cd4af-be19-498b-be7b-4a93752a246e",
   "metadata": {},
   "source": [
    "#### 1.KNN imputer\n",
    "        - Knn imputer on knn alogrithm\n",
    "        -it calculate distance of neighbor the near neighbor (rows) value get the value\n",
    "        - euclidean distance\n",
    "        -nan euclidean distance for nan value\n",
    "\n",
    "        1.Advatage:\n",
    "            -More accurate\n",
    "        2.Disadvantage:\n",
    "            -high calculation time taken\n",
    "            -you should deploy your data on production leve for that\n",
    "        "
   ]
  },
  {
   "cell_type": "markdown",
   "id": "97585318-030d-4f9c-ba73-d0a52b2437fc",
   "metadata": {},
   "source": [
    "#### 2. Iterator or mice ( multivariate imputation by Chained Equations)\n",
    "    -When you are sure data is missing at Random\n",
    "    -slow and memory\n",
    "    -deploying data on serever\n",
    "    -more Accurate"
   ]
  },
  {
   "cell_type": "markdown",
   "id": "1bdf57b0-4451-4c51-a2de-fa2bf111e621",
   "metadata": {},
   "source": [
    "## There are Type of Missing Data value"
   ]
  },
  {
   "cell_type": "markdown",
   "id": "0788223b-0678-47cc-ae54-a2c5386a5308",
   "metadata": {},
   "source": [
    "#### 1. Missing Completly at random\n",
    "#### 2.Missing at Random\n",
    "#### 3.Missing not at Random"
   ]
  },
  {
   "cell_type": "code",
   "execution_count": null,
   "id": "3b0a7e94-88ea-452e-b2db-60dec56596cc",
   "metadata": {},
   "outputs": [],
   "source": []
  }
 ],
 "metadata": {
  "kernelspec": {
   "display_name": "Python 3 (ipykernel)",
   "language": "python",
   "name": "python3"
  },
  "language_info": {
   "codemirror_mode": {
    "name": "ipython",
    "version": 3
   },
   "file_extension": ".py",
   "mimetype": "text/x-python",
   "name": "python",
   "nbconvert_exporter": "python",
   "pygments_lexer": "ipython3",
   "version": "3.12.2"
  }
 },
 "nbformat": 4,
 "nbformat_minor": 5
}
