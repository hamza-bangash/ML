{
 "cells": [
  {
   "cell_type": "markdown",
   "id": "f783aad8-2947-4cde-84ee-56b8dea6d68c",
   "metadata": {},
   "source": [
    "# Outliers"
   ]
  },
  {
   "cell_type": "markdown",
   "id": "fcc396b5-de02-481d-a2b3-e51cf25a0024",
   "metadata": {
    "jp-MarkdownHeadingCollapsed": true
   },
   "source": [
    "### Def:"
   ]
  },
  {
   "cell_type": "markdown",
   "id": "9d00e580-e39d-4dcc-8124-c014a50e4518",
   "metadata": {},
   "source": [
    "        - A value which are different or act different form other value as know as outlier."
   ]
  },
  {
   "cell_type": "markdown",
   "id": "c1661525-251a-4eed-a133-9c76905ca761",
   "metadata": {},
   "source": [
    "### Effect of Outliers on Ml alorithms\n",
    "   "
   ]
  },
  {
   "cell_type": "markdown",
   "id": "584058d9-1cd1-4fbb-9242-3a58469c201c",
   "metadata": {},
   "source": [
    "    1.Linear model\n",
    "    2.ada boost\n",
    "    3.Deep learning\n",
    "\n",
    "    when calculating in machine learning then it will effect on ml weight mean cofficeint of line Ax+Bx +C = 0     A,B,C\n",
    "\n",
    "    - Does not effect on trees and forest based alogrithm"
   ]
  },
  {
   "cell_type": "markdown",
   "id": "a7eaac50-fbcf-403f-8668-884fe7da84c1",
   "metadata": {},
   "source": [
    "## How to Treat Outliers ?"
   ]
  },
  {
   "cell_type": "markdown",
   "id": "878da39d-a431-4503-bc35-ab30883acad7",
   "metadata": {},
   "source": [
    "#### There are four Method"
   ]
  },
  {
   "cell_type": "markdown",
   "id": "2f5c8f37-ed1f-4432-ba2e-201551df09dd",
   "metadata": {},
   "source": [
    "    1.Trimming:means remove it \n",
    "    2.capping :means make boundry less value to less outliers and high value high outliers\n",
    "    3.Treat as missing value\n",
    "    4.Discritisation"
   ]
  },
  {
   "cell_type": "markdown",
   "id": "b9349e60-7d0b-432d-b44e-4256fadf65ee",
   "metadata": {},
   "source": [
    "### How to Find Outliers"
   ]
  },
  {
   "cell_type": "markdown",
   "id": "f1c3300a-e5e0-47ab-96b8-31e371648422",
   "metadata": {},
   "source": [
    "    1.Normal Distribution : when value is outside the range(mean+(3*meu)) and mean-(3*meu)) Z-Score\n",
    "    2.Skewed Distribution : boxplot (IQR)\n",
    "    3.other Distribution  : when value is outside the range(2.5% percentile and 97.5 percentile) (Percentile\n",
    "    "
   ]
  },
  {
   "cell_type": "markdown",
   "id": "413b417c-390d-492d-b97d-f783ee05525d",
   "metadata": {},
   "source": [
    "    1.Z-Score\n",
    "    2.IQR based filling \n",
    "    3.Percentile\n",
    "    4.winsarzation\n"
   ]
  },
  {
   "cell_type": "markdown",
   "id": "8959dde7-574f-4d25-8048-297fb471a2f4",
   "metadata": {},
   "source": [
    "## 1.Z-Score"
   ]
  },
  {
   "cell_type": "markdown",
   "id": "8fbf71bd-a68a-4fd8-854a-d777a1fca540",
   "metadata": {},
   "source": [
    "    We used z-score when data is normal distribution or similar to normal distribution\n",
    "    As we know that\n",
    "        - (mean+meu and mean-meu ) 68% percent data \n",
    "        - (mean+2*meu and mean-2*meu) 95%\n",
    "        - (mean+3*meu and mean-3*meu) 99.7%\n",
    "        - if lie outside that range that it consider is outliers"
   ]
  },
  {
   "cell_type": "code",
   "execution_count": 46,
   "id": "8d8fe89f-d0bc-48d8-9c16-fb7b60b86315",
   "metadata": {},
   "outputs": [],
   "source": [
    "import pandas as pd\n",
    "import matplotlib.pyplot as plt\n",
    "import seaborn as sns\n",
    "import numpy as np"
   ]
  },
  {
   "cell_type": "code",
   "execution_count": 47,
   "id": "6b220425-575d-4fb3-b302-139be24a2893",
   "metadata": {},
   "outputs": [
    {
     "data": {
      "text/html": [
       "<div>\n",
       "<style scoped>\n",
       "    .dataframe tbody tr th:only-of-type {\n",
       "        vertical-align: middle;\n",
       "    }\n",
       "\n",
       "    .dataframe tbody tr th {\n",
       "        vertical-align: top;\n",
       "    }\n",
       "\n",
       "    .dataframe thead th {\n",
       "        text-align: right;\n",
       "    }\n",
       "</style>\n",
       "<table border=\"1\" class=\"dataframe\">\n",
       "  <thead>\n",
       "    <tr style=\"text-align: right;\">\n",
       "      <th></th>\n",
       "      <th>cgpa</th>\n",
       "      <th>placement_exam_marks</th>\n",
       "      <th>placed</th>\n",
       "    </tr>\n",
       "  </thead>\n",
       "  <tbody>\n",
       "    <tr>\n",
       "      <th>0</th>\n",
       "      <td>7.19</td>\n",
       "      <td>26.0</td>\n",
       "      <td>1</td>\n",
       "    </tr>\n",
       "    <tr>\n",
       "      <th>1</th>\n",
       "      <td>7.46</td>\n",
       "      <td>38.0</td>\n",
       "      <td>1</td>\n",
       "    </tr>\n",
       "    <tr>\n",
       "      <th>2</th>\n",
       "      <td>7.54</td>\n",
       "      <td>40.0</td>\n",
       "      <td>1</td>\n",
       "    </tr>\n",
       "    <tr>\n",
       "      <th>3</th>\n",
       "      <td>6.42</td>\n",
       "      <td>8.0</td>\n",
       "      <td>1</td>\n",
       "    </tr>\n",
       "    <tr>\n",
       "      <th>4</th>\n",
       "      <td>7.23</td>\n",
       "      <td>17.0</td>\n",
       "      <td>0</td>\n",
       "    </tr>\n",
       "  </tbody>\n",
       "</table>\n",
       "</div>"
      ],
      "text/plain": [
       "   cgpa  placement_exam_marks  placed\n",
       "0  7.19                  26.0       1\n",
       "1  7.46                  38.0       1\n",
       "2  7.54                  40.0       1\n",
       "3  6.42                   8.0       1\n",
       "4  7.23                  17.0       0"
      ]
     },
     "execution_count": 47,
     "metadata": {},
     "output_type": "execute_result"
    }
   ],
   "source": [
    "df = pd.read_csv('placement.csv')\n",
    "df.head()"
   ]
  },
  {
   "cell_type": "code",
   "execution_count": 48,
   "id": "42287f19-b8fd-46e9-aa7c-9b6c41cf2966",
   "metadata": {},
   "outputs": [
    {
     "data": {
      "text/plain": [
       "<Axes: xlabel='placement_exam_marks', ylabel='Count'>"
      ]
     },
     "execution_count": 48,
     "metadata": {},
     "output_type": "execute_result"
    },
    {
     "data": {
      "image/png": "[encoded data removed]",
      "text/plain": [
       "<Figure size 1600x500 with 2 Axes>"
      ]
     },
     "metadata": {},
     "output_type": "display_data"
    }
   ],
   "source": [
    "plt.figure(figsize=(16,5))\n",
    "\n",
    "plt.subplot(1,2,1)\n",
    "\n",
    "sns.histplot(df['cgpa'],kde=True)\n",
    "\n",
    "plt.subplot(1,2,2)\n",
    "sns.histplot(df['placement_exam_marks'],kde=True)"
   ]
  },
  {
   "cell_type": "markdown",
   "id": "70878e0b-878f-4a5b-90cb-ee59085d9ef4",
   "metadata": {},
   "source": [
    "#### So from the given graphs we conclude that we only apply z-score to cgpa bcz its normaly distributed"
   ]
  },
  {
   "cell_type": "code",
   "execution_count": 49,
   "id": "1d762c8c-c45a-44d4-b732-855b446e7844",
   "metadata": {},
   "outputs": [
    {
     "name": "stdout",
     "output_type": "stream",
     "text": [
      "mean of cgpa 6.96124\n",
      "std value of cgpa 0.6158978751323894\n",
      "Min value of cgpa 4.89\n",
      "max value of cgpa 9.12\n"
     ]
    }
   ],
   "source": [
    "print(\"mean of cgpa\",df['cgpa'].mean())\n",
    "print(\"std value of cgpa\",df['cgpa'].std())\n",
    "print(\"Min value of cgpa\",df['cgpa'].min())\n",
    "print(\"max value of cgpa\",df['cgpa'].max())"
   ]
  },
  {
   "cell_type": "code",
   "execution_count": 50,
   "id": "d1c675a0-b60c-42d0-af66-0e7634f52a77",
   "metadata": {},
   "outputs": [
    {
     "name": "stdout",
     "output_type": "stream",
     "text": [
      "Boundry Range of Cgpa\n",
      "lowest value  5.113546374602832\n",
      "highest value  8.808933625397168\n"
     ]
    }
   ],
   "source": [
    "print(\"Boundry Range of Cgpa\")\n",
    "print(\"lowest value \",df['cgpa'].mean() - (3*df['cgpa'].std()))\n",
    "print(\"highest value \",df['cgpa'].mean() + (3*df['cgpa'].std()))"
   ]
  },
  {
   "cell_type": "code",
   "execution_count": 51,
   "id": "044f9824-705e-4ae8-a6c6-d6ad92793d4d",
   "metadata": {},
   "outputs": [
    {
     "data": {
      "text/html": [
       "<div>\n",
       "<style scoped>\n",
       "    .dataframe tbody tr th:only-of-type {\n",
       "        vertical-align: middle;\n",
       "    }\n",
       "\n",
       "    .dataframe tbody tr th {\n",
       "        vertical-align: top;\n",
       "    }\n",
       "\n",
       "    .dataframe thead th {\n",
       "        text-align: right;\n",
       "    }\n",
       "</style>\n",
       "<table border=\"1\" class=\"dataframe\">\n",
       "  <thead>\n",
       "    <tr style=\"text-align: right;\">\n",
       "      <th></th>\n",
       "      <th>cgpa</th>\n",
       "      <th>placement_exam_marks</th>\n",
       "      <th>placed</th>\n",
       "    </tr>\n",
       "  </thead>\n",
       "  <tbody>\n",
       "    <tr>\n",
       "      <th>485</th>\n",
       "      <td>4.92</td>\n",
       "      <td>44.0</td>\n",
       "      <td>1</td>\n",
       "    </tr>\n",
       "    <tr>\n",
       "      <th>995</th>\n",
       "      <td>8.87</td>\n",
       "      <td>44.0</td>\n",
       "      <td>1</td>\n",
       "    </tr>\n",
       "    <tr>\n",
       "      <th>996</th>\n",
       "      <td>9.12</td>\n",
       "      <td>65.0</td>\n",
       "      <td>1</td>\n",
       "    </tr>\n",
       "    <tr>\n",
       "      <th>997</th>\n",
       "      <td>4.89</td>\n",
       "      <td>34.0</td>\n",
       "      <td>0</td>\n",
       "    </tr>\n",
       "    <tr>\n",
       "      <th>999</th>\n",
       "      <td>4.90</td>\n",
       "      <td>10.0</td>\n",
       "      <td>1</td>\n",
       "    </tr>\n",
       "  </tbody>\n",
       "</table>\n",
       "</div>"
      ],
      "text/plain": [
       "     cgpa  placement_exam_marks  placed\n",
       "485  4.92                  44.0       1\n",
       "995  8.87                  44.0       1\n",
       "996  9.12                  65.0       1\n",
       "997  4.89                  34.0       0\n",
       "999  4.90                  10.0       1"
      ]
     },
     "execution_count": 51,
     "metadata": {},
     "output_type": "execute_result"
    }
   ],
   "source": [
    "# Finding outliers\n",
    "\n",
    "df[(df['cgpa'] > 8.80) | (df['cgpa'] < 5.11)]"
   ]
  },
  {
   "cell_type": "markdown",
   "id": "1e602f34-9293-4189-afff-728528cd05a8",
   "metadata": {},
   "source": [
    "### Trimming"
   ]
  },
  {
   "cell_type": "code",
   "execution_count": 52,
   "id": "0c9e8249-5aa8-4f70-80ac-a454bec2e61e",
   "metadata": {},
   "outputs": [
    {
     "data": {
      "text/html": [
       "<div>\n",
       "<style scoped>\n",
       "    .dataframe tbody tr th:only-of-type {\n",
       "        vertical-align: middle;\n",
       "    }\n",
       "\n",
       "    .dataframe tbody tr th {\n",
       "        vertical-align: top;\n",
       "    }\n",
       "\n",
       "    .dataframe thead th {\n",
       "        text-align: right;\n",
       "    }\n",
       "</style>\n",
       "<table border=\"1\" class=\"dataframe\">\n",
       "  <thead>\n",
       "    <tr style=\"text-align: right;\">\n",
       "      <th></th>\n",
       "      <th>cgpa</th>\n",
       "      <th>placement_exam_marks</th>\n",
       "      <th>placed</th>\n",
       "    </tr>\n",
       "  </thead>\n",
       "  <tbody>\n",
       "    <tr>\n",
       "      <th>0</th>\n",
       "      <td>7.19</td>\n",
       "      <td>26.0</td>\n",
       "      <td>1</td>\n",
       "    </tr>\n",
       "    <tr>\n",
       "      <th>1</th>\n",
       "      <td>7.46</td>\n",
       "      <td>38.0</td>\n",
       "      <td>1</td>\n",
       "    </tr>\n",
       "    <tr>\n",
       "      <th>2</th>\n",
       "      <td>7.54</td>\n",
       "      <td>40.0</td>\n",
       "      <td>1</td>\n",
       "    </tr>\n",
       "    <tr>\n",
       "      <th>3</th>\n",
       "      <td>6.42</td>\n",
       "      <td>8.0</td>\n",
       "      <td>1</td>\n",
       "    </tr>\n",
       "    <tr>\n",
       "      <th>4</th>\n",
       "      <td>7.23</td>\n",
       "      <td>17.0</td>\n",
       "      <td>0</td>\n",
       "    </tr>\n",
       "    <tr>\n",
       "      <th>...</th>\n",
       "      <td>...</td>\n",
       "      <td>...</td>\n",
       "      <td>...</td>\n",
       "    </tr>\n",
       "    <tr>\n",
       "      <th>991</th>\n",
       "      <td>7.04</td>\n",
       "      <td>57.0</td>\n",
       "      <td>0</td>\n",
       "    </tr>\n",
       "    <tr>\n",
       "      <th>992</th>\n",
       "      <td>6.26</td>\n",
       "      <td>12.0</td>\n",
       "      <td>0</td>\n",
       "    </tr>\n",
       "    <tr>\n",
       "      <th>993</th>\n",
       "      <td>6.73</td>\n",
       "      <td>21.0</td>\n",
       "      <td>1</td>\n",
       "    </tr>\n",
       "    <tr>\n",
       "      <th>994</th>\n",
       "      <td>6.48</td>\n",
       "      <td>63.0</td>\n",
       "      <td>0</td>\n",
       "    </tr>\n",
       "    <tr>\n",
       "      <th>998</th>\n",
       "      <td>8.62</td>\n",
       "      <td>46.0</td>\n",
       "      <td>1</td>\n",
       "    </tr>\n",
       "  </tbody>\n",
       "</table>\n",
       "<p>995 rows × 3 columns</p>\n",
       "</div>"
      ],
      "text/plain": [
       "     cgpa  placement_exam_marks  placed\n",
       "0    7.19                  26.0       1\n",
       "1    7.46                  38.0       1\n",
       "2    7.54                  40.0       1\n",
       "3    6.42                   8.0       1\n",
       "4    7.23                  17.0       0\n",
       "..    ...                   ...     ...\n",
       "991  7.04                  57.0       0\n",
       "992  6.26                  12.0       0\n",
       "993  6.73                  21.0       1\n",
       "994  6.48                  63.0       0\n",
       "998  8.62                  46.0       1\n",
       "\n",
       "[995 rows x 3 columns]"
      ]
     },
     "execution_count": 52,
     "metadata": {},
     "output_type": "execute_result"
    }
   ],
   "source": [
    "new_df = df[(df['cgpa'] < 8.80) & (df['cgpa'] > 5.11)] # delete outliers rows \n",
    "new_df"
   ]
  },
  {
   "cell_type": "markdown",
   "id": "03fa2284-87cd-4ee2-874b-acf123c874ca",
   "metadata": {},
   "source": [
    "### Capping"
   ]
  },
  {
   "cell_type": "code",
   "execution_count": 53,
   "id": "dfd4bd11-8444-484f-a3aa-6a62b7335d53",
   "metadata": {},
   "outputs": [],
   "source": [
    "upper_limit= df['cgpa'].mean() + (3*df['cgpa'].std())\n",
    "lower_limit=df['cgpa'].mean() - (3*df['cgpa'].std())"
   ]
  },
  {
   "cell_type": "code",
   "execution_count": 54,
   "id": "5574b5d3-f71e-48b4-8db0-2ccf36b331af",
   "metadata": {},
   "outputs": [],
   "source": [
    "df['cgpa']=np.where(\n",
    "    df['cgpa']>upper_limit,\n",
    "    upper_limit,\n",
    "    np.where(\n",
    "        df['cgpa']<lower_limit,\n",
    "        lower_limit,\n",
    "        df['cgpa'])\n",
    ")\n",
    "\n",
    "# where is function where(x,y,z) x is condition if condition than y if false than z"
   ]
  },
  {
   "cell_type": "code",
   "execution_count": 55,
   "id": "2eba8fb6-7776-4ba7-aa65-a67523749ffb",
   "metadata": {},
   "outputs": [
    {
     "data": {
      "text/plain": [
       "(1000, 3)"
      ]
     },
     "execution_count": 55,
     "metadata": {},
     "output_type": "execute_result"
    }
   ],
   "source": [
    "df.shape"
   ]
  },
  {
   "cell_type": "code",
   "execution_count": 56,
   "id": "e1b33189-0a04-4426-82f4-edb11c928476",
   "metadata": {},
   "outputs": [
    {
     "data": {
      "text/plain": [
       "<bound method NDFrame.describe of          cgpa  placement_exam_marks  placed\n",
       "0    7.190000                  26.0       1\n",
       "1    7.460000                  38.0       1\n",
       "2    7.540000                  40.0       1\n",
       "3    6.420000                   8.0       1\n",
       "4    7.230000                  17.0       0\n",
       "..        ...                   ...     ...\n",
       "995  8.808934                  44.0       1\n",
       "996  8.808934                  65.0       1\n",
       "997  5.113546                  34.0       0\n",
       "998  8.620000                  46.0       1\n",
       "999  5.113546                  10.0       1\n",
       "\n",
       "[1000 rows x 3 columns]>"
      ]
     },
     "execution_count": 56,
     "metadata": {},
     "output_type": "execute_result"
    }
   ],
   "source": [
    "df.describe"
   ]
  },
  {
   "cell_type": "markdown",
   "id": "a0551d32-44ec-4aaa-9709-00911b896991",
   "metadata": {},
   "source": [
    "## 2.IQR"
   ]
  },
  {
   "cell_type": "markdown",
   "id": "7c785718-02f3-4b53-a8fd-b111dce68feb",
   "metadata": {},
   "source": [
    "    if value outside of range (min and max) where min = (Q1 -1.5*IQR) and max = Q3 + 1.5*IQR  so Q1 is 25th percentile , Q3 is 75th perecentile and IQR = (Q3-Q1)"
   ]
  },
  {
   "cell_type": "code",
   "execution_count": 57,
   "id": "e4506d54-6e99-4df4-9b5b-5ba56be58c7f",
   "metadata": {},
   "outputs": [
    {
     "data": {
      "text/html": [
       "<div>\n",
       "<style scoped>\n",
       "    .dataframe tbody tr th:only-of-type {\n",
       "        vertical-align: middle;\n",
       "    }\n",
       "\n",
       "    .dataframe tbody tr th {\n",
       "        vertical-align: top;\n",
       "    }\n",
       "\n",
       "    .dataframe thead th {\n",
       "        text-align: right;\n",
       "    }\n",
       "</style>\n",
       "<table border=\"1\" class=\"dataframe\">\n",
       "  <thead>\n",
       "    <tr style=\"text-align: right;\">\n",
       "      <th></th>\n",
       "      <th>cgpa</th>\n",
       "      <th>placement_exam_marks</th>\n",
       "      <th>placed</th>\n",
       "    </tr>\n",
       "  </thead>\n",
       "  <tbody>\n",
       "    <tr>\n",
       "      <th>0</th>\n",
       "      <td>7.19</td>\n",
       "      <td>26.0</td>\n",
       "      <td>1</td>\n",
       "    </tr>\n",
       "    <tr>\n",
       "      <th>1</th>\n",
       "      <td>7.46</td>\n",
       "      <td>38.0</td>\n",
       "      <td>1</td>\n",
       "    </tr>\n",
       "    <tr>\n",
       "      <th>2</th>\n",
       "      <td>7.54</td>\n",
       "      <td>40.0</td>\n",
       "      <td>1</td>\n",
       "    </tr>\n",
       "    <tr>\n",
       "      <th>3</th>\n",
       "      <td>6.42</td>\n",
       "      <td>8.0</td>\n",
       "      <td>1</td>\n",
       "    </tr>\n",
       "    <tr>\n",
       "      <th>4</th>\n",
       "      <td>7.23</td>\n",
       "      <td>17.0</td>\n",
       "      <td>0</td>\n",
       "    </tr>\n",
       "  </tbody>\n",
       "</table>\n",
       "</div>"
      ],
      "text/plain": [
       "   cgpa  placement_exam_marks  placed\n",
       "0  7.19                  26.0       1\n",
       "1  7.46                  38.0       1\n",
       "2  7.54                  40.0       1\n",
       "3  6.42                   8.0       1\n",
       "4  7.23                  17.0       0"
      ]
     },
     "execution_count": 57,
     "metadata": {},
     "output_type": "execute_result"
    }
   ],
   "source": [
    "df.head()"
   ]
  },
  {
   "cell_type": "code",
   "execution_count": 58,
   "id": "c62f444c-4234-4a1a-ab88-d3c4e1135363",
   "metadata": {},
   "outputs": [
    {
     "data": {
      "text/plain": [
       "<Axes: xlabel='placement_exam_marks', ylabel='Count'>"
      ]
     },
     "execution_count": 58,
     "metadata": {},
     "output_type": "execute_result"
    },
    {
     "data": {
      "image/png": "[encoded data removed]",
      "text/plain": [
       "<Figure size 1000x600 with 2 Axes>"
      ]
     },
     "metadata": {},
     "output_type": "display_data"
    }
   ],
   "source": [
    "plt.figure(figsize=(10,6))\n",
    "plt.subplot(1,2,1)\n",
    "sns.histplot(df['cgpa'],kde=True)\n",
    "\n",
    "plt.subplot(1,2,2)\n",
    "sns.histplot(df['placement_exam_marks'],kde=True)"
   ]
  },
  {
   "cell_type": "markdown",
   "id": "cdd199a3-ab2c-40f3-856c-b5a8c0201537",
   "metadata": {},
   "source": [
    "### Note: \n",
    "    -As we can see placement column has right skew distribution there for we will use IQR method (Box-plot)"
   ]
  },
  {
   "cell_type": "code",
   "execution_count": 59,
   "id": "ae860fe2-93a2-4a90-b2a2-c0ee3d28a65f",
   "metadata": {},
   "outputs": [
    {
     "data": {
      "text/plain": [
       "0.8356419499466834"
      ]
     },
     "execution_count": 59,
     "metadata": {},
     "output_type": "execute_result"
    }
   ],
   "source": [
    "df['placement_exam_marks'].skew()"
   ]
  },
  {
   "cell_type": "code",
   "execution_count": 60,
   "id": "6c86f0e7-f170-4fac-a28f-4a020c27fc0d",
   "metadata": {},
   "outputs": [
    {
     "data": {
      "text/plain": [
       "count    1000.000000\n",
       "mean       32.225000\n",
       "std        19.130822\n",
       "min         0.000000\n",
       "25%        17.000000\n",
       "50%        28.000000\n",
       "75%        44.000000\n",
       "max       100.000000\n",
       "Name: placement_exam_marks, dtype: float64"
      ]
     },
     "execution_count": 60,
     "metadata": {},
     "output_type": "execute_result"
    }
   ],
   "source": [
    "df['placement_exam_marks'].describe()"
   ]
  },
  {
   "cell_type": "code",
   "execution_count": 61,
   "id": "ef190d67-f210-4f07-8fb3-5a04d783b18b",
   "metadata": {
    "scrolled": true
   },
   "outputs": [
    {
     "data": {
      "text/plain": [
       "<Axes: xlabel='placement_exam_marks'>"
      ]
     },
     "execution_count": 61,
     "metadata": {},
     "output_type": "execute_result"
    },
    {
     "data": {
      "image/png": "[encoded data removed]",
      "text/plain": [
       "<Figure size 640x480 with 1 Axes>"
      ]
     },
     "metadata": {},
     "output_type": "display_data"
    }
   ],
   "source": [
    "sns.boxplot(x=df['placement_exam_marks'])"
   ]
  },
  {
   "cell_type": "code",
   "execution_count": 62,
   "id": "6b229f97-7031-4c10-8430-20d083814fc0",
   "metadata": {},
   "outputs": [],
   "source": [
    "# finding iqr\n",
    "\n",
    "perecentile25 = df['placement_exam_marks'].quantile(0.25)\n",
    "perecentile75 = df['placement_exam_marks'].quantile(0.75)"
   ]
  },
  {
   "cell_type": "code",
   "execution_count": 63,
   "id": "b8470e2b-4d90-487d-a6cc-3c34715db8c3",
   "metadata": {},
   "outputs": [],
   "source": [
    "iqr = perecentile75 - perecentile25"
   ]
  },
  {
   "cell_type": "code",
   "execution_count": 64,
   "id": "05c3e2a2-5396-4dd8-b4c2-da9c6557fc94",
   "metadata": {},
   "outputs": [],
   "source": [
    "upper_limit = perecentile75 + iqr"
   ]
  },
  {
   "cell_type": "code",
   "execution_count": 65,
   "id": "2c93f9d1-68cb-49be-a724-5d7dc4eddb7a",
   "metadata": {},
   "outputs": [],
   "source": [
    "lower_limit = perecentile25 - iqr"
   ]
  },
  {
   "cell_type": "markdown",
   "id": "965bcb3c-ef9a-43df-9c8e-b1fbc45ea033",
   "metadata": {},
   "source": [
    "### Finding outliers"
   ]
  },
  {
   "cell_type": "code",
   "execution_count": 67,
   "id": "a7d7766f-c71f-40f2-8a1b-44bec1df9978",
   "metadata": {},
   "outputs": [
    {
     "data": {
      "text/html": [
       "<div>\n",
       "<style scoped>\n",
       "    .dataframe tbody tr th:only-of-type {\n",
       "        vertical-align: middle;\n",
       "    }\n",
       "\n",
       "    .dataframe tbody tr th {\n",
       "        vertical-align: top;\n",
       "    }\n",
       "\n",
       "    .dataframe thead th {\n",
       "        text-align: right;\n",
       "    }\n",
       "</style>\n",
       "<table border=\"1\" class=\"dataframe\">\n",
       "  <thead>\n",
       "    <tr style=\"text-align: right;\">\n",
       "      <th></th>\n",
       "      <th>cgpa</th>\n",
       "      <th>placement_exam_marks</th>\n",
       "      <th>placed</th>\n",
       "    </tr>\n",
       "  </thead>\n",
       "  <tbody>\n",
       "    <tr>\n",
       "      <th>9</th>\n",
       "      <td>7.75</td>\n",
       "      <td>94.0</td>\n",
       "      <td>1</td>\n",
       "    </tr>\n",
       "    <tr>\n",
       "      <th>40</th>\n",
       "      <td>6.60</td>\n",
       "      <td>86.0</td>\n",
       "      <td>1</td>\n",
       "    </tr>\n",
       "    <tr>\n",
       "      <th>61</th>\n",
       "      <td>7.51</td>\n",
       "      <td>86.0</td>\n",
       "      <td>0</td>\n",
       "    </tr>\n",
       "    <tr>\n",
       "      <th>98</th>\n",
       "      <td>8.12</td>\n",
       "      <td>76.0</td>\n",
       "      <td>0</td>\n",
       "    </tr>\n",
       "    <tr>\n",
       "      <th>114</th>\n",
       "      <td>6.30</td>\n",
       "      <td>77.0</td>\n",
       "      <td>1</td>\n",
       "    </tr>\n",
       "    <tr>\n",
       "      <th>134</th>\n",
       "      <td>6.33</td>\n",
       "      <td>93.0</td>\n",
       "      <td>0</td>\n",
       "    </tr>\n",
       "    <tr>\n",
       "      <th>157</th>\n",
       "      <td>7.07</td>\n",
       "      <td>81.0</td>\n",
       "      <td>1</td>\n",
       "    </tr>\n",
       "    <tr>\n",
       "      <th>162</th>\n",
       "      <td>7.80</td>\n",
       "      <td>90.0</td>\n",
       "      <td>0</td>\n",
       "    </tr>\n",
       "    <tr>\n",
       "      <th>182</th>\n",
       "      <td>6.87</td>\n",
       "      <td>76.0</td>\n",
       "      <td>0</td>\n",
       "    </tr>\n",
       "    <tr>\n",
       "      <th>222</th>\n",
       "      <td>6.97</td>\n",
       "      <td>78.0</td>\n",
       "      <td>0</td>\n",
       "    </tr>\n",
       "    <tr>\n",
       "      <th>238</th>\n",
       "      <td>7.41</td>\n",
       "      <td>78.0</td>\n",
       "      <td>0</td>\n",
       "    </tr>\n",
       "    <tr>\n",
       "      <th>253</th>\n",
       "      <td>6.98</td>\n",
       "      <td>76.0</td>\n",
       "      <td>0</td>\n",
       "    </tr>\n",
       "    <tr>\n",
       "      <th>257</th>\n",
       "      <td>5.74</td>\n",
       "      <td>76.0</td>\n",
       "      <td>0</td>\n",
       "    </tr>\n",
       "    <tr>\n",
       "      <th>283</th>\n",
       "      <td>7.09</td>\n",
       "      <td>87.0</td>\n",
       "      <td>0</td>\n",
       "    </tr>\n",
       "    <tr>\n",
       "      <th>290</th>\n",
       "      <td>8.38</td>\n",
       "      <td>87.0</td>\n",
       "      <td>0</td>\n",
       "    </tr>\n",
       "    <tr>\n",
       "      <th>311</th>\n",
       "      <td>6.97</td>\n",
       "      <td>87.0</td>\n",
       "      <td>1</td>\n",
       "    </tr>\n",
       "    <tr>\n",
       "      <th>324</th>\n",
       "      <td>6.64</td>\n",
       "      <td>90.0</td>\n",
       "      <td>0</td>\n",
       "    </tr>\n",
       "    <tr>\n",
       "      <th>370</th>\n",
       "      <td>5.70</td>\n",
       "      <td>79.0</td>\n",
       "      <td>1</td>\n",
       "    </tr>\n",
       "    <tr>\n",
       "      <th>403</th>\n",
       "      <td>6.71</td>\n",
       "      <td>83.0</td>\n",
       "      <td>0</td>\n",
       "    </tr>\n",
       "    <tr>\n",
       "      <th>443</th>\n",
       "      <td>6.92</td>\n",
       "      <td>77.0</td>\n",
       "      <td>0</td>\n",
       "    </tr>\n",
       "    <tr>\n",
       "      <th>459</th>\n",
       "      <td>6.62</td>\n",
       "      <td>79.0</td>\n",
       "      <td>1</td>\n",
       "    </tr>\n",
       "    <tr>\n",
       "      <th>507</th>\n",
       "      <td>6.77</td>\n",
       "      <td>75.0</td>\n",
       "      <td>1</td>\n",
       "    </tr>\n",
       "    <tr>\n",
       "      <th>531</th>\n",
       "      <td>7.00</td>\n",
       "      <td>81.0</td>\n",
       "      <td>1</td>\n",
       "    </tr>\n",
       "    <tr>\n",
       "      <th>549</th>\n",
       "      <td>7.37</td>\n",
       "      <td>79.0</td>\n",
       "      <td>1</td>\n",
       "    </tr>\n",
       "    <tr>\n",
       "      <th>624</th>\n",
       "      <td>7.35</td>\n",
       "      <td>80.0</td>\n",
       "      <td>1</td>\n",
       "    </tr>\n",
       "    <tr>\n",
       "      <th>630</th>\n",
       "      <td>6.56</td>\n",
       "      <td>96.0</td>\n",
       "      <td>1</td>\n",
       "    </tr>\n",
       "    <tr>\n",
       "      <th>637</th>\n",
       "      <td>7.25</td>\n",
       "      <td>74.0</td>\n",
       "      <td>0</td>\n",
       "    </tr>\n",
       "    <tr>\n",
       "      <th>638</th>\n",
       "      <td>7.46</td>\n",
       "      <td>74.0</td>\n",
       "      <td>1</td>\n",
       "    </tr>\n",
       "    <tr>\n",
       "      <th>654</th>\n",
       "      <td>7.03</td>\n",
       "      <td>76.0</td>\n",
       "      <td>0</td>\n",
       "    </tr>\n",
       "    <tr>\n",
       "      <th>656</th>\n",
       "      <td>7.39</td>\n",
       "      <td>72.0</td>\n",
       "      <td>1</td>\n",
       "    </tr>\n",
       "    <tr>\n",
       "      <th>685</th>\n",
       "      <td>6.05</td>\n",
       "      <td>87.0</td>\n",
       "      <td>1</td>\n",
       "    </tr>\n",
       "    <tr>\n",
       "      <th>730</th>\n",
       "      <td>6.14</td>\n",
       "      <td>90.0</td>\n",
       "      <td>1</td>\n",
       "    </tr>\n",
       "    <tr>\n",
       "      <th>740</th>\n",
       "      <td>6.21</td>\n",
       "      <td>74.0</td>\n",
       "      <td>1</td>\n",
       "    </tr>\n",
       "    <tr>\n",
       "      <th>771</th>\n",
       "      <td>7.31</td>\n",
       "      <td>86.0</td>\n",
       "      <td>1</td>\n",
       "    </tr>\n",
       "    <tr>\n",
       "      <th>773</th>\n",
       "      <td>8.06</td>\n",
       "      <td>79.0</td>\n",
       "      <td>0</td>\n",
       "    </tr>\n",
       "    <tr>\n",
       "      <th>789</th>\n",
       "      <td>6.46</td>\n",
       "      <td>74.0</td>\n",
       "      <td>0</td>\n",
       "    </tr>\n",
       "    <tr>\n",
       "      <th>804</th>\n",
       "      <td>6.49</td>\n",
       "      <td>81.0</td>\n",
       "      <td>0</td>\n",
       "    </tr>\n",
       "    <tr>\n",
       "      <th>846</th>\n",
       "      <td>6.99</td>\n",
       "      <td>97.0</td>\n",
       "      <td>0</td>\n",
       "    </tr>\n",
       "    <tr>\n",
       "      <th>917</th>\n",
       "      <td>5.95</td>\n",
       "      <td>100.0</td>\n",
       "      <td>0</td>\n",
       "    </tr>\n",
       "    <tr>\n",
       "      <th>966</th>\n",
       "      <td>6.24</td>\n",
       "      <td>72.0</td>\n",
       "      <td>1</td>\n",
       "    </tr>\n",
       "  </tbody>\n",
       "</table>\n",
       "</div>"
      ],
      "text/plain": [
       "     cgpa  placement_exam_marks  placed\n",
       "9    7.75                  94.0       1\n",
       "40   6.60                  86.0       1\n",
       "61   7.51                  86.0       0\n",
       "98   8.12                  76.0       0\n",
       "114  6.30                  77.0       1\n",
       "134  6.33                  93.0       0\n",
       "157  7.07                  81.0       1\n",
       "162  7.80                  90.0       0\n",
       "182  6.87                  76.0       0\n",
       "222  6.97                  78.0       0\n",
       "238  7.41                  78.0       0\n",
       "253  6.98                  76.0       0\n",
       "257  5.74                  76.0       0\n",
       "283  7.09                  87.0       0\n",
       "290  8.38                  87.0       0\n",
       "311  6.97                  87.0       1\n",
       "324  6.64                  90.0       0\n",
       "370  5.70                  79.0       1\n",
       "403  6.71                  83.0       0\n",
       "443  6.92                  77.0       0\n",
       "459  6.62                  79.0       1\n",
       "507  6.77                  75.0       1\n",
       "531  7.00                  81.0       1\n",
       "549  7.37                  79.0       1\n",
       "624  7.35                  80.0       1\n",
       "630  6.56                  96.0       1\n",
       "637  7.25                  74.0       0\n",
       "638  7.46                  74.0       1\n",
       "654  7.03                  76.0       0\n",
       "656  7.39                  72.0       1\n",
       "685  6.05                  87.0       1\n",
       "730  6.14                  90.0       1\n",
       "740  6.21                  74.0       1\n",
       "771  7.31                  86.0       1\n",
       "773  8.06                  79.0       0\n",
       "789  6.46                  74.0       0\n",
       "804  6.49                  81.0       0\n",
       "846  6.99                  97.0       0\n",
       "917  5.95                 100.0       0\n",
       "966  6.24                  72.0       1"
      ]
     },
     "execution_count": 67,
     "metadata": {},
     "output_type": "execute_result"
    }
   ],
   "source": [
    "\n",
    "\n",
    "df[(df['placement_exam_marks']>upper_limit) | (df['placement_exam_marks'] < lower_limit)]"
   ]
  },
  {
   "cell_type": "markdown",
   "id": "77b43c1c-dbc1-48b3-a138-e4ad522ebf16",
   "metadata": {},
   "source": [
    "### triming"
   ]
  },
  {
   "cell_type": "code",
   "execution_count": 68,
   "id": "87449aa2-0751-4e73-afb2-5173c18b2b0c",
   "metadata": {},
   "outputs": [],
   "source": [
    "new_df_timer = df[(df['placement_exam_marks']<upper_limit) & (df['placement_exam_marks'] > lower_limit)]"
   ]
  },
  {
   "cell_type": "markdown",
   "id": "30adbc75-972f-46ff-8ad8-0cd5b813b037",
   "metadata": {},
   "source": [
    "###  Capping"
   ]
  },
  {
   "cell_type": "code",
   "execution_count": 70,
   "id": "22329257-0308-4400-bb8f-64daa46586d6",
   "metadata": {},
   "outputs": [],
   "source": [
    "new_df_cp = df.copy()\n",
    "new_df_cp['placement_exam_marks'] = np.where(\n",
    "    new_df_cp['placement_exam_marks'] > upper_limit,\n",
    "    upper_limit,\n",
    "    np.where(\n",
    "        new_df_cp['placement_exam_marks']<lower_limit,\n",
    "        lower_limit,\n",
    "        new_df_cp['placement_exam_marks']\n",
    "    )\n",
    ")"
   ]
  },
  {
   "cell_type": "code",
   "execution_count": 71,
   "id": "9430a305-e371-4b06-a2d9-e553583cea6e",
   "metadata": {},
   "outputs": [
    {
     "data": {
      "text/plain": [
       "(1000, 3)"
      ]
     },
     "execution_count": 71,
     "metadata": {},
     "output_type": "execute_result"
    }
   ],
   "source": [
    "new_df_cp.shape"
   ]
  },
  {
   "cell_type": "markdown",
   "id": "0daf09c2-110d-4fef-b6b4-53f897988b7f",
   "metadata": {},
   "source": [
    "## Percentile"
   ]
  },
  {
   "cell_type": "markdown",
   "id": "3a15ac96-fcbf-4aef-bced-30b9a24c74fb",
   "metadata": {},
   "source": [
    "so in this we make some range of percentile like 2.5% and 97.5% when outside we apply percentile"
   ]
  },
  {
   "cell_type": "code",
   "execution_count": null,
   "id": "f9c3477e-dd78-4747-89c1-90e8bd03f469",
   "metadata": {},
   "outputs": [],
   "source": []
  }
 ],
 "metadata": {
  "kernelspec": {
   "display_name": "Python 3 (ipykernel)",
   "language": "python",
   "name": "python3"
  },
  "language_info": {
   "codemirror_mode": {
    "name": "ipython",
    "version": 3
   },
   "file_extension": ".py",
   "mimetype": "text/x-python",
   "name": "python",
   "nbconvert_exporter": "python",
   "pygments_lexer": "ipython3",
   "version": "3.12.2"
  }
 },
 "nbformat": 4,
 "nbformat_minor": 5
}
