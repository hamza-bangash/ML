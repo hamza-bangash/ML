{
 "cells": [
  {
   "cell_type": "code",
   "execution_count": 18,
   "id": "a9d7b098-c516-432f-ab54-0c63d53bd8f2",
   "metadata": {},
   "outputs": [],
   "source": [
    "class Linear:\n",
    "\n",
    "    def __int__(self):\n",
    "        self.m=None\n",
    "        self.b=None\n",
    "        \n",
    "    def fit(self,x_train,y_train):\n",
    "        \n",
    "        numerator = 0\n",
    "        demonator = 0\n",
    "\n",
    "        \n",
    "        \n",
    "        for i in range(x_train.shape[0]):\n",
    "            numerator = numerator + (x_train[i] - x_train.mean()) * (y_train[i]-y_train.mean())\n",
    "            demonator = demonator + ((x_train[i] - x_train.mean())*( x_train[i] -x_train.mean()))\n",
    "\n",
    "        self.m = numerator/demonator\n",
    "        self.b = y_train.mean() - (self.m * x_train.mean())\n",
    "\n",
    "        print(self.m)\n",
    "        print(self.b)\n",
    "                                     \n",
    "            \n",
    "            \n",
    "            \n",
    "            \n",
    "    def predict(self,x_test):\n",
    "        return (self.m*x_test + self.b)\n",
    "    "
   ]
  },
  {
   "cell_type": "code",
   "execution_count": 28,
   "id": "7653632e-a792-45ed-ab6d-53f1b7801e73",
   "metadata": {},
   "outputs": [],
   "source": [
    "import numpy as np\n",
    "import pandas as pd\n",
    "import matplotlib.pyplot as plt"
   ]
  },
  {
   "cell_type": "code",
   "execution_count": 20,
   "id": "ae90ad5f-32c5-403f-8e25-3d3271e109b4",
   "metadata": {},
   "outputs": [
    {
     "data": {
      "text/html": [
       "<div>\n",
       "<style scoped>\n",
       "    .dataframe tbody tr th:only-of-type {\n",
       "        vertical-align: middle;\n",
       "    }\n",
       "\n",
       "    .dataframe tbody tr th {\n",
       "        vertical-align: top;\n",
       "    }\n",
       "\n",
       "    .dataframe thead th {\n",
       "        text-align: right;\n",
       "    }\n",
       "</style>\n",
       "<table border=\"1\" class=\"dataframe\">\n",
       "  <thead>\n",
       "    <tr style=\"text-align: right;\">\n",
       "      <th></th>\n",
       "      <th>CGPA</th>\n",
       "      <th>Salary</th>\n",
       "    </tr>\n",
       "  </thead>\n",
       "  <tbody>\n",
       "    <tr>\n",
       "      <th>0</th>\n",
       "      <td>4.528495</td>\n",
       "      <td>5.816174</td>\n",
       "    </tr>\n",
       "    <tr>\n",
       "      <th>1</th>\n",
       "      <td>2.890539</td>\n",
       "      <td>2.925419</td>\n",
       "    </tr>\n",
       "    <tr>\n",
       "      <th>2</th>\n",
       "      <td>3.054331</td>\n",
       "      <td>2.989548</td>\n",
       "    </tr>\n",
       "    <tr>\n",
       "      <th>3</th>\n",
       "      <td>6.601629</td>\n",
       "      <td>8.752802</td>\n",
       "    </tr>\n",
       "    <tr>\n",
       "      <th>4</th>\n",
       "      <td>5.908229</td>\n",
       "      <td>7.112801</td>\n",
       "    </tr>\n",
       "  </tbody>\n",
       "</table>\n",
       "</div>"
      ],
      "text/plain": [
       "       CGPA    Salary\n",
       "0  4.528495  5.816174\n",
       "1  2.890539  2.925419\n",
       "2  3.054331  2.989548\n",
       "3  6.601629  8.752802\n",
       "4  5.908229  7.112801"
      ]
     },
     "execution_count": 20,
     "metadata": {},
     "output_type": "execute_result"
    }
   ],
   "source": [
    "gpa = np.random.uniform(1.0,10.0,200)\n",
    "salary = gpa*np.random.uniform(1.0,1.5,200) + np.random.uniform(-1,1,200)\n",
    "\n",
    "df = pd.DataFrame({'CGPA': gpa, 'Salary': salary})\n",
    "df.head()"
   ]
  },
  {
   "cell_type": "code",
   "execution_count": 21,
   "id": "043b8029-44d0-4341-abbe-8bbb1908909a",
   "metadata": {},
   "outputs": [],
   "source": [
    "from sklearn.model_selection import train_test_split\n",
    "x_train,x_test,y_train,y_test = train_test_split(gpa,salary,test_size=0.2,random_state=2)"
   ]
  },
  {
   "cell_type": "code",
   "execution_count": 22,
   "id": "45af9c60-073c-4a74-a0e5-d3be3f015439",
   "metadata": {},
   "outputs": [
    {
     "data": {
      "text/plain": [
       "array([5.25384232, 3.65783266, 3.11555114, 2.86048117, 4.83963109,\n",
       "       7.89143857, 5.03548555, 5.91176506, 6.82998606, 4.14713438,\n",
       "       4.10188417, 2.65399211, 6.45193914, 9.53077989, 9.55472928,\n",
       "       3.56202181, 1.0521624 , 9.11905469, 2.56358884, 8.4446329 ,\n",
       "       5.78460916, 7.98200889, 1.95541914, 4.1822367 , 7.37076719,\n",
       "       2.86753069, 5.28257847, 6.33055906, 2.18682217, 6.71758646,\n",
       "       4.54637485, 6.97390541, 7.80656516, 4.35623782, 2.89053917,\n",
       "       8.77710992, 3.38276083, 7.38069935, 6.82988285, 2.71295613,\n",
       "       2.74509677, 1.14045914, 5.68828403, 7.48228989, 2.54185812,\n",
       "       4.52849472, 6.43916661, 3.79032489, 1.44869277, 8.6087068 ,\n",
       "       7.29524152, 4.70511048, 3.58270944, 4.72060045, 5.77379099,\n",
       "       9.45064816, 5.73256951, 3.34182185, 2.93514073, 1.15734322,\n",
       "       4.8160613 , 1.45856024, 7.56906584, 5.28475046, 8.87261181,\n",
       "       3.41352942, 9.19525193, 5.48440923, 1.57724847, 6.53201653,\n",
       "       8.79805401, 9.65954115, 7.18881759, 7.99850447, 3.61609779,\n",
       "       3.23445867, 6.72855134, 8.9763697 , 3.92981592, 9.44470074,\n",
       "       4.32183487, 8.62904646, 3.94326121, 4.35554789, 6.01758968,\n",
       "       6.79418559, 5.76922393, 1.6941994 , 4.14052617, 7.10844164,\n",
       "       4.26555264, 4.18577046, 2.23808028, 3.19911694, 9.27391612,\n",
       "       7.24606312, 4.31701892, 1.71809926, 7.59980964, 8.53531547,\n",
       "       6.40190244, 2.71728846, 9.88621032, 1.41550581, 7.90369043,\n",
       "       2.77368322, 3.45610946, 7.02277145, 4.25483219, 5.5424681 ,\n",
       "       5.95905273, 9.7392836 , 7.46058609, 3.22944292, 3.02367044,\n",
       "       1.34208806, 4.59089983, 9.5781574 , 4.59652484, 8.33919161,\n",
       "       7.81685136, 1.019458  , 9.19524667, 5.30437817, 3.66757925,\n",
       "       7.85409939, 7.64443008, 2.16735926, 2.47329372, 3.2768491 ,\n",
       "       7.26550855, 5.57393114, 4.79527923, 3.03219788, 8.4990854 ,\n",
       "       4.47906352, 3.48089897, 6.69681396, 5.90822939, 5.20484075,\n",
       "       6.91930436, 4.72473604, 4.62409953, 8.13487581, 1.56169554,\n",
       "       7.2056907 , 7.69742752, 7.73373884, 3.5037141 , 8.687515  ,\n",
       "       2.55208098, 2.34320316, 3.51720181, 7.15076197, 3.20179813,\n",
       "       3.78148496, 9.46353552, 2.26905058, 3.25146079, 8.70775416])"
      ]
     },
     "execution_count": 22,
     "metadata": {},
     "output_type": "execute_result"
    }
   ],
   "source": [
    "x_train"
   ]
  },
  {
   "cell_type": "code",
   "execution_count": 23,
   "id": "a12146be-686f-4f01-bf85-7824293d0f8a",
   "metadata": {},
   "outputs": [],
   "source": [
    "lr = Linear()"
   ]
  },
  {
   "cell_type": "code",
   "execution_count": 24,
   "id": "eac4c721-3306-40d6-9f40-7fd853ad99b5",
   "metadata": {},
   "outputs": [
    {
     "name": "stdout",
     "output_type": "stream",
     "text": [
      "1.2483119720658222\n",
      "-0.08431506721986715\n"
     ]
    }
   ],
   "source": [
    "lr.fit(x_train,y_train)"
   ]
  },
  {
   "cell_type": "code",
   "execution_count": 26,
   "id": "4b2ae96c-435c-40c1-b1d3-fd7a96d15370",
   "metadata": {},
   "outputs": [
    {
     "data": {
      "text/plain": [
       "array([10.12852778,  3.77200797,  5.19865819,  4.8617445 ,  9.1786973 ,\n",
       "        4.21708737, 11.06157648,  4.99525868,  7.99728749,  1.90414349,\n",
       "        3.40218871, 12.34870865,  8.03685835,  8.439807  ,  6.24996388,\n",
       "        3.72844245, 10.96819122,  8.156578  , 10.0709636 , 11.35317406,\n",
       "        8.44281162,  1.19735916,  3.37013034,  4.24908158,  2.73242012,\n",
       "        2.51386267,  9.06335933,  4.52677571, 11.97742854,  7.90523107,\n",
       "        1.25173755,  5.24994202,  1.49710929,  8.08986489, 11.5118665 ,\n",
       "        6.25031792, 11.00487994,  6.06056811,  2.13737016, 11.27315707])"
      ]
     },
     "execution_count": 26,
     "metadata": {},
     "output_type": "execute_result"
    }
   ],
   "source": [
    "lr.predict(x_test)"
   ]
  },
  {
   "cell_type": "code",
   "execution_count": 36,
   "id": "b36f16df-fd86-4ccd-95a5-7e51e2e9bb11",
   "metadata": {},
   "outputs": [
    {
     "data": {
      "text/plain": [
       "[<matplotlib.lines.Line2D at 0x7972046ab380>]"
      ]
     },
     "execution_count": 36,
     "metadata": {},
     "output_type": "execute_result"
    },
    {
     "data": {
      "image/png": "[encoded data removed]",
      "text/plain": [
       "<Figure size 640x480 with 1 Axes>"
      ]
     },
     "metadata": {},
     "output_type": "display_data"
    }
   ],
   "source": [
    "plt.scatter(gpa,salary)\n",
    "plt.plot(x_train,lr.predict(x_train),color='red')"
   ]
  },
  {
   "cell_type": "code",
   "execution_count": null,
   "id": "81be5409-7d1a-42e1-a5c3-162021193f43",
   "metadata": {},
   "outputs": [],
   "source": []
  }
 ],
 "metadata": {
  "kernelspec": {
   "display_name": "Python 3 (ipykernel)",
   "language": "python",
   "name": "python3"
  },
  "language_info": {
   "codemirror_mode": {
    "name": "ipython",
    "version": 3
   },
   "file_extension": ".py",
   "mimetype": "text/x-python",
   "name": "python",
   "nbconvert_exporter": "python",
   "pygments_lexer": "ipython3",
   "version": "3.12.2"
  }
 },
 "nbformat": 4,
 "nbformat_minor": 5
}
