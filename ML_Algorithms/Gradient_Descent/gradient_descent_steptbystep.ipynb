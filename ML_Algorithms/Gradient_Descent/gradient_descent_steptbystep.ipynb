{
 "cells": [
  {
   "cell_type": "code",
   "execution_count": 43,
   "id": "f87b8be1-c2ca-49e0-a005-fa9697011bf3",
   "metadata": {},
   "outputs": [],
   "source": [
    "import numpy as np\n",
    "import pandas as pd\n",
    "import matplotlib.pyplot as plt\n",
    "from sklearn.datasets import make_regression"
   ]
  },
  {
   "cell_type": "code",
   "execution_count": 44,
   "id": "7484f3d7-49d0-4732-84db-6da18789d015",
   "metadata": {},
   "outputs": [],
   "source": [
    "x,y = make_regression(n_samples=100,n_features=1,n_informative=1,n_targets=1, noise=20)"
   ]
  },
  {
   "cell_type": "code",
   "execution_count": 45,
   "id": "3faa347f-d431-4834-be4c-da9102ad8232",
   "metadata": {},
   "outputs": [
    {
     "data": {
      "text/plain": [
       "<matplotlib.collections.PathCollection at 0x79865b472b70>"
      ]
     },
     "execution_count": 45,
     "metadata": {},
     "output_type": "execute_result"
    },
    {
     "data": {
      "image/png": "[encoded data removed]",
      "text/plain": [
       "<Figure size 640x480 with 1 Axes>"
      ]
     },
     "metadata": {},
     "output_type": "display_data"
    }
   ],
   "source": [
    "plt.scatter(x,y)"
   ]
  },
  {
   "cell_type": "markdown",
   "id": "d5923b61-b12e-404c-967a-c29f27f930fc",
   "metadata": {},
   "source": [
    "# Now first implement Ols linear Regression"
   ]
  },
  {
   "cell_type": "code",
   "execution_count": 113,
   "id": "527935d7-8102-4045-aa8f-d2da8fa65fa9",
   "metadata": {},
   "outputs": [],
   "source": [
    "from sklearn.model_selection import train_test_split\n",
    "x_train,x_test,y_train,y_test = train_test_split(x,y,test_size=0.2,random_state=20)"
   ]
  },
  {
   "cell_type": "code",
   "execution_count": 46,
   "id": "2295af02-ae94-4152-b021-a8ab06688cd4",
   "metadata": {},
   "outputs": [],
   "source": [
    "from sklearn.linear_model import LinearRegression"
   ]
  },
  {
   "cell_type": "code",
   "execution_count": 47,
   "id": "6c43f5b2-d961-45c5-b18b-4af873e4fc01",
   "metadata": {},
   "outputs": [],
   "source": [
    "lr = LinearRegression()"
   ]
  },
  {
   "cell_type": "code",
   "execution_count": 114,
   "id": "3c1f5824-7d2f-48d0-a95a-78bc5eddef6d",
   "metadata": {},
   "outputs": [
    {
     "name": "stdout",
     "output_type": "stream",
     "text": [
      "[6.4208511]\n",
      "2.368556170613692\n"
     ]
    }
   ],
   "source": [
    "lr.fit(x_train,y_train)\n",
    "print(lr.coef_)\n",
    "print(lr.intercept_)"
   ]
  },
  {
   "cell_type": "code",
   "execution_count": 56,
   "id": "765ee12f-65be-4b0e-9d2a-9de8248a4c26",
   "metadata": {},
   "outputs": [],
   "source": [
    "m = lr.coef_"
   ]
  },
  {
   "cell_type": "markdown",
   "id": "4220e853-5090-43ae-94c6-9ac873ff5d1f",
   "metadata": {},
   "source": [
    "# Now making a Class of Gradient descent where we assume we know the value of m"
   ]
  },
  {
   "cell_type": "code",
   "execution_count": 57,
   "id": "84cdd764-73cb-4241-9c44-93ec32e01844",
   "metadata": {},
   "outputs": [],
   "source": [
    "class GDRegressor:\n",
    "    def __init__(self,learning_rate,epochs):\n",
    "        self.m = m\n",
    "        self.b = -100 # packing any random value\n",
    "        self.lr = learning_rate\n",
    "        self.epochs = epochs\n",
    "\n",
    "    def fit(self,x,y):\n",
    "        # calcualte the b using GD\n",
    "        for i in range(self.epochs):\n",
    "            loss_slope = -2*np.sum(y-self.m*x.ravel() -self.b)\n",
    "            self.b = self.b - (self.lr*loss_slope)\n",
    "\n",
    "            print(loss_slope,self.b)\n",
    "\n",
    "        print(self.b)\n",
    "            \n"
   ]
  },
  {
   "cell_type": "code",
   "execution_count": 58,
   "id": "28082e39-ff3f-4446-aae8-ba20f1fc32a0",
   "metadata": {},
   "outputs": [],
   "source": [
    "gd = GDRegressor(0.001,100)"
   ]
  },
  {
   "cell_type": "code",
   "execution_count": 115,
   "id": "c15a3249-ee35-40de-8c23-0bfedab6bc29",
   "metadata": {},
   "outputs": [
    {
     "name": "stdout",
     "output_type": "stream",
     "text": [
      "6.42085109516939 2.3685561706136924\n"
     ]
    }
   ],
   "source": [
    "gd.fit(x_train,y_train)"
   ]
  },
  {
   "cell_type": "markdown",
   "id": "ca94b723-b4cf-43f6-92e8-b705e60b65fb",
   "metadata": {},
   "source": [
    "# Now doing gradient for both parameters m and b"
   ]
  },
  {
   "cell_type": "code",
   "execution_count": 108,
   "id": "6f2ea72b-d568-441e-81bd-f2faae3e4cf9",
   "metadata": {},
   "outputs": [],
   "source": [
    "class GDRegressor:\n",
    "    def __init__(self,learning_rate,epochs):\n",
    "        self.m = 10 # packing any random value\n",
    "        self.b = -10 # packing any random value\n",
    "        self.lr = learning_rate\n",
    "        self.epochs = epochs\n",
    "\n",
    "    def fit(self,x,y):\n",
    "        # calcualte the b using GD\n",
    "        for i in range(self.epochs):\n",
    "            loss_slope_b = -2*np.sum(y-self.m*x.ravel() -self.b)\n",
    "            self.b = self.b - (self.lr*loss_slope_b)\n",
    "\n",
    "            loss_slope_m = -2 * np.sum((y- self.m*x.ravel() -self.b)*x.ravel())\n",
    "            self.m = self.m- (self.lr*loss_slope_m)\n",
    "            \n",
    "\n",
    "        print(self.m,self.b)\n",
    "    def predict(self,x):\n",
    "        return self.m*x + self.b"
   ]
  },
  {
   "cell_type": "code",
   "execution_count": 109,
   "id": "3144d063-6c99-4857-ac59-288fd9db99dc",
   "metadata": {},
   "outputs": [],
   "source": [
    "gd = GDRegressor(0.01,100)"
   ]
  },
  {
   "cell_type": "code",
   "execution_count": 116,
   "id": "736dbda3-be14-49ee-8a61-e2ac7e980fc7",
   "metadata": {},
   "outputs": [
    {
     "name": "stdout",
     "output_type": "stream",
     "text": [
      "6.42085109516939 2.3685561706136924\n"
     ]
    }
   ],
   "source": [
    "gd.fit(x_train,y_train)"
   ]
  },
  {
   "cell_type": "code",
   "execution_count": 119,
   "id": "b74a2faa-2b32-41ca-b572-529e3553804e",
   "metadata": {},
   "outputs": [],
   "source": [
    "y_pred=gd.predict(x_test)"
   ]
  },
  {
   "cell_type": "code",
   "execution_count": 121,
   "id": "1f9baf2f-965e-43e9-aa60-9c33bbcae755",
   "metadata": {},
   "outputs": [
    {
     "data": {
      "text/plain": [
       "-0.20085810995811015"
      ]
     },
     "execution_count": 121,
     "metadata": {},
     "output_type": "execute_result"
    }
   ],
   "source": [
    "from sklearn.metrics import r2_score\n",
    "r2_score(y_test,y_pred)"
   ]
  },
  {
   "cell_type": "code",
   "execution_count": null,
   "id": "25baf3fd-e23f-4778-a096-8f7e104de363",
   "metadata": {},
   "outputs": [],
   "source": []
  }
 ],
 "metadata": {
  "kernelspec": {
   "display_name": "Python 3 (ipykernel)",
   "language": "python",
   "name": "python3"
  },
  "language_info": {
   "codemirror_mode": {
    "name": "ipython",
    "version": 3
   },
   "file_extension": ".py",
   "mimetype": "text/x-python",
   "name": "python",
   "nbconvert_exporter": "python",
   "pygments_lexer": "ipython3",
   "version": "3.12.2"
  }
 },
 "nbformat": 4,
 "nbformat_minor": 5
}
